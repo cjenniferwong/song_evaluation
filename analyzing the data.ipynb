{
 "cells": [
  {
   "cell_type": "code",
   "execution_count": 54,
   "metadata": {
    "ExecuteTime": {
     "end_time": "2019-04-26T04:23:12.991013Z",
     "start_time": "2019-04-26T04:23:12.985051Z"
    }
   },
   "outputs": [],
   "source": [
    "import pandas as pd\n",
    "import seaborn as sns\n",
    "import matplotlib.pyplot as plt\n",
    "%matplotlib inline\n",
    "\n",
    "import pickle\n"
   ]
  },
  {
   "cell_type": "code",
   "execution_count": 10,
   "metadata": {
    "ExecuteTime": {
     "end_time": "2019-04-26T02:18:08.527543Z",
     "start_time": "2019-04-26T02:18:08.487896Z"
    },
    "scrolled": true
   },
   "outputs": [
    {
     "data": {
      "text/html": [
       "<div>\n",
       "<style scoped>\n",
       "    .dataframe tbody tr th:only-of-type {\n",
       "        vertical-align: middle;\n",
       "    }\n",
       "\n",
       "    .dataframe tbody tr th {\n",
       "        vertical-align: top;\n",
       "    }\n",
       "\n",
       "    .dataframe thead th {\n",
       "        text-align: right;\n",
       "    }\n",
       "</style>\n",
       "<table border=\"1\" class=\"dataframe\">\n",
       "  <thead>\n",
       "    <tr style=\"text-align: right;\">\n",
       "      <th></th>\n",
       "      <th>artists</th>\n",
       "      <th>duration_ms_x</th>\n",
       "      <th>explicit</th>\n",
       "      <th>id_x</th>\n",
       "      <th>name</th>\n",
       "      <th>popularity</th>\n",
       "      <th>search_query</th>\n",
       "      <th>analysis_channels</th>\n",
       "      <th>analysis_sample_rate</th>\n",
       "      <th>duration</th>\n",
       "      <th>...</th>\n",
       "      <th>liveness</th>\n",
       "      <th>loudness_y</th>\n",
       "      <th>mode_y</th>\n",
       "      <th>speechiness</th>\n",
       "      <th>tempo_y</th>\n",
       "      <th>time_signature_y</th>\n",
       "      <th>track_href</th>\n",
       "      <th>type</th>\n",
       "      <th>uri</th>\n",
       "      <th>valence</th>\n",
       "    </tr>\n",
       "  </thead>\n",
       "  <tbody>\n",
       "    <tr>\n",
       "      <th>0</th>\n",
       "      <td>2 Chainz, Travis Scott</td>\n",
       "      <td>255560</td>\n",
       "      <td>True</td>\n",
       "      <td>1nX9KhK3Fff27SnrIor2Yb</td>\n",
       "      <td>4 AM</td>\n",
       "      <td>72</td>\n",
       "      <td>2 chainz 4 am</td>\n",
       "      <td>1</td>\n",
       "      <td>22050</td>\n",
       "      <td>255.56000</td>\n",
       "      <td>...</td>\n",
       "      <td>0.1550</td>\n",
       "      <td>-7.210</td>\n",
       "      <td>1</td>\n",
       "      <td>0.425</td>\n",
       "      <td>75.012</td>\n",
       "      <td>4</td>\n",
       "      <td>https://api.spotify.com/v1/tracks/1nX9KhK3Fff2...</td>\n",
       "      <td>audio_features</td>\n",
       "      <td>spotify:track:1nX9KhK3Fff27SnrIor2Yb</td>\n",
       "      <td>0.227</td>\n",
       "    </tr>\n",
       "    <tr>\n",
       "      <th>1</th>\n",
       "      <td>2 Chainz, Ty Dolla $ign, Trey Songz, Jhene Aiko</td>\n",
       "      <td>210200</td>\n",
       "      <td>True</td>\n",
       "      <td>6H0AwSQ20mo62jGlPGB8S6</td>\n",
       "      <td>It's A Vibe</td>\n",
       "      <td>76</td>\n",
       "      <td>2 chainz it's a vibe</td>\n",
       "      <td>1</td>\n",
       "      <td>22050</td>\n",
       "      <td>210.20000</td>\n",
       "      <td>...</td>\n",
       "      <td>0.1140</td>\n",
       "      <td>-7.384</td>\n",
       "      <td>1</td>\n",
       "      <td>0.147</td>\n",
       "      <td>73.003</td>\n",
       "      <td>4</td>\n",
       "      <td>https://api.spotify.com/v1/tracks/6H0AwSQ20mo6...</td>\n",
       "      <td>audio_features</td>\n",
       "      <td>spotify:track:6H0AwSQ20mo62jGlPGB8S6</td>\n",
       "      <td>0.523</td>\n",
       "    </tr>\n",
       "    <tr>\n",
       "      <th>2</th>\n",
       "      <td>2 Chainz, YG, Offset</td>\n",
       "      <td>234666</td>\n",
       "      <td>True</td>\n",
       "      <td>365wwIjijQdlRJEjUWTidq</td>\n",
       "      <td>PROUD</td>\n",
       "      <td>61</td>\n",
       "      <td>2 chainz proud</td>\n",
       "      <td>1</td>\n",
       "      <td>22050</td>\n",
       "      <td>234.66667</td>\n",
       "      <td>...</td>\n",
       "      <td>0.1440</td>\n",
       "      <td>-4.301</td>\n",
       "      <td>0</td>\n",
       "      <td>0.356</td>\n",
       "      <td>173.949</td>\n",
       "      <td>4</td>\n",
       "      <td>https://api.spotify.com/v1/tracks/365wwIjijQdl...</td>\n",
       "      <td>audio_features</td>\n",
       "      <td>spotify:track:365wwIjijQdlRJEjUWTidq</td>\n",
       "      <td>0.908</td>\n",
       "    </tr>\n",
       "    <tr>\n",
       "      <th>3</th>\n",
       "      <td>2 Chainz, Drake, Quavo</td>\n",
       "      <td>225893</td>\n",
       "      <td>True</td>\n",
       "      <td>5S1IUPueD0xE0vj4zU3nSf</td>\n",
       "      <td>Bigger Than You (feat. Drake &amp; Quavo)</td>\n",
       "      <td>75</td>\n",
       "      <td>2 chainz, drake bigger &gt; you</td>\n",
       "      <td>1</td>\n",
       "      <td>22050</td>\n",
       "      <td>225.89333</td>\n",
       "      <td>...</td>\n",
       "      <td>0.4460</td>\n",
       "      <td>-6.246</td>\n",
       "      <td>1</td>\n",
       "      <td>0.271</td>\n",
       "      <td>141.009</td>\n",
       "      <td>4</td>\n",
       "      <td>https://api.spotify.com/v1/tracks/5S1IUPueD0xE...</td>\n",
       "      <td>audio_features</td>\n",
       "      <td>spotify:track:5S1IUPueD0xE0vj4zU3nSf</td>\n",
       "      <td>0.264</td>\n",
       "    </tr>\n",
       "    <tr>\n",
       "      <th>4</th>\n",
       "      <td>21 Savage</td>\n",
       "      <td>220306</td>\n",
       "      <td>True</td>\n",
       "      <td>2fQrGHiQOvpL9UgPvtYy6G</td>\n",
       "      <td>Bank Account</td>\n",
       "      <td>83</td>\n",
       "      <td>21 savage bank account</td>\n",
       "      <td>1</td>\n",
       "      <td>22050</td>\n",
       "      <td>220.30667</td>\n",
       "      <td>...</td>\n",
       "      <td>0.0871</td>\n",
       "      <td>-8.228</td>\n",
       "      <td>0</td>\n",
       "      <td>0.351</td>\n",
       "      <td>75.016</td>\n",
       "      <td>4</td>\n",
       "      <td>https://api.spotify.com/v1/tracks/2fQrGHiQOvpL...</td>\n",
       "      <td>audio_features</td>\n",
       "      <td>spotify:track:2fQrGHiQOvpL9UgPvtYy6G</td>\n",
       "      <td>0.376</td>\n",
       "    </tr>\n",
       "  </tbody>\n",
       "</table>\n",
       "<p>5 rows × 44 columns</p>\n",
       "</div>"
      ],
      "text/plain": [
       "                                           artists  duration_ms_x  explicit  \\\n",
       "0                           2 Chainz, Travis Scott         255560      True   \n",
       "1  2 Chainz, Ty Dolla $ign, Trey Songz, Jhene Aiko         210200      True   \n",
       "2                             2 Chainz, YG, Offset         234666      True   \n",
       "3                           2 Chainz, Drake, Quavo         225893      True   \n",
       "4                                        21 Savage         220306      True   \n",
       "\n",
       "                     id_x                                   name  popularity  \\\n",
       "0  1nX9KhK3Fff27SnrIor2Yb                                   4 AM          72   \n",
       "1  6H0AwSQ20mo62jGlPGB8S6                            It's A Vibe          76   \n",
       "2  365wwIjijQdlRJEjUWTidq                                  PROUD          61   \n",
       "3  5S1IUPueD0xE0vj4zU3nSf  Bigger Than You (feat. Drake & Quavo)          75   \n",
       "4  2fQrGHiQOvpL9UgPvtYy6G                           Bank Account          83   \n",
       "\n",
       "                   search_query  analysis_channels  analysis_sample_rate  \\\n",
       "0                 2 chainz 4 am                  1                 22050   \n",
       "1          2 chainz it's a vibe                  1                 22050   \n",
       "2                2 chainz proud                  1                 22050   \n",
       "3  2 chainz, drake bigger > you                  1                 22050   \n",
       "4        21 savage bank account                  1                 22050   \n",
       "\n",
       "    duration  ...  liveness loudness_y  mode_y  speechiness  tempo_y  \\\n",
       "0  255.56000  ...    0.1550     -7.210       1        0.425   75.012   \n",
       "1  210.20000  ...    0.1140     -7.384       1        0.147   73.003   \n",
       "2  234.66667  ...    0.1440     -4.301       0        0.356  173.949   \n",
       "3  225.89333  ...    0.4460     -6.246       1        0.271  141.009   \n",
       "4  220.30667  ...    0.0871     -8.228       0        0.351   75.016   \n",
       "\n",
       "   time_signature_y                                         track_href  \\\n",
       "0                 4  https://api.spotify.com/v1/tracks/1nX9KhK3Fff2...   \n",
       "1                 4  https://api.spotify.com/v1/tracks/6H0AwSQ20mo6...   \n",
       "2                 4  https://api.spotify.com/v1/tracks/365wwIjijQdl...   \n",
       "3                 4  https://api.spotify.com/v1/tracks/5S1IUPueD0xE...   \n",
       "4                 4  https://api.spotify.com/v1/tracks/2fQrGHiQOvpL...   \n",
       "\n",
       "             type                                   uri  valence  \n",
       "0  audio_features  spotify:track:1nX9KhK3Fff27SnrIor2Yb    0.227  \n",
       "1  audio_features  spotify:track:6H0AwSQ20mo62jGlPGB8S6    0.523  \n",
       "2  audio_features  spotify:track:365wwIjijQdlRJEjUWTidq    0.908  \n",
       "3  audio_features  spotify:track:5S1IUPueD0xE0vj4zU3nSf    0.264  \n",
       "4  audio_features  spotify:track:2fQrGHiQOvpL9UgPvtYy6G    0.376  \n",
       "\n",
       "[5 rows x 44 columns]"
      ]
     },
     "execution_count": 10,
     "metadata": {},
     "output_type": "execute_result"
    }
   ],
   "source": [
    "file_path = 'data/all_data.csv'\n",
    "data = pd.read_csv(file_path)\n",
    "data.head()"
   ]
  },
  {
   "cell_type": "markdown",
   "metadata": {},
   "source": [
    "## Need to do some EDA\n",
    "1. What is the distribution of songs\n",
    "2. who are the most popular and who are the least popular artists\n",
    "3. what currently is the most correlated with the number of weeks a song is in the billboards\n",
    "    - hey have i considered the time that the song has been released? because it doesnt give new songs that chance to have the same amount of time as older songs!!!!!"
   ]
  },
  {
   "cell_type": "code",
   "execution_count": 11,
   "metadata": {
    "ExecuteTime": {
     "end_time": "2019-04-26T02:18:09.170924Z",
     "start_time": "2019-04-26T02:18:09.166471Z"
    }
   },
   "outputs": [
    {
     "data": {
      "text/plain": [
       "Index(['artists', 'duration_ms_x', 'explicit', 'id_x', 'name', 'popularity',\n",
       "       'search_query', 'analysis_channels', 'analysis_sample_rate', 'duration',\n",
       "       'end_of_fade_in', 'id_y', 'key_x', 'key_confidence', 'loudness_x',\n",
       "       'mode_x', 'mode_confidence', 'num_samples', 'offset_seconds',\n",
       "       'sample_md5', 'start_of_fade_out', 'tempo_x', 'tempo_confidence',\n",
       "       'time_signature_x', 'time_signature_confidence', 'window_seconds',\n",
       "       'acousticness', 'analysis_url', 'danceability', 'duration_ms_y',\n",
       "       'energy', 'id', 'instrumentalness', 'key_y', 'liveness', 'loudness_y',\n",
       "       'mode_y', 'speechiness', 'tempo_y', 'time_signature_y', 'track_href',\n",
       "       'type', 'uri', 'valence'],\n",
       "      dtype='object')"
      ]
     },
     "execution_count": 11,
     "metadata": {},
     "output_type": "execute_result"
    }
   ],
   "source": [
    "data.columns"
   ]
  },
  {
   "cell_type": "code",
   "execution_count": 12,
   "metadata": {
    "ExecuteTime": {
     "end_time": "2019-04-26T02:18:10.140611Z",
     "start_time": "2019-04-26T02:18:10.134194Z"
    }
   },
   "outputs": [
    {
     "data": {
      "text/plain": [
       "Index(['artists', 'duration_ms_x', 'explicit', 'id_x', 'name', 'popularity',\n",
       "       'search_query', 'analysis_channels', 'analysis_sample_rate', 'duration',\n",
       "       'end_of_fade_in', 'key_x', 'key_confidence', 'loudness_x', 'mode_x',\n",
       "       'mode_confidence', 'num_samples', 'offset_seconds', 'sample_md5',\n",
       "       'start_of_fade_out', 'tempo_x', 'tempo_confidence', 'time_signature_x',\n",
       "       'time_signature_confidence', 'window_seconds', 'acousticness',\n",
       "       'analysis_url', 'danceability', 'energy', 'instrumentalness',\n",
       "       'liveness', 'speechiness', 'track_href', 'type', 'uri', 'valence'],\n",
       "      dtype='object')"
      ]
     },
     "execution_count": 12,
     "metadata": {},
     "output_type": "execute_result"
    }
   ],
   "source": [
    "# seems like I have some repeat columns so I'm going to drop those\n",
    "\n",
    "drop_repeats = [column for column in data.columns if '_y' in column]\n",
    "# there is an extra id column so adding that to the list\n",
    "drop_repeats.append('id')\n",
    "drop_repeats\n",
    "data.drop(drop_repeats, axis=1, inplace=True)\n",
    "data.columns"
   ]
  },
  {
   "cell_type": "code",
   "execution_count": 13,
   "metadata": {
    "ExecuteTime": {
     "end_time": "2019-04-26T02:18:17.636676Z",
     "start_time": "2019-04-26T02:18:17.631334Z"
    }
   },
   "outputs": [
    {
     "data": {
      "text/plain": [
       "Index(['artists', 'duration_ms', 'explicit', 'id', 'name', 'popularity',\n",
       "       'search_query', 'analysis_channels', 'analysis_sample_rate', 'duration',\n",
       "       'end_of_fade_in', 'key', 'key_confidence', 'loudness', 'mode',\n",
       "       'mode_confidence', 'num_samples', 'offset_seconds', 'sample_md5',\n",
       "       'start_of_fade_out', 'tempo', 'tempo_confidence', 'time_signature',\n",
       "       'time_signature_confidence', 'window_seconds', 'acousticness',\n",
       "       'analysis_url', 'danceability', 'energy', 'instrumentalness',\n",
       "       'liveness', 'speechiness', 'track_href', 'type', 'uri', 'valence'],\n",
       "      dtype='object')"
      ]
     },
     "execution_count": 13,
     "metadata": {},
     "output_type": "execute_result"
    }
   ],
   "source": [
    "rename_columns = [column.replace('_x', '') for column in data.columns]\n",
    "\n",
    "data.columns = rename_columns\n",
    "# checking my work\n",
    "data.columns"
   ]
  },
  {
   "cell_type": "code",
   "execution_count": 14,
   "metadata": {
    "ExecuteTime": {
     "end_time": "2019-04-26T02:18:21.465638Z",
     "start_time": "2019-04-26T02:18:21.454876Z"
    }
   },
   "outputs": [
    {
     "name": "stdout",
     "output_type": "stream",
     "text": [
      "<class 'pandas.core.frame.DataFrame'>\n",
      "RangeIndex: 837 entries, 0 to 836\n",
      "Data columns (total 36 columns):\n",
      "artists                      837 non-null object\n",
      "duration_ms                  837 non-null int64\n",
      "explicit                     837 non-null bool\n",
      "id                           837 non-null object\n",
      "name                         837 non-null object\n",
      "popularity                   837 non-null int64\n",
      "search_query                 837 non-null object\n",
      "analysis_channels            837 non-null int64\n",
      "analysis_sample_rate         837 non-null int64\n",
      "duration                     837 non-null float64\n",
      "end_of_fade_in               837 non-null float64\n",
      "key                          837 non-null int64\n",
      "key_confidence               837 non-null float64\n",
      "loudness                     837 non-null float64\n",
      "mode                         837 non-null int64\n",
      "mode_confidence              837 non-null float64\n",
      "num_samples                  837 non-null int64\n",
      "offset_seconds               837 non-null int64\n",
      "sample_md5                   0 non-null float64\n",
      "start_of_fade_out            837 non-null float64\n",
      "tempo                        837 non-null float64\n",
      "tempo_confidence             837 non-null float64\n",
      "time_signature               837 non-null int64\n",
      "time_signature_confidence    837 non-null float64\n",
      "window_seconds               837 non-null int64\n",
      "acousticness                 837 non-null float64\n",
      "analysis_url                 837 non-null object\n",
      "danceability                 837 non-null float64\n",
      "energy                       837 non-null float64\n",
      "instrumentalness             837 non-null float64\n",
      "liveness                     837 non-null float64\n",
      "speechiness                  837 non-null float64\n",
      "track_href                   837 non-null object\n",
      "type                         837 non-null object\n",
      "uri                          837 non-null object\n",
      "valence                      837 non-null float64\n",
      "dtypes: bool(1), float64(17), int64(10), object(8)\n",
      "memory usage: 229.8+ KB\n"
     ]
    }
   ],
   "source": [
    "data.info()"
   ]
  },
  {
   "cell_type": "code",
   "execution_count": 15,
   "metadata": {
    "ExecuteTime": {
     "end_time": "2019-04-26T02:18:40.817938Z",
     "start_time": "2019-04-26T02:18:40.814130Z"
    }
   },
   "outputs": [],
   "source": [
    "# sample_md5 is missing values so I should drop that \n",
    "\n",
    "data.drop('sample_md5', axis=1, inplace=True)"
   ]
  },
  {
   "cell_type": "code",
   "execution_count": 16,
   "metadata": {
    "ExecuteTime": {
     "end_time": "2019-04-26T02:18:46.069247Z",
     "start_time": "2019-04-26T02:18:46.045918Z"
    }
   },
   "outputs": [
    {
     "data": {
      "text/html": [
       "<div>\n",
       "<style scoped>\n",
       "    .dataframe tbody tr th:only-of-type {\n",
       "        vertical-align: middle;\n",
       "    }\n",
       "\n",
       "    .dataframe tbody tr th {\n",
       "        vertical-align: top;\n",
       "    }\n",
       "\n",
       "    .dataframe thead th {\n",
       "        text-align: right;\n",
       "    }\n",
       "</style>\n",
       "<table border=\"1\" class=\"dataframe\">\n",
       "  <thead>\n",
       "    <tr style=\"text-align: right;\">\n",
       "      <th></th>\n",
       "      <th>artists</th>\n",
       "      <th>duration_ms</th>\n",
       "      <th>explicit</th>\n",
       "      <th>id</th>\n",
       "      <th>name</th>\n",
       "      <th>popularity</th>\n",
       "      <th>search_query</th>\n",
       "      <th>analysis_channels</th>\n",
       "      <th>analysis_sample_rate</th>\n",
       "      <th>duration</th>\n",
       "      <th>...</th>\n",
       "      <th>analysis_url</th>\n",
       "      <th>danceability</th>\n",
       "      <th>energy</th>\n",
       "      <th>instrumentalness</th>\n",
       "      <th>liveness</th>\n",
       "      <th>speechiness</th>\n",
       "      <th>track_href</th>\n",
       "      <th>type</th>\n",
       "      <th>uri</th>\n",
       "      <th>valence</th>\n",
       "    </tr>\n",
       "  </thead>\n",
       "  <tbody>\n",
       "    <tr>\n",
       "      <th>0</th>\n",
       "      <td>2 Chainz, Travis Scott</td>\n",
       "      <td>255560</td>\n",
       "      <td>True</td>\n",
       "      <td>1nX9KhK3Fff27SnrIor2Yb</td>\n",
       "      <td>4 AM</td>\n",
       "      <td>72</td>\n",
       "      <td>2 chainz 4 am</td>\n",
       "      <td>1</td>\n",
       "      <td>22050</td>\n",
       "      <td>255.56000</td>\n",
       "      <td>...</td>\n",
       "      <td>https://api.spotify.com/v1/audio-analysis/1nX9...</td>\n",
       "      <td>0.796</td>\n",
       "      <td>0.500</td>\n",
       "      <td>0.000000</td>\n",
       "      <td>0.1550</td>\n",
       "      <td>0.425</td>\n",
       "      <td>https://api.spotify.com/v1/tracks/1nX9KhK3Fff2...</td>\n",
       "      <td>audio_features</td>\n",
       "      <td>spotify:track:1nX9KhK3Fff27SnrIor2Yb</td>\n",
       "      <td>0.227</td>\n",
       "    </tr>\n",
       "    <tr>\n",
       "      <th>1</th>\n",
       "      <td>2 Chainz, Ty Dolla $ign, Trey Songz, Jhene Aiko</td>\n",
       "      <td>210200</td>\n",
       "      <td>True</td>\n",
       "      <td>6H0AwSQ20mo62jGlPGB8S6</td>\n",
       "      <td>It's A Vibe</td>\n",
       "      <td>76</td>\n",
       "      <td>2 chainz it's a vibe</td>\n",
       "      <td>1</td>\n",
       "      <td>22050</td>\n",
       "      <td>210.20000</td>\n",
       "      <td>...</td>\n",
       "      <td>https://api.spotify.com/v1/audio-analysis/6H0A...</td>\n",
       "      <td>0.822</td>\n",
       "      <td>0.505</td>\n",
       "      <td>0.000911</td>\n",
       "      <td>0.1140</td>\n",
       "      <td>0.147</td>\n",
       "      <td>https://api.spotify.com/v1/tracks/6H0AwSQ20mo6...</td>\n",
       "      <td>audio_features</td>\n",
       "      <td>spotify:track:6H0AwSQ20mo62jGlPGB8S6</td>\n",
       "      <td>0.523</td>\n",
       "    </tr>\n",
       "    <tr>\n",
       "      <th>2</th>\n",
       "      <td>2 Chainz, YG, Offset</td>\n",
       "      <td>234666</td>\n",
       "      <td>True</td>\n",
       "      <td>365wwIjijQdlRJEjUWTidq</td>\n",
       "      <td>PROUD</td>\n",
       "      <td>61</td>\n",
       "      <td>2 chainz proud</td>\n",
       "      <td>1</td>\n",
       "      <td>22050</td>\n",
       "      <td>234.66667</td>\n",
       "      <td>...</td>\n",
       "      <td>https://api.spotify.com/v1/audio-analysis/365w...</td>\n",
       "      <td>0.781</td>\n",
       "      <td>0.810</td>\n",
       "      <td>0.000000</td>\n",
       "      <td>0.1440</td>\n",
       "      <td>0.356</td>\n",
       "      <td>https://api.spotify.com/v1/tracks/365wwIjijQdl...</td>\n",
       "      <td>audio_features</td>\n",
       "      <td>spotify:track:365wwIjijQdlRJEjUWTidq</td>\n",
       "      <td>0.908</td>\n",
       "    </tr>\n",
       "    <tr>\n",
       "      <th>3</th>\n",
       "      <td>2 Chainz, Drake, Quavo</td>\n",
       "      <td>225893</td>\n",
       "      <td>True</td>\n",
       "      <td>5S1IUPueD0xE0vj4zU3nSf</td>\n",
       "      <td>Bigger Than You (feat. Drake &amp; Quavo)</td>\n",
       "      <td>75</td>\n",
       "      <td>2 chainz, drake bigger &gt; you</td>\n",
       "      <td>1</td>\n",
       "      <td>22050</td>\n",
       "      <td>225.89333</td>\n",
       "      <td>...</td>\n",
       "      <td>https://api.spotify.com/v1/audio-analysis/5S1I...</td>\n",
       "      <td>0.888</td>\n",
       "      <td>0.515</td>\n",
       "      <td>0.000000</td>\n",
       "      <td>0.4460</td>\n",
       "      <td>0.271</td>\n",
       "      <td>https://api.spotify.com/v1/tracks/5S1IUPueD0xE...</td>\n",
       "      <td>audio_features</td>\n",
       "      <td>spotify:track:5S1IUPueD0xE0vj4zU3nSf</td>\n",
       "      <td>0.264</td>\n",
       "    </tr>\n",
       "    <tr>\n",
       "      <th>4</th>\n",
       "      <td>21 Savage</td>\n",
       "      <td>220306</td>\n",
       "      <td>True</td>\n",
       "      <td>2fQrGHiQOvpL9UgPvtYy6G</td>\n",
       "      <td>Bank Account</td>\n",
       "      <td>83</td>\n",
       "      <td>21 savage bank account</td>\n",
       "      <td>1</td>\n",
       "      <td>22050</td>\n",
       "      <td>220.30667</td>\n",
       "      <td>...</td>\n",
       "      <td>https://api.spotify.com/v1/audio-analysis/2fQr...</td>\n",
       "      <td>0.884</td>\n",
       "      <td>0.346</td>\n",
       "      <td>0.000007</td>\n",
       "      <td>0.0871</td>\n",
       "      <td>0.351</td>\n",
       "      <td>https://api.spotify.com/v1/tracks/2fQrGHiQOvpL...</td>\n",
       "      <td>audio_features</td>\n",
       "      <td>spotify:track:2fQrGHiQOvpL9UgPvtYy6G</td>\n",
       "      <td>0.376</td>\n",
       "    </tr>\n",
       "  </tbody>\n",
       "</table>\n",
       "<p>5 rows × 35 columns</p>\n",
       "</div>"
      ],
      "text/plain": [
       "                                           artists  duration_ms  explicit  \\\n",
       "0                           2 Chainz, Travis Scott       255560      True   \n",
       "1  2 Chainz, Ty Dolla $ign, Trey Songz, Jhene Aiko       210200      True   \n",
       "2                             2 Chainz, YG, Offset       234666      True   \n",
       "3                           2 Chainz, Drake, Quavo       225893      True   \n",
       "4                                        21 Savage       220306      True   \n",
       "\n",
       "                       id                                   name  popularity  \\\n",
       "0  1nX9KhK3Fff27SnrIor2Yb                                   4 AM          72   \n",
       "1  6H0AwSQ20mo62jGlPGB8S6                            It's A Vibe          76   \n",
       "2  365wwIjijQdlRJEjUWTidq                                  PROUD          61   \n",
       "3  5S1IUPueD0xE0vj4zU3nSf  Bigger Than You (feat. Drake & Quavo)          75   \n",
       "4  2fQrGHiQOvpL9UgPvtYy6G                           Bank Account          83   \n",
       "\n",
       "                   search_query  analysis_channels  analysis_sample_rate  \\\n",
       "0                 2 chainz 4 am                  1                 22050   \n",
       "1          2 chainz it's a vibe                  1                 22050   \n",
       "2                2 chainz proud                  1                 22050   \n",
       "3  2 chainz, drake bigger > you                  1                 22050   \n",
       "4        21 savage bank account                  1                 22050   \n",
       "\n",
       "    duration  ...                                       analysis_url  \\\n",
       "0  255.56000  ...  https://api.spotify.com/v1/audio-analysis/1nX9...   \n",
       "1  210.20000  ...  https://api.spotify.com/v1/audio-analysis/6H0A...   \n",
       "2  234.66667  ...  https://api.spotify.com/v1/audio-analysis/365w...   \n",
       "3  225.89333  ...  https://api.spotify.com/v1/audio-analysis/5S1I...   \n",
       "4  220.30667  ...  https://api.spotify.com/v1/audio-analysis/2fQr...   \n",
       "\n",
       "   danceability  energy  instrumentalness  liveness  speechiness  \\\n",
       "0         0.796   0.500          0.000000    0.1550        0.425   \n",
       "1         0.822   0.505          0.000911    0.1140        0.147   \n",
       "2         0.781   0.810          0.000000    0.1440        0.356   \n",
       "3         0.888   0.515          0.000000    0.4460        0.271   \n",
       "4         0.884   0.346          0.000007    0.0871        0.351   \n",
       "\n",
       "                                          track_href            type  \\\n",
       "0  https://api.spotify.com/v1/tracks/1nX9KhK3Fff2...  audio_features   \n",
       "1  https://api.spotify.com/v1/tracks/6H0AwSQ20mo6...  audio_features   \n",
       "2  https://api.spotify.com/v1/tracks/365wwIjijQdl...  audio_features   \n",
       "3  https://api.spotify.com/v1/tracks/5S1IUPueD0xE...  audio_features   \n",
       "4  https://api.spotify.com/v1/tracks/2fQrGHiQOvpL...  audio_features   \n",
       "\n",
       "                                    uri  valence  \n",
       "0  spotify:track:1nX9KhK3Fff27SnrIor2Yb    0.227  \n",
       "1  spotify:track:6H0AwSQ20mo62jGlPGB8S6    0.523  \n",
       "2  spotify:track:365wwIjijQdlRJEjUWTidq    0.908  \n",
       "3  spotify:track:5S1IUPueD0xE0vj4zU3nSf    0.264  \n",
       "4  spotify:track:2fQrGHiQOvpL9UgPvtYy6G    0.376  \n",
       "\n",
       "[5 rows x 35 columns]"
      ]
     },
     "execution_count": 16,
     "metadata": {},
     "output_type": "execute_result"
    }
   ],
   "source": [
    "data.head()"
   ]
  },
  {
   "cell_type": "markdown",
   "metadata": {},
   "source": [
    "## Cleaning Data:\n",
    "\n",
    "Going through each of the columns, what is the best way to handle it"
   ]
  },
  {
   "cell_type": "markdown",
   "metadata": {},
   "source": [
    "#### artists columns"
   ]
  },
  {
   "cell_type": "code",
   "execution_count": 45,
   "metadata": {
    "ExecuteTime": {
     "end_time": "2019-04-26T04:18:10.524154Z",
     "start_time": "2019-04-26T04:18:10.519371Z"
    }
   },
   "outputs": [],
   "source": [
    "artists_df = data['artists'].apply(lambda x: x.split(', '))"
   ]
  },
  {
   "cell_type": "code",
   "execution_count": 46,
   "metadata": {
    "ExecuteTime": {
     "end_time": "2019-04-26T04:18:11.200292Z",
     "start_time": "2019-04-26T04:18:10.981795Z"
    }
   },
   "outputs": [],
   "source": [
    "artists_df = pd.get_dummies(artists_df.apply(pd.Series).stack()).sum(level=0)"
   ]
  },
  {
   "cell_type": "code",
   "execution_count": 47,
   "metadata": {
    "ExecuteTime": {
     "end_time": "2019-04-26T04:18:11.272357Z",
     "start_time": "2019-04-26T04:18:11.261855Z"
    },
    "scrolled": true
   },
   "outputs": [
    {
     "data": {
      "text/plain": [
       "Drake                         61\n",
       "Migos                         29\n",
       "Future                        26\n",
       "Kendrick Lamar                25\n",
       "Post Malone                   23\n",
       "Nicki Minaj                   21\n",
       "Lil Uzi Vert                  20\n",
       "The Weeknd                    18\n",
       "Travis Scott                  18\n",
       "Cardi B                       17\n",
       "XXXTENTACION                  15\n",
       "J. Cole                       15\n",
       "Ed Sheeran                    15\n",
       "Khalid                        15\n",
       "Logic                         15\n",
       "Big Sean                      15\n",
       "Young Thug                    13\n",
       "21 Savage                     13\n",
       "Chris Brown                   12\n",
       "Gucci Mane                    12\n",
       "Ty Dolla $ign                 12\n",
       "Kodak Black                   12\n",
       "Kanye West                    11\n",
       "Offset                        10\n",
       "Quavo                         10\n",
       "Metro Boomin                  10\n",
       "Meek Mill                      9\n",
       "KIDS SEE GHOSTS                9\n",
       "Lil Yachty                     8\n",
       "YoungBoy Never Broke Again     8\n",
       "                              ..\n",
       "Loren Allred                   1\n",
       "Louis Prima                    1\n",
       "Louis Tomlinson                1\n",
       "MAX                            1\n",
       "Lil Xan                        1\n",
       "Marc Anthony                   1\n",
       "Marc E. Bassy                  1\n",
       "Marian Hill                    1\n",
       "Mason Ramsey                   1\n",
       "Max B                          1\n",
       "Walker Hayes                   1\n",
       "Wham!                          1\n",
       "Willy William                  1\n",
       "Karol G                        1\n",
       "Lady Antebellum                1\n",
       "Kelly Clarkson                 1\n",
       "Kiiara                         1\n",
       "Kip Moore                      1\n",
       "Kris Wu                        1\n",
       "LANCO                          1\n",
       "Labrinth                       1\n",
       "Lamb                           1\n",
       "Lil Tracy                      1\n",
       "Lauren Jauregui                1\n",
       "Lauv                           1\n",
       "Lee Brice                      1\n",
       "Lil Dicky                      1\n",
       "Lil Durk                       1\n",
       "Lil Peep                       1\n",
       "watt                           1\n",
       "Length: 431, dtype: int64"
      ]
     },
     "execution_count": 47,
     "metadata": {},
     "output_type": "execute_result"
    }
   ],
   "source": [
    "artists_df.sum().sort_values(ascending=False)"
   ]
  },
  {
   "cell_type": "markdown",
   "metadata": {},
   "source": [
    "NTS: what does the evolution of Drake sound like (according to the data?)"
   ]
  },
  {
   "cell_type": "markdown",
   "metadata": {},
   "source": [
    "#### explict\n",
    "Python already knows that  true to 1 and false to 0"
   ]
  },
  {
   "cell_type": "code",
   "execution_count": 50,
   "metadata": {
    "ExecuteTime": {
     "end_time": "2019-04-26T04:21:32.507141Z",
     "start_time": "2019-04-26T04:21:32.503063Z"
    }
   },
   "outputs": [
    {
     "data": {
      "text/plain": [
       "Index(['artists', 'duration_ms', 'explicit', 'id', 'name', 'popularity',\n",
       "       'search_query', 'analysis_channels', 'analysis_sample_rate', 'duration',\n",
       "       'end_of_fade_in', 'key', 'key_confidence', 'loudness', 'mode',\n",
       "       'mode_confidence', 'num_samples', 'offset_seconds', 'start_of_fade_out',\n",
       "       'tempo', 'tempo_confidence', 'time_signature',\n",
       "       'time_signature_confidence', 'window_seconds', 'acousticness',\n",
       "       'analysis_url', 'danceability', 'energy', 'instrumentalness',\n",
       "       'liveness', 'speechiness', 'track_href', 'type', 'uri', 'valence'],\n",
       "      dtype='object')"
      ]
     },
     "execution_count": 50,
     "metadata": {},
     "output_type": "execute_result"
    }
   ],
   "source": [
    "data.columns"
   ]
  },
  {
   "cell_type": "code",
   "execution_count": 51,
   "metadata": {
    "ExecuteTime": {
     "end_time": "2019-04-26T04:22:03.206762Z",
     "start_time": "2019-04-26T04:22:03.202195Z"
    }
   },
   "outputs": [
    {
     "data": {
      "text/plain": [
       "{1}"
      ]
     },
     "execution_count": 51,
     "metadata": {},
     "output_type": "execute_result"
    }
   ],
   "source": [
    "set(data['analysis_channels'].values) # that means i need to drop this column since it provides no signal"
   ]
  },
  {
   "cell_type": "code",
   "execution_count": 52,
   "metadata": {
    "ExecuteTime": {
     "end_time": "2019-04-26T04:22:27.198128Z",
     "start_time": "2019-04-26T04:22:27.194014Z"
    }
   },
   "outputs": [
    {
     "data": {
      "text/plain": [
       "{22050}"
      ]
     },
     "execution_count": 52,
     "metadata": {},
     "output_type": "execute_result"
    }
   ],
   "source": [
    "set(data['analysis_sample_rate'].values) # that means i need to drop this column since it provides no signal"
   ]
  },
  {
   "cell_type": "code",
   "execution_count": 55,
   "metadata": {
    "ExecuteTime": {
     "end_time": "2019-04-26T04:23:17.802684Z",
     "start_time": "2019-04-26T04:23:17.545300Z"
    }
   },
   "outputs": [
    {
     "data": {
      "image/png": "[encoded data removed]",
      "text/plain": [
       "<Figure size 432x288 with 1 Axes>"
      ]
     },
     "metadata": {
      "needs_background": "light"
     },
     "output_type": "display_data"
    }
   ],
   "source": [
    "data['end_of_fade_in'].hist(); # what does this even mean though\n"
   ]
  },
  {
   "cell_type": "code",
   "execution_count": 57,
   "metadata": {
    "ExecuteTime": {
     "end_time": "2019-04-26T04:23:59.965167Z",
     "start_time": "2019-04-26T04:23:59.769985Z"
    }
   },
   "outputs": [
    {
     "data": {
      "text/plain": [
       "<matplotlib.axes._subplots.AxesSubplot at 0x1a359eac18>"
      ]
     },
     "execution_count": 57,
     "metadata": {},
     "output_type": "execute_result"
    },
    {
     "data": {
      "image/png": "[encoded data removed]",
      "text/plain": [
       "<Figure size 432x288 with 1 Axes>"
      ]
     },
     "metadata": {
      "needs_background": "light"
     },
     "output_type": "display_data"
    }
   ],
   "source": [
    "data['key_confidence'].hist() # what does this even mean"
   ]
  },
  {
   "cell_type": "code",
   "execution_count": 59,
   "metadata": {
    "ExecuteTime": {
     "end_time": "2019-04-26T04:24:36.183045Z",
     "start_time": "2019-04-26T04:24:35.946245Z"
    }
   },
   "outputs": [
    {
     "data": {
      "text/plain": [
       "<matplotlib.axes._subplots.AxesSubplot at 0x1a35e35e80>"
      ]
     },
     "execution_count": 59,
     "metadata": {},
     "output_type": "execute_result"
    },
    {
     "data": {
      "image/png": "[encoded data removed]",
      "text/plain": [
       "<Figure size 432x288 with 1 Axes>"
      ]
     },
     "metadata": {
      "needs_background": "light"
     },
     "output_type": "display_data"
    }
   ],
   "source": [
    "data['num_samples'].hist() # what does this mean"
   ]
  },
  {
   "cell_type": "code",
   "execution_count": null,
   "metadata": {},
   "outputs": [],
   "source": []
  },
  {
   "cell_type": "code",
   "execution_count": null,
   "metadata": {},
   "outputs": [],
   "source": []
  },
  {
   "cell_type": "code",
   "execution_count": null,
   "metadata": {},
   "outputs": [],
   "source": []
  },
  {
   "cell_type": "code",
   "execution_count": null,
   "metadata": {},
   "outputs": [],
   "source": []
  },
  {
   "cell_type": "code",
   "execution_count": null,
   "metadata": {},
   "outputs": [],
   "source": []
  },
  {
   "cell_type": "code",
   "execution_count": null,
   "metadata": {},
   "outputs": [],
   "source": []
  },
  {
   "cell_type": "code",
   "execution_count": null,
   "metadata": {},
   "outputs": [],
   "source": []
  },
  {
   "cell_type": "code",
   "execution_count": null,
   "metadata": {},
   "outputs": [],
   "source": []
  },
  {
   "cell_type": "code",
   "execution_count": 60,
   "metadata": {
    "ExecuteTime": {
     "end_time": "2019-04-26T04:30:21.121802Z",
     "start_time": "2019-04-26T04:30:21.117438Z"
    }
   },
   "outputs": [],
   "source": [
    "pickle.dump(artists_df, open('data/artists_df_dummied.pkl', 'wb'))"
   ]
  },
  {
   "cell_type": "markdown",
   "metadata": {},
   "source": [
    "NTS: there are more features about the artist that you can get from the APi but thats for later when i have more time"
   ]
  },
  {
   "cell_type": "code",
   "execution_count": null,
   "metadata": {},
   "outputs": [],
   "source": []
  }
 ],
 "metadata": {
  "kernelspec": {
   "display_name": "Python 3",
   "language": "python",
   "name": "python3"
  },
  "language_info": {
   "codemirror_mode": {
    "name": "ipython",
    "version": 3
   },
   "file_extension": ".py",
   "mimetype": "text/x-python",
   "name": "python",
   "nbconvert_exporter": "python",
   "pygments_lexer": "ipython3",
   "version": "3.7.3"
  }
 },
 "nbformat": 4,
 "nbformat_minor": 2
}
