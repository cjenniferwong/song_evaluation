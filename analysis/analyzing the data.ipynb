{
 "cells": [
  {
   "cell_type": "markdown",
   "metadata": {},
   "source": [
    "## Initial analysis on the data to see what I have to work with and what data I would like to get"
   ]
  },
  {
   "cell_type": "code",
   "execution_count": 1,
   "metadata": {
    "ExecuteTime": {
     "end_time": "2019-04-27T16:08:23.423991Z",
     "start_time": "2019-04-27T16:08:22.473956Z"
    }
   },
   "outputs": [],
   "source": [
    "import pandas as pd\n",
    "import numpy as np\n",
    "import seaborn as sns\n",
    "import matplotlib.pyplot as plt\n",
    "%matplotlib inline\n",
    "\n",
    "import pickle\n"
   ]
  },
  {
   "cell_type": "code",
   "execution_count": 2,
   "metadata": {
    "ExecuteTime": {
     "end_time": "2019-04-27T16:08:23.505141Z",
     "start_time": "2019-04-27T16:08:23.426142Z"
    },
    "scrolled": true
   },
   "outputs": [
    {
     "data": {
      "text/html": [
       "<div>\n",
       "<style scoped>\n",
       "    .dataframe tbody tr th:only-of-type {\n",
       "        vertical-align: middle;\n",
       "    }\n",
       "\n",
       "    .dataframe tbody tr th {\n",
       "        vertical-align: top;\n",
       "    }\n",
       "\n",
       "    .dataframe thead th {\n",
       "        text-align: right;\n",
       "    }\n",
       "</style>\n",
       "<table border=\"1\" class=\"dataframe\">\n",
       "  <thead>\n",
       "    <tr style=\"text-align: right;\">\n",
       "      <th></th>\n",
       "      <th>artists</th>\n",
       "      <th>duration_ms_x</th>\n",
       "      <th>explicit</th>\n",
       "      <th>id_x</th>\n",
       "      <th>name</th>\n",
       "      <th>popularity</th>\n",
       "      <th>search_query</th>\n",
       "      <th>acousticness</th>\n",
       "      <th>danceability</th>\n",
       "      <th>duration_ms_y</th>\n",
       "      <th>...</th>\n",
       "      <th>mode_confidence</th>\n",
       "      <th>num_samples</th>\n",
       "      <th>offset_seconds</th>\n",
       "      <th>sample_md5</th>\n",
       "      <th>start_of_fade_out</th>\n",
       "      <th>tempo_y</th>\n",
       "      <th>tempo_confidence</th>\n",
       "      <th>time_signature_y</th>\n",
       "      <th>time_signature_confidence</th>\n",
       "      <th>window_seconds</th>\n",
       "    </tr>\n",
       "  </thead>\n",
       "  <tbody>\n",
       "    <tr>\n",
       "      <th>0</th>\n",
       "      <td>2 Chainz, Travis Scott</td>\n",
       "      <td>255560.0</td>\n",
       "      <td>True</td>\n",
       "      <td>1nX9KhK3Fff27SnrIor2Yb</td>\n",
       "      <td>4 AM</td>\n",
       "      <td>72.0</td>\n",
       "      <td>2 chainz 4 am</td>\n",
       "      <td>0.1180</td>\n",
       "      <td>0.796</td>\n",
       "      <td>255560.0</td>\n",
       "      <td>...</td>\n",
       "      <td>0.516</td>\n",
       "      <td>5635098.0</td>\n",
       "      <td>0.0</td>\n",
       "      <td>NaN</td>\n",
       "      <td>252.70857</td>\n",
       "      <td>75.012</td>\n",
       "      <td>0.580</td>\n",
       "      <td>4.0</td>\n",
       "      <td>1.000</td>\n",
       "      <td>0.0</td>\n",
       "    </tr>\n",
       "    <tr>\n",
       "      <th>1</th>\n",
       "      <td>2 Chainz, Ty Dolla $ign, Trey Songz, Jhene Aiko</td>\n",
       "      <td>210200.0</td>\n",
       "      <td>True</td>\n",
       "      <td>6H0AwSQ20mo62jGlPGB8S6</td>\n",
       "      <td>It's A Vibe</td>\n",
       "      <td>76.0</td>\n",
       "      <td>2 chainz it's a vibe</td>\n",
       "      <td>0.0317</td>\n",
       "      <td>0.822</td>\n",
       "      <td>210200.0</td>\n",
       "      <td>...</td>\n",
       "      <td>0.436</td>\n",
       "      <td>4634910.0</td>\n",
       "      <td>0.0</td>\n",
       "      <td>NaN</td>\n",
       "      <td>198.87891</td>\n",
       "      <td>73.003</td>\n",
       "      <td>0.297</td>\n",
       "      <td>4.0</td>\n",
       "      <td>1.000</td>\n",
       "      <td>0.0</td>\n",
       "    </tr>\n",
       "    <tr>\n",
       "      <th>2</th>\n",
       "      <td>2 Chainz, YG, Offset</td>\n",
       "      <td>234666.0</td>\n",
       "      <td>True</td>\n",
       "      <td>365wwIjijQdlRJEjUWTidq</td>\n",
       "      <td>PROUD</td>\n",
       "      <td>61.0</td>\n",
       "      <td>2 chainz proud</td>\n",
       "      <td>0.7380</td>\n",
       "      <td>0.781</td>\n",
       "      <td>234667.0</td>\n",
       "      <td>...</td>\n",
       "      <td>0.499</td>\n",
       "      <td>5174400.0</td>\n",
       "      <td>0.0</td>\n",
       "      <td>NaN</td>\n",
       "      <td>230.01687</td>\n",
       "      <td>173.949</td>\n",
       "      <td>0.578</td>\n",
       "      <td>4.0</td>\n",
       "      <td>1.000</td>\n",
       "      <td>0.0</td>\n",
       "    </tr>\n",
       "    <tr>\n",
       "      <th>3</th>\n",
       "      <td>NaN</td>\n",
       "      <td>NaN</td>\n",
       "      <td>NaN</td>\n",
       "      <td>NaN</td>\n",
       "      <td>NaN</td>\n",
       "      <td>NaN</td>\n",
       "      <td>2 chainz x gucci mane x quavo good drank</td>\n",
       "      <td>NaN</td>\n",
       "      <td>NaN</td>\n",
       "      <td>NaN</td>\n",
       "      <td>...</td>\n",
       "      <td>NaN</td>\n",
       "      <td>NaN</td>\n",
       "      <td>NaN</td>\n",
       "      <td>NaN</td>\n",
       "      <td>NaN</td>\n",
       "      <td>NaN</td>\n",
       "      <td>NaN</td>\n",
       "      <td>NaN</td>\n",
       "      <td>NaN</td>\n",
       "      <td>NaN</td>\n",
       "    </tr>\n",
       "    <tr>\n",
       "      <th>4</th>\n",
       "      <td>2 Chainz, Drake, Quavo</td>\n",
       "      <td>225893.0</td>\n",
       "      <td>True</td>\n",
       "      <td>5S1IUPueD0xE0vj4zU3nSf</td>\n",
       "      <td>Bigger Than You (feat. Drake &amp; Quavo)</td>\n",
       "      <td>75.0</td>\n",
       "      <td>2 chainz, drake bigger &gt; you</td>\n",
       "      <td>0.2470</td>\n",
       "      <td>0.888</td>\n",
       "      <td>225893.0</td>\n",
       "      <td>...</td>\n",
       "      <td>0.700</td>\n",
       "      <td>4980948.0</td>\n",
       "      <td>0.0</td>\n",
       "      <td>NaN</td>\n",
       "      <td>221.88408</td>\n",
       "      <td>141.009</td>\n",
       "      <td>0.753</td>\n",
       "      <td>4.0</td>\n",
       "      <td>0.971</td>\n",
       "      <td>0.0</td>\n",
       "    </tr>\n",
       "  </tbody>\n",
       "</table>\n",
       "<p>5 rows × 41 columns</p>\n",
       "</div>"
      ],
      "text/plain": [
       "                                           artists  duration_ms_x explicit  \\\n",
       "0                           2 Chainz, Travis Scott       255560.0     True   \n",
       "1  2 Chainz, Ty Dolla $ign, Trey Songz, Jhene Aiko       210200.0     True   \n",
       "2                             2 Chainz, YG, Offset       234666.0     True   \n",
       "3                                              NaN            NaN      NaN   \n",
       "4                           2 Chainz, Drake, Quavo       225893.0     True   \n",
       "\n",
       "                     id_x                                   name  popularity  \\\n",
       "0  1nX9KhK3Fff27SnrIor2Yb                                   4 AM        72.0   \n",
       "1  6H0AwSQ20mo62jGlPGB8S6                            It's A Vibe        76.0   \n",
       "2  365wwIjijQdlRJEjUWTidq                                  PROUD        61.0   \n",
       "3                     NaN                                    NaN         NaN   \n",
       "4  5S1IUPueD0xE0vj4zU3nSf  Bigger Than You (feat. Drake & Quavo)        75.0   \n",
       "\n",
       "                               search_query  acousticness  danceability  \\\n",
       "0                             2 chainz 4 am        0.1180         0.796   \n",
       "1                      2 chainz it's a vibe        0.0317         0.822   \n",
       "2                            2 chainz proud        0.7380         0.781   \n",
       "3  2 chainz x gucci mane x quavo good drank           NaN           NaN   \n",
       "4              2 chainz, drake bigger > you        0.2470         0.888   \n",
       "\n",
       "   duration_ms_y  ...  mode_confidence num_samples  offset_seconds  \\\n",
       "0       255560.0  ...            0.516   5635098.0             0.0   \n",
       "1       210200.0  ...            0.436   4634910.0             0.0   \n",
       "2       234667.0  ...            0.499   5174400.0             0.0   \n",
       "3            NaN  ...              NaN         NaN             NaN   \n",
       "4       225893.0  ...            0.700   4980948.0             0.0   \n",
       "\n",
       "   sample_md5  start_of_fade_out  tempo_y  tempo_confidence  time_signature_y  \\\n",
       "0         NaN          252.70857   75.012             0.580               4.0   \n",
       "1         NaN          198.87891   73.003             0.297               4.0   \n",
       "2         NaN          230.01687  173.949             0.578               4.0   \n",
       "3         NaN                NaN      NaN               NaN               NaN   \n",
       "4         NaN          221.88408  141.009             0.753               4.0   \n",
       "\n",
       "   time_signature_confidence  window_seconds  \n",
       "0                      1.000             0.0  \n",
       "1                      1.000             0.0  \n",
       "2                      1.000             0.0  \n",
       "3                        NaN             NaN  \n",
       "4                      0.971             0.0  \n",
       "\n",
       "[5 rows x 41 columns]"
      ]
     },
     "execution_count": 2,
     "metadata": {},
     "output_type": "execute_result"
    }
   ],
   "source": [
    "file_path = '../data/all_data.csv'\n",
    "data = pd.read_csv(file_path)\n",
    "data.head()"
   ]
  },
  {
   "cell_type": "markdown",
   "metadata": {},
   "source": [
    "## Need to do some EDA\n",
    "1. What is the distribution of songs\n",
    "2. who are the most popular and who are the least popular artists\n",
    "3. what currently is the most correlated with the number of weeks a song is in the billboards\n",
    "    - hey have i considered the time that the song has been released? because it doesnt give new songs that chance to have the same amount of time as older songs!!!!!"
   ]
  },
  {
   "cell_type": "code",
   "execution_count": 3,
   "metadata": {
    "ExecuteTime": {
     "end_time": "2019-04-27T16:08:23.511067Z",
     "start_time": "2019-04-27T16:08:23.507088Z"
    }
   },
   "outputs": [
    {
     "data": {
      "text/plain": [
       "Index(['artists', 'duration_ms_x', 'explicit', 'id_x', 'name', 'popularity',\n",
       "       'search_query', 'acousticness', 'danceability', 'duration_ms_y',\n",
       "       'energy', 'id_y', 'instrumentalness', 'key_x', 'liveness', 'loudness_x',\n",
       "       'mode_x', 'speechiness', 'tempo_x', 'time_signature_x', 'uri',\n",
       "       'valence', 'analysis_channels', 'analysis_sample_rate', 'duration',\n",
       "       'end_of_fade_in', 'id', 'key_y', 'key_confidence', 'loudness_y',\n",
       "       'mode_y', 'mode_confidence', 'num_samples', 'offset_seconds',\n",
       "       'sample_md5', 'start_of_fade_out', 'tempo_y', 'tempo_confidence',\n",
       "       'time_signature_y', 'time_signature_confidence', 'window_seconds'],\n",
       "      dtype='object')"
      ]
     },
     "execution_count": 3,
     "metadata": {},
     "output_type": "execute_result"
    }
   ],
   "source": [
    "data.columns"
   ]
  },
  {
   "cell_type": "code",
   "execution_count": 4,
   "metadata": {
    "ExecuteTime": {
     "end_time": "2019-04-27T16:08:23.520109Z",
     "start_time": "2019-04-27T16:08:23.512773Z"
    }
   },
   "outputs": [
    {
     "data": {
      "text/plain": [
       "Index(['artists', 'duration_ms_x', 'explicit', 'id_x', 'name', 'popularity',\n",
       "       'search_query', 'acousticness', 'danceability', 'energy',\n",
       "       'instrumentalness', 'key_x', 'liveness', 'loudness_x', 'mode_x',\n",
       "       'speechiness', 'tempo_x', 'time_signature_x', 'uri', 'valence',\n",
       "       'analysis_channels', 'analysis_sample_rate', 'duration',\n",
       "       'end_of_fade_in', 'key_confidence', 'mode_confidence', 'num_samples',\n",
       "       'offset_seconds', 'sample_md5', 'start_of_fade_out', 'tempo_confidence',\n",
       "       'time_signature_confidence', 'window_seconds'],\n",
       "      dtype='object')"
      ]
     },
     "execution_count": 4,
     "metadata": {},
     "output_type": "execute_result"
    }
   ],
   "source": [
    "# seems like I have some repeat columns so I'm going to drop those\n",
    "\n",
    "drop_repeats = [column for column in data.columns if '_y' in column]\n",
    "# there is an extra id column so adding that to the list\n",
    "drop_repeats.append('id')\n",
    "drop_repeats\n",
    "data.drop(drop_repeats, axis=1, inplace=True)\n",
    "data.columns"
   ]
  },
  {
   "cell_type": "code",
   "execution_count": 5,
   "metadata": {
    "ExecuteTime": {
     "end_time": "2019-04-27T16:08:23.625793Z",
     "start_time": "2019-04-27T16:08:23.617868Z"
    }
   },
   "outputs": [
    {
     "data": {
      "text/plain": [
       "Index(['artists', 'duration_ms', 'explicit', 'id', 'name', 'popularity',\n",
       "       'search_query', 'acousticness', 'danceability', 'energy',\n",
       "       'instrumentalness', 'key', 'liveness', 'loudness', 'mode',\n",
       "       'speechiness', 'tempo', 'time_signature', 'uri', 'valence',\n",
       "       'analysis_channels', 'analysis_sample_rate', 'duration',\n",
       "       'end_of_fade_in', 'key_confidence', 'mode_confidence', 'num_samples',\n",
       "       'offset_seconds', 'sample_md5', 'start_of_fade_out', 'tempo_confidence',\n",
       "       'time_signature_confidence', 'window_seconds'],\n",
       "      dtype='object')"
      ]
     },
     "execution_count": 5,
     "metadata": {},
     "output_type": "execute_result"
    }
   ],
   "source": [
    "rename_columns = [column.replace('_x', '') for column in data.columns]\n",
    "\n",
    "data.columns = rename_columns\n",
    "# checking my work\n",
    "data.columns"
   ]
  },
  {
   "cell_type": "code",
   "execution_count": 6,
   "metadata": {
    "ExecuteTime": {
     "end_time": "2019-04-27T16:08:24.908260Z",
     "start_time": "2019-04-27T16:08:24.898191Z"
    },
    "scrolled": true
   },
   "outputs": [
    {
     "name": "stdout",
     "output_type": "stream",
     "text": [
      "<class 'pandas.core.frame.DataFrame'>\n",
      "RangeIndex: 828 entries, 0 to 827\n",
      "Data columns (total 33 columns):\n",
      "artists                      809 non-null object\n",
      "duration_ms                  809 non-null float64\n",
      "explicit                     809 non-null object\n",
      "id                           809 non-null object\n",
      "name                         809 non-null object\n",
      "popularity                   809 non-null float64\n",
      "search_query                 828 non-null object\n",
      "acousticness                 809 non-null float64\n",
      "danceability                 809 non-null float64\n",
      "energy                       809 non-null float64\n",
      "instrumentalness             809 non-null float64\n",
      "key                          809 non-null float64\n",
      "liveness                     809 non-null float64\n",
      "loudness                     809 non-null float64\n",
      "mode                         809 non-null float64\n",
      "speechiness                  809 non-null float64\n",
      "tempo                        809 non-null float64\n",
      "time_signature               809 non-null float64\n",
      "uri                          809 non-null object\n",
      "valence                      809 non-null float64\n",
      "analysis_channels            809 non-null float64\n",
      "analysis_sample_rate         809 non-null float64\n",
      "duration                     809 non-null float64\n",
      "end_of_fade_in               809 non-null float64\n",
      "key_confidence               809 non-null float64\n",
      "mode_confidence              809 non-null float64\n",
      "num_samples                  809 non-null float64\n",
      "offset_seconds               809 non-null float64\n",
      "sample_md5                   0 non-null float64\n",
      "start_of_fade_out            809 non-null float64\n",
      "tempo_confidence             809 non-null float64\n",
      "time_signature_confidence    809 non-null float64\n",
      "window_seconds               809 non-null float64\n",
      "dtypes: float64(27), object(6)\n",
      "memory usage: 213.5+ KB\n"
     ]
    }
   ],
   "source": [
    "data.info()"
   ]
  },
  {
   "cell_type": "code",
   "execution_count": 7,
   "metadata": {
    "ExecuteTime": {
     "end_time": "2019-04-27T16:08:28.668870Z",
     "start_time": "2019-04-27T16:08:28.664827Z"
    }
   },
   "outputs": [],
   "source": [
    "# sample_md5 is missing values so I should drop that \n",
    "\n",
    "data.drop('sample_md5', axis=1, inplace=True)"
   ]
  },
  {
   "cell_type": "code",
   "execution_count": 8,
   "metadata": {
    "ExecuteTime": {
     "end_time": "2019-04-27T16:08:28.837234Z",
     "start_time": "2019-04-27T16:08:28.808987Z"
    }
   },
   "outputs": [
    {
     "data": {
      "text/html": [
       "<div>\n",
       "<style scoped>\n",
       "    .dataframe tbody tr th:only-of-type {\n",
       "        vertical-align: middle;\n",
       "    }\n",
       "\n",
       "    .dataframe tbody tr th {\n",
       "        vertical-align: top;\n",
       "    }\n",
       "\n",
       "    .dataframe thead th {\n",
       "        text-align: right;\n",
       "    }\n",
       "</style>\n",
       "<table border=\"1\" class=\"dataframe\">\n",
       "  <thead>\n",
       "    <tr style=\"text-align: right;\">\n",
       "      <th></th>\n",
       "      <th>artists</th>\n",
       "      <th>duration_ms</th>\n",
       "      <th>explicit</th>\n",
       "      <th>id</th>\n",
       "      <th>name</th>\n",
       "      <th>popularity</th>\n",
       "      <th>search_query</th>\n",
       "      <th>acousticness</th>\n",
       "      <th>danceability</th>\n",
       "      <th>energy</th>\n",
       "      <th>...</th>\n",
       "      <th>duration</th>\n",
       "      <th>end_of_fade_in</th>\n",
       "      <th>key_confidence</th>\n",
       "      <th>mode_confidence</th>\n",
       "      <th>num_samples</th>\n",
       "      <th>offset_seconds</th>\n",
       "      <th>start_of_fade_out</th>\n",
       "      <th>tempo_confidence</th>\n",
       "      <th>time_signature_confidence</th>\n",
       "      <th>window_seconds</th>\n",
       "    </tr>\n",
       "  </thead>\n",
       "  <tbody>\n",
       "    <tr>\n",
       "      <th>0</th>\n",
       "      <td>2 Chainz, Travis Scott</td>\n",
       "      <td>255560.0</td>\n",
       "      <td>True</td>\n",
       "      <td>1nX9KhK3Fff27SnrIor2Yb</td>\n",
       "      <td>4 AM</td>\n",
       "      <td>72.0</td>\n",
       "      <td>2 chainz 4 am</td>\n",
       "      <td>0.1180</td>\n",
       "      <td>0.796</td>\n",
       "      <td>0.500</td>\n",
       "      <td>...</td>\n",
       "      <td>255.56000</td>\n",
       "      <td>0.00000</td>\n",
       "      <td>0.271</td>\n",
       "      <td>0.516</td>\n",
       "      <td>5635098.0</td>\n",
       "      <td>0.0</td>\n",
       "      <td>252.70857</td>\n",
       "      <td>0.580</td>\n",
       "      <td>1.000</td>\n",
       "      <td>0.0</td>\n",
       "    </tr>\n",
       "    <tr>\n",
       "      <th>1</th>\n",
       "      <td>2 Chainz, Ty Dolla $ign, Trey Songz, Jhene Aiko</td>\n",
       "      <td>210200.0</td>\n",
       "      <td>True</td>\n",
       "      <td>6H0AwSQ20mo62jGlPGB8S6</td>\n",
       "      <td>It's A Vibe</td>\n",
       "      <td>76.0</td>\n",
       "      <td>2 chainz it's a vibe</td>\n",
       "      <td>0.0317</td>\n",
       "      <td>0.822</td>\n",
       "      <td>0.505</td>\n",
       "      <td>...</td>\n",
       "      <td>210.20000</td>\n",
       "      <td>0.00000</td>\n",
       "      <td>0.281</td>\n",
       "      <td>0.436</td>\n",
       "      <td>4634910.0</td>\n",
       "      <td>0.0</td>\n",
       "      <td>198.87891</td>\n",
       "      <td>0.297</td>\n",
       "      <td>1.000</td>\n",
       "      <td>0.0</td>\n",
       "    </tr>\n",
       "    <tr>\n",
       "      <th>2</th>\n",
       "      <td>2 Chainz, YG, Offset</td>\n",
       "      <td>234666.0</td>\n",
       "      <td>True</td>\n",
       "      <td>365wwIjijQdlRJEjUWTidq</td>\n",
       "      <td>PROUD</td>\n",
       "      <td>61.0</td>\n",
       "      <td>2 chainz proud</td>\n",
       "      <td>0.7380</td>\n",
       "      <td>0.781</td>\n",
       "      <td>0.810</td>\n",
       "      <td>...</td>\n",
       "      <td>234.66667</td>\n",
       "      <td>0.08689</td>\n",
       "      <td>0.353</td>\n",
       "      <td>0.499</td>\n",
       "      <td>5174400.0</td>\n",
       "      <td>0.0</td>\n",
       "      <td>230.01687</td>\n",
       "      <td>0.578</td>\n",
       "      <td>1.000</td>\n",
       "      <td>0.0</td>\n",
       "    </tr>\n",
       "    <tr>\n",
       "      <th>3</th>\n",
       "      <td>NaN</td>\n",
       "      <td>NaN</td>\n",
       "      <td>NaN</td>\n",
       "      <td>NaN</td>\n",
       "      <td>NaN</td>\n",
       "      <td>NaN</td>\n",
       "      <td>2 chainz x gucci mane x quavo good drank</td>\n",
       "      <td>NaN</td>\n",
       "      <td>NaN</td>\n",
       "      <td>NaN</td>\n",
       "      <td>...</td>\n",
       "      <td>NaN</td>\n",
       "      <td>NaN</td>\n",
       "      <td>NaN</td>\n",
       "      <td>NaN</td>\n",
       "      <td>NaN</td>\n",
       "      <td>NaN</td>\n",
       "      <td>NaN</td>\n",
       "      <td>NaN</td>\n",
       "      <td>NaN</td>\n",
       "      <td>NaN</td>\n",
       "    </tr>\n",
       "    <tr>\n",
       "      <th>4</th>\n",
       "      <td>2 Chainz, Drake, Quavo</td>\n",
       "      <td>225893.0</td>\n",
       "      <td>True</td>\n",
       "      <td>5S1IUPueD0xE0vj4zU3nSf</td>\n",
       "      <td>Bigger Than You (feat. Drake &amp; Quavo)</td>\n",
       "      <td>75.0</td>\n",
       "      <td>2 chainz, drake bigger &gt; you</td>\n",
       "      <td>0.2470</td>\n",
       "      <td>0.888</td>\n",
       "      <td>0.515</td>\n",
       "      <td>...</td>\n",
       "      <td>225.89333</td>\n",
       "      <td>2.51356</td>\n",
       "      <td>0.802</td>\n",
       "      <td>0.700</td>\n",
       "      <td>4980948.0</td>\n",
       "      <td>0.0</td>\n",
       "      <td>221.88408</td>\n",
       "      <td>0.753</td>\n",
       "      <td>0.971</td>\n",
       "      <td>0.0</td>\n",
       "    </tr>\n",
       "  </tbody>\n",
       "</table>\n",
       "<p>5 rows × 32 columns</p>\n",
       "</div>"
      ],
      "text/plain": [
       "                                           artists  duration_ms explicit  \\\n",
       "0                           2 Chainz, Travis Scott     255560.0     True   \n",
       "1  2 Chainz, Ty Dolla $ign, Trey Songz, Jhene Aiko     210200.0     True   \n",
       "2                             2 Chainz, YG, Offset     234666.0     True   \n",
       "3                                              NaN          NaN      NaN   \n",
       "4                           2 Chainz, Drake, Quavo     225893.0     True   \n",
       "\n",
       "                       id                                   name  popularity  \\\n",
       "0  1nX9KhK3Fff27SnrIor2Yb                                   4 AM        72.0   \n",
       "1  6H0AwSQ20mo62jGlPGB8S6                            It's A Vibe        76.0   \n",
       "2  365wwIjijQdlRJEjUWTidq                                  PROUD        61.0   \n",
       "3                     NaN                                    NaN         NaN   \n",
       "4  5S1IUPueD0xE0vj4zU3nSf  Bigger Than You (feat. Drake & Quavo)        75.0   \n",
       "\n",
       "                               search_query  acousticness  danceability  \\\n",
       "0                             2 chainz 4 am        0.1180         0.796   \n",
       "1                      2 chainz it's a vibe        0.0317         0.822   \n",
       "2                            2 chainz proud        0.7380         0.781   \n",
       "3  2 chainz x gucci mane x quavo good drank           NaN           NaN   \n",
       "4              2 chainz, drake bigger > you        0.2470         0.888   \n",
       "\n",
       "   energy  ...   duration  end_of_fade_in  key_confidence  mode_confidence  \\\n",
       "0   0.500  ...  255.56000         0.00000           0.271            0.516   \n",
       "1   0.505  ...  210.20000         0.00000           0.281            0.436   \n",
       "2   0.810  ...  234.66667         0.08689           0.353            0.499   \n",
       "3     NaN  ...        NaN             NaN             NaN              NaN   \n",
       "4   0.515  ...  225.89333         2.51356           0.802            0.700   \n",
       "\n",
       "   num_samples  offset_seconds  start_of_fade_out  tempo_confidence  \\\n",
       "0    5635098.0             0.0          252.70857             0.580   \n",
       "1    4634910.0             0.0          198.87891             0.297   \n",
       "2    5174400.0             0.0          230.01687             0.578   \n",
       "3          NaN             NaN                NaN               NaN   \n",
       "4    4980948.0             0.0          221.88408             0.753   \n",
       "\n",
       "  time_signature_confidence  window_seconds  \n",
       "0                     1.000             0.0  \n",
       "1                     1.000             0.0  \n",
       "2                     1.000             0.0  \n",
       "3                       NaN             NaN  \n",
       "4                     0.971             0.0  \n",
       "\n",
       "[5 rows x 32 columns]"
      ]
     },
     "execution_count": 8,
     "metadata": {},
     "output_type": "execute_result"
    }
   ],
   "source": [
    "data.head()"
   ]
  },
  {
   "cell_type": "code",
   "execution_count": 10,
   "metadata": {
    "ExecuteTime": {
     "end_time": "2019-04-27T16:08:41.149340Z",
     "start_time": "2019-04-27T16:08:41.143959Z"
    },
    "scrolled": true
   },
   "outputs": [],
   "source": [
    "# i want to know what songs are missing so that i can manually get those since i want to get as much data as possible\n",
    "\n",
    "data[data.explicit.isna()].to_csv('../data/missing_data_songs.csv', index=False)"
   ]
  },
  {
   "cell_type": "markdown",
   "metadata": {},
   "source": [
    "## Cleaning Data:\n",
    "\n",
    "Going through each of the columns, what is the best way to handle it"
   ]
  },
  {
   "cell_type": "markdown",
   "metadata": {},
   "source": [
    "#### artists columns"
   ]
  },
  {
   "cell_type": "code",
   "execution_count": null,
   "metadata": {
    "ExecuteTime": {
     "end_time": "2019-04-27T15:56:37.579745Z",
     "start_time": "2019-04-27T15:56:37.574581Z"
    }
   },
   "outputs": [],
   "source": [
    "data['artists'].fillna('missing', inplace=True)\n",
    "artists_df = data['artists'].apply(lambda x: x.split(', '))"
   ]
  },
  {
   "cell_type": "code",
   "execution_count": null,
   "metadata": {
    "ExecuteTime": {
     "end_time": "2019-04-27T15:56:38.931771Z",
     "start_time": "2019-04-27T15:56:38.700728Z"
    }
   },
   "outputs": [],
   "source": [
    "artists_df = pd.get_dummies(artists_df.apply(pd.Series).stack()).sum(level=0)"
   ]
  },
  {
   "cell_type": "code",
   "execution_count": null,
   "metadata": {
    "ExecuteTime": {
     "end_time": "2019-04-27T15:56:39.128934Z",
     "start_time": "2019-04-27T15:56:39.117070Z"
    },
    "scrolled": true
   },
   "outputs": [],
   "source": [
    "artists_df.sum().sort_values(ascending=False)"
   ]
  },
  {
   "cell_type": "markdown",
   "metadata": {},
   "source": [
    "NTS: what does the evolution of Drake sound like (according to the data?)"
   ]
  },
  {
   "cell_type": "markdown",
   "metadata": {},
   "source": [
    "#### explict\n",
    "Python already knows that  true to 1 and false to 0"
   ]
  },
  {
   "cell_type": "code",
   "execution_count": null,
   "metadata": {
    "ExecuteTime": {
     "end_time": "2019-04-27T15:56:45.832567Z",
     "start_time": "2019-04-27T15:56:45.828194Z"
    }
   },
   "outputs": [],
   "source": [
    "data.columns"
   ]
  },
  {
   "cell_type": "code",
   "execution_count": null,
   "metadata": {
    "ExecuteTime": {
     "end_time": "2019-04-27T15:56:47.617617Z",
     "start_time": "2019-04-27T15:56:47.612443Z"
    }
   },
   "outputs": [],
   "source": [
    "set(data['analysis_channels'].values) # that means i need to drop this column since it provides no signal"
   ]
  },
  {
   "cell_type": "code",
   "execution_count": null,
   "metadata": {
    "ExecuteTime": {
     "end_time": "2019-04-27T15:56:53.632875Z",
     "start_time": "2019-04-27T15:56:53.628373Z"
    }
   },
   "outputs": [],
   "source": [
    "set(data['analysis_sample_rate'].values) # that means i need to drop this column since it provides no signal"
   ]
  },
  {
   "cell_type": "code",
   "execution_count": null,
   "metadata": {
    "ExecuteTime": {
     "end_time": "2019-04-27T15:56:58.737242Z",
     "start_time": "2019-04-27T15:56:58.540246Z"
    }
   },
   "outputs": [],
   "source": [
    "data['end_of_fade_in'].hist(); # what does this even mean though\n"
   ]
  },
  {
   "cell_type": "code",
   "execution_count": null,
   "metadata": {
    "ExecuteTime": {
     "end_time": "2019-04-27T15:57:00.158170Z",
     "start_time": "2019-04-27T15:56:59.980855Z"
    }
   },
   "outputs": [],
   "source": [
    "data['key_confidence'].hist() # what does this even mean\n",
    "\n",
    "# i would like know the songs that have low confidence what do they have in common and i want to know\n",
    "# why they have low confidence like whats wrong bb it ok!!"
   ]
  },
  {
   "cell_type": "code",
   "execution_count": null,
   "metadata": {
    "ExecuteTime": {
     "end_time": "2019-04-27T15:57:01.749263Z",
     "start_time": "2019-04-27T15:57:01.572115Z"
    }
   },
   "outputs": [],
   "source": [
    "data['num_samples'].hist() # what does this mean"
   ]
  },
  {
   "cell_type": "code",
   "execution_count": null,
   "metadata": {},
   "outputs": [],
   "source": []
  },
  {
   "cell_type": "code",
   "execution_count": null,
   "metadata": {},
   "outputs": [],
   "source": []
  },
  {
   "cell_type": "code",
   "execution_count": null,
   "metadata": {},
   "outputs": [],
   "source": []
  },
  {
   "cell_type": "code",
   "execution_count": null,
   "metadata": {},
   "outputs": [],
   "source": []
  },
  {
   "cell_type": "code",
   "execution_count": null,
   "metadata": {},
   "outputs": [],
   "source": []
  },
  {
   "cell_type": "code",
   "execution_count": null,
   "metadata": {},
   "outputs": [],
   "source": []
  },
  {
   "cell_type": "code",
   "execution_count": null,
   "metadata": {},
   "outputs": [],
   "source": []
  },
  {
   "cell_type": "code",
   "execution_count": null,
   "metadata": {},
   "outputs": [],
   "source": []
  },
  {
   "cell_type": "code",
   "execution_count": null,
   "metadata": {
    "ExecuteTime": {
     "end_time": "2019-04-26T04:30:21.121802Z",
     "start_time": "2019-04-26T04:30:21.117438Z"
    }
   },
   "outputs": [],
   "source": [
    "pickle.dump(artists_df, open('data/artists_df_dummied.pkl', 'wb'))"
   ]
  },
  {
   "cell_type": "code",
   "execution_count": null,
   "metadata": {},
   "outputs": [],
   "source": []
  }
 ],
 "metadata": {
  "kernelspec": {
   "display_name": "Python 3",
   "language": "python",
   "name": "python3"
  },
  "language_info": {
   "codemirror_mode": {
    "name": "ipython",
    "version": 3
   },
   "file_extension": ".py",
   "mimetype": "text/x-python",
   "name": "python",
   "nbconvert_exporter": "python",
   "pygments_lexer": "ipython3",
   "version": "3.7.3"
  }
 },
 "nbformat": 4,
 "nbformat_minor": 2
}
