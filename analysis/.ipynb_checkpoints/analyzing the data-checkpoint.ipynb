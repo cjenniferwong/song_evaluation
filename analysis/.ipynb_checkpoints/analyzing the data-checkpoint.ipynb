{
 "cells": [
  {
   "cell_type": "markdown",
   "metadata": {},
   "source": [
    "## Initial analysis on the data to see what I have to work with and what data I would like to get"
   ]
  },
  {
   "cell_type": "code",
   "execution_count": 44,
   "metadata": {
    "ExecuteTime": {
     "end_time": "2019-04-27T22:10:34.942479Z",
     "start_time": "2019-04-27T22:10:34.937273Z"
    }
   },
   "outputs": [],
   "source": [
    "import pandas as pd\n",
    "import numpy as np\n",
    "import seaborn as sns\n",
    "import matplotlib.pyplot as plt\n",
    "%matplotlib inline\n",
    "\n",
    "import pickle\n",
    "from datetime import datetime"
   ]
  },
  {
   "cell_type": "code",
   "execution_count": 22,
   "metadata": {
    "ExecuteTime": {
     "end_time": "2019-04-27T22:09:42.556497Z",
     "start_time": "2019-04-27T22:09:42.515618Z"
    },
    "scrolled": true
   },
   "outputs": [
    {
     "data": {
      "text/html": [
       "<div>\n",
       "<style scoped>\n",
       "    .dataframe tbody tr th:only-of-type {\n",
       "        vertical-align: middle;\n",
       "    }\n",
       "\n",
       "    .dataframe tbody tr th {\n",
       "        vertical-align: top;\n",
       "    }\n",
       "\n",
       "    .dataframe thead th {\n",
       "        text-align: right;\n",
       "    }\n",
       "</style>\n",
       "<table border=\"1\" class=\"dataframe\">\n",
       "  <thead>\n",
       "    <tr style=\"text-align: right;\">\n",
       "      <th></th>\n",
       "      <th>artists</th>\n",
       "      <th>duration_ms_x</th>\n",
       "      <th>explicit</th>\n",
       "      <th>id_x</th>\n",
       "      <th>name</th>\n",
       "      <th>popularity</th>\n",
       "      <th>search_query</th>\n",
       "      <th>acousticness</th>\n",
       "      <th>analysis_url</th>\n",
       "      <th>danceability</th>\n",
       "      <th>...</th>\n",
       "      <th>mode_confidence</th>\n",
       "      <th>num_samples</th>\n",
       "      <th>offset_seconds</th>\n",
       "      <th>sample_md5</th>\n",
       "      <th>start_of_fade_out</th>\n",
       "      <th>tempo_y</th>\n",
       "      <th>tempo_confidence</th>\n",
       "      <th>time_signature_y</th>\n",
       "      <th>time_signature_confidence</th>\n",
       "      <th>window_seconds</th>\n",
       "    </tr>\n",
       "  </thead>\n",
       "  <tbody>\n",
       "    <tr>\n",
       "      <th>0</th>\n",
       "      <td>2 Chainz, Travis Scott</td>\n",
       "      <td>255560.0</td>\n",
       "      <td>True</td>\n",
       "      <td>1nX9KhK3Fff27SnrIor2Yb</td>\n",
       "      <td>4 AM</td>\n",
       "      <td>72.0</td>\n",
       "      <td>2 chainz 4 am</td>\n",
       "      <td>0.1180</td>\n",
       "      <td>https://api.spotify.com/v1/audio-analysis/1nX9...</td>\n",
       "      <td>0.796</td>\n",
       "      <td>...</td>\n",
       "      <td>0.516</td>\n",
       "      <td>5635098</td>\n",
       "      <td>0</td>\n",
       "      <td>NaN</td>\n",
       "      <td>252.70857</td>\n",
       "      <td>75.012</td>\n",
       "      <td>0.580</td>\n",
       "      <td>4</td>\n",
       "      <td>1.000</td>\n",
       "      <td>0</td>\n",
       "    </tr>\n",
       "    <tr>\n",
       "      <th>1</th>\n",
       "      <td>2 Chainz, Ty Dolla $ign, Trey Songz, Jhene Aiko</td>\n",
       "      <td>210200.0</td>\n",
       "      <td>True</td>\n",
       "      <td>6H0AwSQ20mo62jGlPGB8S6</td>\n",
       "      <td>It's A Vibe</td>\n",
       "      <td>76.0</td>\n",
       "      <td>2 chainz it's a vibe</td>\n",
       "      <td>0.0317</td>\n",
       "      <td>https://api.spotify.com/v1/audio-analysis/6H0A...</td>\n",
       "      <td>0.822</td>\n",
       "      <td>...</td>\n",
       "      <td>0.436</td>\n",
       "      <td>4634910</td>\n",
       "      <td>0</td>\n",
       "      <td>NaN</td>\n",
       "      <td>198.87891</td>\n",
       "      <td>73.003</td>\n",
       "      <td>0.297</td>\n",
       "      <td>4</td>\n",
       "      <td>1.000</td>\n",
       "      <td>0</td>\n",
       "    </tr>\n",
       "    <tr>\n",
       "      <th>2</th>\n",
       "      <td>2 Chainz, YG, Offset</td>\n",
       "      <td>234666.0</td>\n",
       "      <td>True</td>\n",
       "      <td>365wwIjijQdlRJEjUWTidq</td>\n",
       "      <td>PROUD</td>\n",
       "      <td>61.0</td>\n",
       "      <td>2 chainz proud</td>\n",
       "      <td>0.7380</td>\n",
       "      <td>https://api.spotify.com/v1/audio-analysis/365w...</td>\n",
       "      <td>0.781</td>\n",
       "      <td>...</td>\n",
       "      <td>0.499</td>\n",
       "      <td>5174400</td>\n",
       "      <td>0</td>\n",
       "      <td>NaN</td>\n",
       "      <td>230.01687</td>\n",
       "      <td>173.949</td>\n",
       "      <td>0.578</td>\n",
       "      <td>4</td>\n",
       "      <td>1.000</td>\n",
       "      <td>0</td>\n",
       "    </tr>\n",
       "    <tr>\n",
       "      <th>3</th>\n",
       "      <td>2 Chainz, Drake, Quavo</td>\n",
       "      <td>225893.0</td>\n",
       "      <td>True</td>\n",
       "      <td>5S1IUPueD0xE0vj4zU3nSf</td>\n",
       "      <td>Bigger Than You (feat. Drake &amp; Quavo)</td>\n",
       "      <td>75.0</td>\n",
       "      <td>2 chainz, drake bigger &gt; you</td>\n",
       "      <td>0.2470</td>\n",
       "      <td>https://api.spotify.com/v1/audio-analysis/5S1I...</td>\n",
       "      <td>0.888</td>\n",
       "      <td>...</td>\n",
       "      <td>0.700</td>\n",
       "      <td>4980948</td>\n",
       "      <td>0</td>\n",
       "      <td>NaN</td>\n",
       "      <td>221.88408</td>\n",
       "      <td>141.009</td>\n",
       "      <td>0.753</td>\n",
       "      <td>4</td>\n",
       "      <td>0.971</td>\n",
       "      <td>0</td>\n",
       "    </tr>\n",
       "    <tr>\n",
       "      <th>4</th>\n",
       "      <td>21 Savage</td>\n",
       "      <td>220306.0</td>\n",
       "      <td>True</td>\n",
       "      <td>2fQrGHiQOvpL9UgPvtYy6G</td>\n",
       "      <td>Bank Account</td>\n",
       "      <td>83.0</td>\n",
       "      <td>21 savage bank account</td>\n",
       "      <td>0.0151</td>\n",
       "      <td>https://api.spotify.com/v1/audio-analysis/2fQr...</td>\n",
       "      <td>0.884</td>\n",
       "      <td>...</td>\n",
       "      <td>0.570</td>\n",
       "      <td>4857762</td>\n",
       "      <td>0</td>\n",
       "      <td>NaN</td>\n",
       "      <td>216.70603</td>\n",
       "      <td>75.016</td>\n",
       "      <td>0.841</td>\n",
       "      <td>4</td>\n",
       "      <td>1.000</td>\n",
       "      <td>0</td>\n",
       "    </tr>\n",
       "  </tbody>\n",
       "</table>\n",
       "<p>5 rows × 44 columns</p>\n",
       "</div>"
      ],
      "text/plain": [
       "                                           artists  duration_ms_x  explicit  \\\n",
       "0                           2 Chainz, Travis Scott       255560.0      True   \n",
       "1  2 Chainz, Ty Dolla $ign, Trey Songz, Jhene Aiko       210200.0      True   \n",
       "2                             2 Chainz, YG, Offset       234666.0      True   \n",
       "3                           2 Chainz, Drake, Quavo       225893.0      True   \n",
       "4                                        21 Savage       220306.0      True   \n",
       "\n",
       "                     id_x                                   name  popularity  \\\n",
       "0  1nX9KhK3Fff27SnrIor2Yb                                   4 AM        72.0   \n",
       "1  6H0AwSQ20mo62jGlPGB8S6                            It's A Vibe        76.0   \n",
       "2  365wwIjijQdlRJEjUWTidq                                  PROUD        61.0   \n",
       "3  5S1IUPueD0xE0vj4zU3nSf  Bigger Than You (feat. Drake & Quavo)        75.0   \n",
       "4  2fQrGHiQOvpL9UgPvtYy6G                           Bank Account        83.0   \n",
       "\n",
       "                   search_query  acousticness  \\\n",
       "0                 2 chainz 4 am        0.1180   \n",
       "1          2 chainz it's a vibe        0.0317   \n",
       "2                2 chainz proud        0.7380   \n",
       "3  2 chainz, drake bigger > you        0.2470   \n",
       "4        21 savage bank account        0.0151   \n",
       "\n",
       "                                        analysis_url  danceability  ...  \\\n",
       "0  https://api.spotify.com/v1/audio-analysis/1nX9...         0.796  ...   \n",
       "1  https://api.spotify.com/v1/audio-analysis/6H0A...         0.822  ...   \n",
       "2  https://api.spotify.com/v1/audio-analysis/365w...         0.781  ...   \n",
       "3  https://api.spotify.com/v1/audio-analysis/5S1I...         0.888  ...   \n",
       "4  https://api.spotify.com/v1/audio-analysis/2fQr...         0.884  ...   \n",
       "\n",
       "   mode_confidence  num_samples offset_seconds  sample_md5  start_of_fade_out  \\\n",
       "0            0.516      5635098              0         NaN          252.70857   \n",
       "1            0.436      4634910              0         NaN          198.87891   \n",
       "2            0.499      5174400              0         NaN          230.01687   \n",
       "3            0.700      4980948              0         NaN          221.88408   \n",
       "4            0.570      4857762              0         NaN          216.70603   \n",
       "\n",
       "   tempo_y  tempo_confidence  time_signature_y  time_signature_confidence  \\\n",
       "0   75.012             0.580                 4                      1.000   \n",
       "1   73.003             0.297                 4                      1.000   \n",
       "2  173.949             0.578                 4                      1.000   \n",
       "3  141.009             0.753                 4                      0.971   \n",
       "4   75.016             0.841                 4                      1.000   \n",
       "\n",
       "   window_seconds  \n",
       "0               0  \n",
       "1               0  \n",
       "2               0  \n",
       "3               0  \n",
       "4               0  \n",
       "\n",
       "[5 rows x 44 columns]"
      ]
     },
     "execution_count": 22,
     "metadata": {},
     "output_type": "execute_result"
    }
   ],
   "source": [
    "file_path = '../data/all_data.csv'\n",
    "data = pd.read_csv(file_path)\n",
    "data.head()"
   ]
  },
  {
   "cell_type": "markdown",
   "metadata": {},
   "source": [
    "## Need to do some EDA\n",
    "1. What is the distribution of songs\n",
    "2. who are the most popular and who are the least popular artists\n",
    "3. what currently is the most correlated with the number of weeks a song is in the billboards\n",
    "    - hey have i considered the time that the song has been released? because it doesnt give new songs that chance to have the same amount of time as older songs!!!!!"
   ]
  },
  {
   "cell_type": "code",
   "execution_count": 23,
   "metadata": {
    "ExecuteTime": {
     "end_time": "2019-04-27T22:09:43.373636Z",
     "start_time": "2019-04-27T22:09:43.369140Z"
    }
   },
   "outputs": [
    {
     "data": {
      "text/plain": [
       "Index(['artists', 'duration_ms_x', 'explicit', 'id_x', 'name', 'popularity',\n",
       "       'search_query', 'acousticness', 'analysis_url', 'danceability',\n",
       "       'duration_ms_y', 'energy', 'id_y', 'instrumentalness', 'key_x',\n",
       "       'liveness', 'loudness_x', 'mode_x', 'speechiness', 'tempo_x',\n",
       "       'time_signature_x', 'track_href', 'type', 'uri', 'valence',\n",
       "       'analysis_channels', 'analysis_sample_rate', 'duration',\n",
       "       'end_of_fade_in', 'id', 'key_y', 'key_confidence', 'loudness_y',\n",
       "       'mode_y', 'mode_confidence', 'num_samples', 'offset_seconds',\n",
       "       'sample_md5', 'start_of_fade_out', 'tempo_y', 'tempo_confidence',\n",
       "       'time_signature_y', 'time_signature_confidence', 'window_seconds'],\n",
       "      dtype='object')"
      ]
     },
     "execution_count": 23,
     "metadata": {},
     "output_type": "execute_result"
    }
   ],
   "source": [
    "data.columns"
   ]
  },
  {
   "cell_type": "code",
   "execution_count": 24,
   "metadata": {
    "ExecuteTime": {
     "end_time": "2019-04-27T22:09:43.633973Z",
     "start_time": "2019-04-27T22:09:43.624918Z"
    }
   },
   "outputs": [
    {
     "data": {
      "text/plain": [
       "Index(['artists', 'duration_ms_x', 'explicit', 'id_x', 'name', 'popularity',\n",
       "       'search_query', 'acousticness', 'analysis_url', 'danceability',\n",
       "       'energy', 'instrumentalness', 'key_x', 'liveness', 'loudness_x',\n",
       "       'mode_x', 'speechiness', 'tempo_x', 'time_signature_x', 'track_href',\n",
       "       'type', 'uri', 'valence', 'analysis_channels', 'analysis_sample_rate',\n",
       "       'duration', 'end_of_fade_in', 'key_confidence', 'mode_confidence',\n",
       "       'num_samples', 'offset_seconds', 'sample_md5', 'start_of_fade_out',\n",
       "       'tempo_confidence', 'time_signature_confidence', 'window_seconds'],\n",
       "      dtype='object')"
      ]
     },
     "execution_count": 24,
     "metadata": {},
     "output_type": "execute_result"
    }
   ],
   "source": [
    "# seems like I have some repeat columns so I'm going to drop those\n",
    "\n",
    "drop_repeats = [column for column in data.columns if '_y' in column]\n",
    "# there is an extra id column so adding that to the list\n",
    "drop_repeats.append('id')\n",
    "drop_repeats\n",
    "data.drop(drop_repeats, axis=1, inplace=True)\n",
    "data.columns"
   ]
  },
  {
   "cell_type": "code",
   "execution_count": 25,
   "metadata": {
    "ExecuteTime": {
     "end_time": "2019-04-27T22:09:43.902809Z",
     "start_time": "2019-04-27T22:09:43.896328Z"
    }
   },
   "outputs": [
    {
     "data": {
      "text/plain": [
       "Index(['artists', 'duration_ms', 'explicit', 'id', 'name', 'popularity',\n",
       "       'search_query', 'acousticness', 'analysis_url', 'danceability',\n",
       "       'energy', 'instrumentalness', 'key', 'liveness', 'loudness', 'mode',\n",
       "       'speechiness', 'tempo', 'time_signature', 'track_href', 'type', 'uri',\n",
       "       'valence', 'analysis_channels', 'analysis_sample_rate', 'duration',\n",
       "       'end_of_fade_in', 'key_confidence', 'mode_confidence', 'num_samples',\n",
       "       'offset_seconds', 'sample_md5', 'start_of_fade_out', 'tempo_confidence',\n",
       "       'time_signature_confidence', 'window_seconds'],\n",
       "      dtype='object')"
      ]
     },
     "execution_count": 25,
     "metadata": {},
     "output_type": "execute_result"
    }
   ],
   "source": [
    "rename_columns = [column.replace('_x', '') for column in data.columns]\n",
    "\n",
    "data.columns = rename_columns\n",
    "# checking my work\n",
    "data.columns"
   ]
  },
  {
   "cell_type": "code",
   "execution_count": 26,
   "metadata": {
    "ExecuteTime": {
     "end_time": "2019-04-27T22:09:44.099488Z",
     "start_time": "2019-04-27T22:09:44.088876Z"
    },
    "scrolled": true
   },
   "outputs": [
    {
     "name": "stdout",
     "output_type": "stream",
     "text": [
      "<class 'pandas.core.frame.DataFrame'>\n",
      "RangeIndex: 822 entries, 0 to 821\n",
      "Data columns (total 36 columns):\n",
      "artists                      822 non-null object\n",
      "duration_ms                  822 non-null float64\n",
      "explicit                     822 non-null bool\n",
      "id                           822 non-null object\n",
      "name                         822 non-null object\n",
      "popularity                   822 non-null float64\n",
      "search_query                 822 non-null object\n",
      "acousticness                 822 non-null float64\n",
      "analysis_url                 822 non-null object\n",
      "danceability                 822 non-null float64\n",
      "energy                       822 non-null float64\n",
      "instrumentalness             822 non-null float64\n",
      "key                          822 non-null int64\n",
      "liveness                     822 non-null float64\n",
      "loudness                     822 non-null float64\n",
      "mode                         822 non-null int64\n",
      "speechiness                  822 non-null float64\n",
      "tempo                        822 non-null float64\n",
      "time_signature               822 non-null int64\n",
      "track_href                   822 non-null object\n",
      "type                         822 non-null object\n",
      "uri                          822 non-null object\n",
      "valence                      822 non-null float64\n",
      "analysis_channels            822 non-null int64\n",
      "analysis_sample_rate         822 non-null int64\n",
      "duration                     822 non-null float64\n",
      "end_of_fade_in               822 non-null float64\n",
      "key_confidence               822 non-null float64\n",
      "mode_confidence              822 non-null float64\n",
      "num_samples                  822 non-null int64\n",
      "offset_seconds               822 non-null int64\n",
      "sample_md5                   0 non-null float64\n",
      "start_of_fade_out            822 non-null float64\n",
      "tempo_confidence             822 non-null float64\n",
      "time_signature_confidence    822 non-null float64\n",
      "window_seconds               822 non-null int64\n",
      "dtypes: bool(1), float64(19), int64(8), object(8)\n",
      "memory usage: 225.6+ KB\n"
     ]
    }
   ],
   "source": [
    "data.info()"
   ]
  },
  {
   "cell_type": "code",
   "execution_count": 27,
   "metadata": {
    "ExecuteTime": {
     "end_time": "2019-04-27T22:09:44.317892Z",
     "start_time": "2019-04-27T22:09:44.313862Z"
    }
   },
   "outputs": [],
   "source": [
    "# sample_md5 is missing values so I should drop that \n",
    "\n",
    "data.drop('sample_md5', axis=1, inplace=True)"
   ]
  },
  {
   "cell_type": "code",
   "execution_count": 28,
   "metadata": {
    "ExecuteTime": {
     "end_time": "2019-04-27T22:09:44.699424Z",
     "start_time": "2019-04-27T22:09:44.673902Z"
    }
   },
   "outputs": [
    {
     "data": {
      "text/html": [
       "<div>\n",
       "<style scoped>\n",
       "    .dataframe tbody tr th:only-of-type {\n",
       "        vertical-align: middle;\n",
       "    }\n",
       "\n",
       "    .dataframe tbody tr th {\n",
       "        vertical-align: top;\n",
       "    }\n",
       "\n",
       "    .dataframe thead th {\n",
       "        text-align: right;\n",
       "    }\n",
       "</style>\n",
       "<table border=\"1\" class=\"dataframe\">\n",
       "  <thead>\n",
       "    <tr style=\"text-align: right;\">\n",
       "      <th></th>\n",
       "      <th>artists</th>\n",
       "      <th>duration_ms</th>\n",
       "      <th>explicit</th>\n",
       "      <th>id</th>\n",
       "      <th>name</th>\n",
       "      <th>popularity</th>\n",
       "      <th>search_query</th>\n",
       "      <th>acousticness</th>\n",
       "      <th>analysis_url</th>\n",
       "      <th>danceability</th>\n",
       "      <th>...</th>\n",
       "      <th>duration</th>\n",
       "      <th>end_of_fade_in</th>\n",
       "      <th>key_confidence</th>\n",
       "      <th>mode_confidence</th>\n",
       "      <th>num_samples</th>\n",
       "      <th>offset_seconds</th>\n",
       "      <th>start_of_fade_out</th>\n",
       "      <th>tempo_confidence</th>\n",
       "      <th>time_signature_confidence</th>\n",
       "      <th>window_seconds</th>\n",
       "    </tr>\n",
       "  </thead>\n",
       "  <tbody>\n",
       "    <tr>\n",
       "      <th>0</th>\n",
       "      <td>2 Chainz, Travis Scott</td>\n",
       "      <td>255560.0</td>\n",
       "      <td>True</td>\n",
       "      <td>1nX9KhK3Fff27SnrIor2Yb</td>\n",
       "      <td>4 AM</td>\n",
       "      <td>72.0</td>\n",
       "      <td>2 chainz 4 am</td>\n",
       "      <td>0.1180</td>\n",
       "      <td>https://api.spotify.com/v1/audio-analysis/1nX9...</td>\n",
       "      <td>0.796</td>\n",
       "      <td>...</td>\n",
       "      <td>255.56000</td>\n",
       "      <td>0.00000</td>\n",
       "      <td>0.271</td>\n",
       "      <td>0.516</td>\n",
       "      <td>5635098</td>\n",
       "      <td>0</td>\n",
       "      <td>252.70857</td>\n",
       "      <td>0.580</td>\n",
       "      <td>1.000</td>\n",
       "      <td>0</td>\n",
       "    </tr>\n",
       "    <tr>\n",
       "      <th>1</th>\n",
       "      <td>2 Chainz, Ty Dolla $ign, Trey Songz, Jhene Aiko</td>\n",
       "      <td>210200.0</td>\n",
       "      <td>True</td>\n",
       "      <td>6H0AwSQ20mo62jGlPGB8S6</td>\n",
       "      <td>It's A Vibe</td>\n",
       "      <td>76.0</td>\n",
       "      <td>2 chainz it's a vibe</td>\n",
       "      <td>0.0317</td>\n",
       "      <td>https://api.spotify.com/v1/audio-analysis/6H0A...</td>\n",
       "      <td>0.822</td>\n",
       "      <td>...</td>\n",
       "      <td>210.20000</td>\n",
       "      <td>0.00000</td>\n",
       "      <td>0.281</td>\n",
       "      <td>0.436</td>\n",
       "      <td>4634910</td>\n",
       "      <td>0</td>\n",
       "      <td>198.87891</td>\n",
       "      <td>0.297</td>\n",
       "      <td>1.000</td>\n",
       "      <td>0</td>\n",
       "    </tr>\n",
       "    <tr>\n",
       "      <th>2</th>\n",
       "      <td>2 Chainz, YG, Offset</td>\n",
       "      <td>234666.0</td>\n",
       "      <td>True</td>\n",
       "      <td>365wwIjijQdlRJEjUWTidq</td>\n",
       "      <td>PROUD</td>\n",
       "      <td>61.0</td>\n",
       "      <td>2 chainz proud</td>\n",
       "      <td>0.7380</td>\n",
       "      <td>https://api.spotify.com/v1/audio-analysis/365w...</td>\n",
       "      <td>0.781</td>\n",
       "      <td>...</td>\n",
       "      <td>234.66667</td>\n",
       "      <td>0.08689</td>\n",
       "      <td>0.353</td>\n",
       "      <td>0.499</td>\n",
       "      <td>5174400</td>\n",
       "      <td>0</td>\n",
       "      <td>230.01687</td>\n",
       "      <td>0.578</td>\n",
       "      <td>1.000</td>\n",
       "      <td>0</td>\n",
       "    </tr>\n",
       "    <tr>\n",
       "      <th>3</th>\n",
       "      <td>2 Chainz, Drake, Quavo</td>\n",
       "      <td>225893.0</td>\n",
       "      <td>True</td>\n",
       "      <td>5S1IUPueD0xE0vj4zU3nSf</td>\n",
       "      <td>Bigger Than You (feat. Drake &amp; Quavo)</td>\n",
       "      <td>75.0</td>\n",
       "      <td>2 chainz, drake bigger &gt; you</td>\n",
       "      <td>0.2470</td>\n",
       "      <td>https://api.spotify.com/v1/audio-analysis/5S1I...</td>\n",
       "      <td>0.888</td>\n",
       "      <td>...</td>\n",
       "      <td>225.89333</td>\n",
       "      <td>2.51356</td>\n",
       "      <td>0.802</td>\n",
       "      <td>0.700</td>\n",
       "      <td>4980948</td>\n",
       "      <td>0</td>\n",
       "      <td>221.88408</td>\n",
       "      <td>0.753</td>\n",
       "      <td>0.971</td>\n",
       "      <td>0</td>\n",
       "    </tr>\n",
       "    <tr>\n",
       "      <th>4</th>\n",
       "      <td>21 Savage</td>\n",
       "      <td>220306.0</td>\n",
       "      <td>True</td>\n",
       "      <td>2fQrGHiQOvpL9UgPvtYy6G</td>\n",
       "      <td>Bank Account</td>\n",
       "      <td>83.0</td>\n",
       "      <td>21 savage bank account</td>\n",
       "      <td>0.0151</td>\n",
       "      <td>https://api.spotify.com/v1/audio-analysis/2fQr...</td>\n",
       "      <td>0.884</td>\n",
       "      <td>...</td>\n",
       "      <td>220.30667</td>\n",
       "      <td>0.18658</td>\n",
       "      <td>0.393</td>\n",
       "      <td>0.570</td>\n",
       "      <td>4857762</td>\n",
       "      <td>0</td>\n",
       "      <td>216.70603</td>\n",
       "      <td>0.841</td>\n",
       "      <td>1.000</td>\n",
       "      <td>0</td>\n",
       "    </tr>\n",
       "  </tbody>\n",
       "</table>\n",
       "<p>5 rows × 35 columns</p>\n",
       "</div>"
      ],
      "text/plain": [
       "                                           artists  duration_ms  explicit  \\\n",
       "0                           2 Chainz, Travis Scott     255560.0      True   \n",
       "1  2 Chainz, Ty Dolla $ign, Trey Songz, Jhene Aiko     210200.0      True   \n",
       "2                             2 Chainz, YG, Offset     234666.0      True   \n",
       "3                           2 Chainz, Drake, Quavo     225893.0      True   \n",
       "4                                        21 Savage     220306.0      True   \n",
       "\n",
       "                       id                                   name  popularity  \\\n",
       "0  1nX9KhK3Fff27SnrIor2Yb                                   4 AM        72.0   \n",
       "1  6H0AwSQ20mo62jGlPGB8S6                            It's A Vibe        76.0   \n",
       "2  365wwIjijQdlRJEjUWTidq                                  PROUD        61.0   \n",
       "3  5S1IUPueD0xE0vj4zU3nSf  Bigger Than You (feat. Drake & Quavo)        75.0   \n",
       "4  2fQrGHiQOvpL9UgPvtYy6G                           Bank Account        83.0   \n",
       "\n",
       "                   search_query  acousticness  \\\n",
       "0                 2 chainz 4 am        0.1180   \n",
       "1          2 chainz it's a vibe        0.0317   \n",
       "2                2 chainz proud        0.7380   \n",
       "3  2 chainz, drake bigger > you        0.2470   \n",
       "4        21 savage bank account        0.0151   \n",
       "\n",
       "                                        analysis_url  danceability  ...  \\\n",
       "0  https://api.spotify.com/v1/audio-analysis/1nX9...         0.796  ...   \n",
       "1  https://api.spotify.com/v1/audio-analysis/6H0A...         0.822  ...   \n",
       "2  https://api.spotify.com/v1/audio-analysis/365w...         0.781  ...   \n",
       "3  https://api.spotify.com/v1/audio-analysis/5S1I...         0.888  ...   \n",
       "4  https://api.spotify.com/v1/audio-analysis/2fQr...         0.884  ...   \n",
       "\n",
       "    duration  end_of_fade_in  key_confidence  mode_confidence  num_samples  \\\n",
       "0  255.56000         0.00000           0.271            0.516      5635098   \n",
       "1  210.20000         0.00000           0.281            0.436      4634910   \n",
       "2  234.66667         0.08689           0.353            0.499      5174400   \n",
       "3  225.89333         2.51356           0.802            0.700      4980948   \n",
       "4  220.30667         0.18658           0.393            0.570      4857762   \n",
       "\n",
       "   offset_seconds  start_of_fade_out  tempo_confidence  \\\n",
       "0               0          252.70857             0.580   \n",
       "1               0          198.87891             0.297   \n",
       "2               0          230.01687             0.578   \n",
       "3               0          221.88408             0.753   \n",
       "4               0          216.70603             0.841   \n",
       "\n",
       "   time_signature_confidence window_seconds  \n",
       "0                      1.000              0  \n",
       "1                      1.000              0  \n",
       "2                      1.000              0  \n",
       "3                      0.971              0  \n",
       "4                      1.000              0  \n",
       "\n",
       "[5 rows x 35 columns]"
      ]
     },
     "execution_count": 28,
     "metadata": {},
     "output_type": "execute_result"
    }
   ],
   "source": [
    "data.head()"
   ]
  },
  {
   "cell_type": "code",
   "execution_count": 29,
   "metadata": {
    "ExecuteTime": {
     "end_time": "2019-04-27T22:09:45.017736Z",
     "start_time": "2019-04-27T22:09:45.011543Z"
    },
    "scrolled": true
   },
   "outputs": [],
   "source": [
    "# i want to know what songs are missing so that i can manually get those since i want to get as much data as possible\n",
    "\n",
    "data[data.explicit.isna()].to_csv('../data/missing_data_songs.csv', index=False)"
   ]
  },
  {
   "cell_type": "markdown",
   "metadata": {},
   "source": [
    "## Cleaning Data:\n",
    "\n",
    "Going through each of the columns, what is the best way to handle it"
   ]
  },
  {
   "cell_type": "markdown",
   "metadata": {},
   "source": [
    "#### artists columns"
   ]
  },
  {
   "cell_type": "code",
   "execution_count": 30,
   "metadata": {
    "ExecuteTime": {
     "end_time": "2019-04-27T22:09:46.253300Z",
     "start_time": "2019-04-27T22:09:46.210852Z"
    }
   },
   "outputs": [],
   "source": [
    "data['artists'].fillna('missing', inplace=True)\n",
    "artists_df = data['artists'].apply(lambda x: x.split(', '))"
   ]
  },
  {
   "cell_type": "code",
   "execution_count": 31,
   "metadata": {
    "ExecuteTime": {
     "end_time": "2019-04-27T22:09:46.763371Z",
     "start_time": "2019-04-27T22:09:46.563474Z"
    }
   },
   "outputs": [],
   "source": [
    "artists_df = pd.get_dummies(artists_df.apply(pd.Series).stack()).sum(level=0)"
   ]
  },
  {
   "cell_type": "code",
   "execution_count": 32,
   "metadata": {
    "ExecuteTime": {
     "end_time": "2019-04-27T22:09:46.882360Z",
     "start_time": "2019-04-27T22:09:46.872591Z"
    },
    "scrolled": true
   },
   "outputs": [
    {
     "data": {
      "text/plain": [
       "Drake               59\n",
       "Migos               28\n",
       "Future              26\n",
       "Kendrick Lamar      23\n",
       "Post Malone         23\n",
       "Nicki Minaj         21\n",
       "Travis Scott        18\n",
       "Cardi B             18\n",
       "Lil Uzi Vert        18\n",
       "XXXTENTACION        17\n",
       "The Weeknd          16\n",
       "Ed Sheeran          15\n",
       "Big Sean            15\n",
       "21 Savage           14\n",
       "Logic               13\n",
       "Young Thug          13\n",
       "Khalid              13\n",
       "J. Cole             13\n",
       "Gucci Mane          13\n",
       "Kanye West          12\n",
       "Kodak Black         12\n",
       "Metro Boomin        11\n",
       "Quavo               11\n",
       "Chris Brown         10\n",
       "Offset              10\n",
       "Ty Dolla $ign       10\n",
       "DJ Khaled            8\n",
       "The Chainsmokers     8\n",
       "Taylor Swift         8\n",
       "Swae Lee             8\n",
       "                    ..\n",
       "Mitchell Hope        1\n",
       "Moby                 1\n",
       "Moneybagg Yo         1\n",
       "Morgan Evans         1\n",
       "Morgan Wallen        1\n",
       "N.E.R.D              1\n",
       "NERVO                1\n",
       "Nas                  1\n",
       "Nat King Cole        1\n",
       "Nick Jonas           1\n",
       "Meghan Trainor       1\n",
       "Mason Ramsey         1\n",
       "Lee Brice            1\n",
       "Marillo              1\n",
       "Lil Dicky            1\n",
       "Lil Durk             1\n",
       "Lil Peep             1\n",
       "Lil Tracy            1\n",
       "Lil Xan              1\n",
       "Little Big Town      1\n",
       "Lord Huron           1\n",
       "Loren Allred         1\n",
       "Louis Prima          1\n",
       "Louis Tomlinson      1\n",
       "Ludacris             1\n",
       "MAX                  1\n",
       "Marc Anthony         1\n",
       "Marc E. Bassy        1\n",
       "Marian Hill          1\n",
       "Kiiara               1\n",
       "Length: 435, dtype: int64"
      ]
     },
     "execution_count": 32,
     "metadata": {},
     "output_type": "execute_result"
    }
   ],
   "source": [
    "artists_df.sum().sort_values(ascending=False)"
   ]
  },
  {
   "cell_type": "markdown",
   "metadata": {},
   "source": [
    "NTS: what does the evolution of Drake sound like (according to the data?)"
   ]
  },
  {
   "cell_type": "markdown",
   "metadata": {},
   "source": [
    "#### explict\n",
    "Python already knows that  true to 1 and false to 0"
   ]
  },
  {
   "cell_type": "code",
   "execution_count": 33,
   "metadata": {
    "ExecuteTime": {
     "end_time": "2019-04-27T22:09:47.969293Z",
     "start_time": "2019-04-27T22:09:47.965085Z"
    }
   },
   "outputs": [
    {
     "data": {
      "text/plain": [
       "Index(['artists', 'duration_ms', 'explicit', 'id', 'name', 'popularity',\n",
       "       'search_query', 'acousticness', 'analysis_url', 'danceability',\n",
       "       'energy', 'instrumentalness', 'key', 'liveness', 'loudness', 'mode',\n",
       "       'speechiness', 'tempo', 'time_signature', 'track_href', 'type', 'uri',\n",
       "       'valence', 'analysis_channels', 'analysis_sample_rate', 'duration',\n",
       "       'end_of_fade_in', 'key_confidence', 'mode_confidence', 'num_samples',\n",
       "       'offset_seconds', 'start_of_fade_out', 'tempo_confidence',\n",
       "       'time_signature_confidence', 'window_seconds'],\n",
       "      dtype='object')"
      ]
     },
     "execution_count": 33,
     "metadata": {},
     "output_type": "execute_result"
    }
   ],
   "source": [
    "data.columns"
   ]
  },
  {
   "cell_type": "code",
   "execution_count": 34,
   "metadata": {
    "ExecuteTime": {
     "end_time": "2019-04-27T22:09:48.301580Z",
     "start_time": "2019-04-27T22:09:48.296538Z"
    }
   },
   "outputs": [
    {
     "data": {
      "text/plain": [
       "{1}"
      ]
     },
     "execution_count": 34,
     "metadata": {},
     "output_type": "execute_result"
    }
   ],
   "source": [
    "set(data['analysis_channels'].values) # that means i need to drop this column since it provides no signal"
   ]
  },
  {
   "cell_type": "code",
   "execution_count": 35,
   "metadata": {
    "ExecuteTime": {
     "end_time": "2019-04-27T22:09:48.870954Z",
     "start_time": "2019-04-27T22:09:48.866709Z"
    }
   },
   "outputs": [
    {
     "data": {
      "text/plain": [
       "{22050}"
      ]
     },
     "execution_count": 35,
     "metadata": {},
     "output_type": "execute_result"
    }
   ],
   "source": [
    "set(data['analysis_sample_rate'].values) # that means i need to drop this column since it provides no signal"
   ]
  },
  {
   "cell_type": "code",
   "execution_count": 36,
   "metadata": {
    "ExecuteTime": {
     "end_time": "2019-04-27T22:09:49.513185Z",
     "start_time": "2019-04-27T22:09:49.351935Z"
    }
   },
   "outputs": [
    {
     "data": {
      "image/png": "[encoded data removed]",
      "text/plain": [
       "<Figure size 432x288 with 1 Axes>"
      ]
     },
     "metadata": {
      "needs_background": "light"
     },
     "output_type": "display_data"
    }
   ],
   "source": [
    "data['end_of_fade_in'].hist(); # what does this even mean though\n"
   ]
  },
  {
   "cell_type": "code",
   "execution_count": 37,
   "metadata": {
    "ExecuteTime": {
     "end_time": "2019-04-27T22:09:50.611758Z",
     "start_time": "2019-04-27T22:09:50.435076Z"
    }
   },
   "outputs": [
    {
     "data": {
      "text/plain": [
       "<matplotlib.axes._subplots.AxesSubplot at 0x1a1f4b3ba8>"
      ]
     },
     "execution_count": 37,
     "metadata": {},
     "output_type": "execute_result"
    },
    {
     "data": {
      "image/png": "[encoded data removed]",
      "text/plain": [
       "<Figure size 432x288 with 1 Axes>"
      ]
     },
     "metadata": {
      "needs_background": "light"
     },
     "output_type": "display_data"
    }
   ],
   "source": [
    "data['key_confidence'].hist() # what does this even mean\n",
    "\n",
    "# i would like know the songs that have low confidence what do they have in common and i want to know\n",
    "# why they have low confidence like whats wrong bb it ok!!"
   ]
  },
  {
   "cell_type": "code",
   "execution_count": 38,
   "metadata": {
    "ExecuteTime": {
     "end_time": "2019-04-27T22:09:51.111761Z",
     "start_time": "2019-04-27T22:09:50.936846Z"
    }
   },
   "outputs": [
    {
     "data": {
      "text/plain": [
       "<matplotlib.axes._subplots.AxesSubplot at 0x1a20bf4fd0>"
      ]
     },
     "execution_count": 38,
     "metadata": {},
     "output_type": "execute_result"
    },
    {
     "data": {
      "image/png": "[encoded data removed]",
      "text/plain": [
       "<Figure size 432x288 with 1 Axes>"
      ]
     },
     "metadata": {
      "needs_background": "light"
     },
     "output_type": "display_data"
    }
   ],
   "source": [
    "data['num_samples'].hist() # what does this mean"
   ]
  },
  {
   "cell_type": "code",
   "execution_count": 41,
   "metadata": {
    "ExecuteTime": {
     "end_time": "2019-04-27T22:10:02.496060Z",
     "start_time": "2019-04-27T22:10:02.490850Z"
    }
   },
   "outputs": [],
   "source": [
    "data.drop(['analysis_channels', 'analysis_sample_rate'], axis=1, inplace=True, errors='ignore')"
   ]
  },
  {
   "cell_type": "code",
   "execution_count": 42,
   "metadata": {
    "ExecuteTime": {
     "end_time": "2019-04-27T22:10:03.353562Z",
     "start_time": "2019-04-27T22:10:03.343885Z"
    },
    "scrolled": true
   },
   "outputs": [
    {
     "name": "stdout",
     "output_type": "stream",
     "text": [
      "<class 'pandas.core.frame.DataFrame'>\n",
      "RangeIndex: 822 entries, 0 to 821\n",
      "Data columns (total 33 columns):\n",
      "artists                      822 non-null object\n",
      "duration_ms                  822 non-null float64\n",
      "explicit                     822 non-null bool\n",
      "id                           822 non-null object\n",
      "name                         822 non-null object\n",
      "popularity                   822 non-null float64\n",
      "search_query                 822 non-null object\n",
      "acousticness                 822 non-null float64\n",
      "analysis_url                 822 non-null object\n",
      "danceability                 822 non-null float64\n",
      "energy                       822 non-null float64\n",
      "instrumentalness             822 non-null float64\n",
      "key                          822 non-null int64\n",
      "liveness                     822 non-null float64\n",
      "loudness                     822 non-null float64\n",
      "mode                         822 non-null int64\n",
      "speechiness                  822 non-null float64\n",
      "tempo                        822 non-null float64\n",
      "time_signature               822 non-null int64\n",
      "track_href                   822 non-null object\n",
      "type                         822 non-null object\n",
      "uri                          822 non-null object\n",
      "valence                      822 non-null float64\n",
      "duration                     822 non-null float64\n",
      "end_of_fade_in               822 non-null float64\n",
      "key_confidence               822 non-null float64\n",
      "mode_confidence              822 non-null float64\n",
      "num_samples                  822 non-null int64\n",
      "offset_seconds               822 non-null int64\n",
      "start_of_fade_out            822 non-null float64\n",
      "tempo_confidence             822 non-null float64\n",
      "time_signature_confidence    822 non-null float64\n",
      "window_seconds               822 non-null int64\n",
      "dtypes: bool(1), float64(18), int64(6), object(8)\n",
      "memory usage: 206.4+ KB\n"
     ]
    }
   ],
   "source": [
    "data.info()"
   ]
  },
  {
   "cell_type": "code",
   "execution_count": 45,
   "metadata": {
    "ExecuteTime": {
     "end_time": "2019-04-27T22:11:20.670618Z",
     "start_time": "2019-04-27T22:11:20.665105Z"
    }
   },
   "outputs": [
    {
     "data": {
      "text/plain": [
       "'04_27'"
      ]
     },
     "execution_count": 45,
     "metadata": {},
     "output_type": "execute_result"
    }
   ],
   "source": [
    "cleaned_filename = str(datetime.today().month).zfill(2) + '_' + str(datetime.today().day).zfill(2)\n",
    "cleaned_filename"
   ]
  },
  {
   "cell_type": "code",
   "execution_count": 46,
   "metadata": {
    "ExecuteTime": {
     "end_time": "2019-04-27T22:11:31.643871Z",
     "start_time": "2019-04-27T22:11:31.638115Z"
    }
   },
   "outputs": [],
   "source": [
    "pickle.dump(data, open(f'../data/cleaned_data_{cleaned_filename}.pkl', 'wb'))"
   ]
  },
  {
   "cell_type": "code",
   "execution_count": null,
   "metadata": {},
   "outputs": [],
   "source": []
  },
  {
   "cell_type": "code",
   "execution_count": null,
   "metadata": {},
   "outputs": [],
   "source": []
  },
  {
   "cell_type": "code",
   "execution_count": null,
   "metadata": {},
   "outputs": [],
   "source": []
  },
  {
   "cell_type": "code",
   "execution_count": null,
   "metadata": {},
   "outputs": [],
   "source": []
  },
  {
   "cell_type": "code",
   "execution_count": null,
   "metadata": {},
   "outputs": [],
   "source": []
  },
  {
   "cell_type": "code",
   "execution_count": 20,
   "metadata": {
    "ExecuteTime": {
     "end_time": "2019-04-27T20:19:04.649972Z",
     "start_time": "2019-04-27T20:19:04.646022Z"
    }
   },
   "outputs": [],
   "source": [
    "# pickle.dump(artists_df, open('../data/artists_df_dummied.pkl', 'wb'))"
   ]
  },
  {
   "cell_type": "code",
   "execution_count": null,
   "metadata": {},
   "outputs": [],
   "source": []
  }
 ],
 "metadata": {
  "kernelspec": {
   "display_name": "Python 3",
   "language": "python",
   "name": "python3"
  },
  "language_info": {
   "codemirror_mode": {
    "name": "ipython",
    "version": 3
   },
   "file_extension": ".py",
   "mimetype": "text/x-python",
   "name": "python",
   "nbconvert_exporter": "python",
   "pygments_lexer": "ipython3",
   "version": "3.7.3"
  }
 },
 "nbformat": 4,
 "nbformat_minor": 2
}
