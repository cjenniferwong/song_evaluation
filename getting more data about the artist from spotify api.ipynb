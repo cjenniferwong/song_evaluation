{
 "cells": [
  {
   "cell_type": "code",
   "execution_count": 2,
   "metadata": {
    "ExecuteTime": {
     "end_time": "2019-04-27T20:20:27.759074Z",
     "start_time": "2019-04-27T20:20:27.754920Z"
    }
   },
   "outputs": [],
   "source": [
    "import spotipy\n",
    "import spotipy.util as util\n",
    "import json\n",
    "import pickle\n",
    "from fuzzywuzzy import fuzz\n",
    "\n",
    "from Spotify_function import Spotify\n"
   ]
  },
  {
   "cell_type": "code",
   "execution_count": 3,
   "metadata": {
    "ExecuteTime": {
     "end_time": "2019-04-27T20:20:28.397051Z",
     "start_time": "2019-04-27T20:20:28.090382Z"
    }
   },
   "outputs": [],
   "source": [
    "sp = Spotify()"
   ]
  },
  {
   "cell_type": "code",
   "execution_count": 4,
   "metadata": {
    "ExecuteTime": {
     "end_time": "2019-04-27T20:20:29.142590Z",
     "start_time": "2019-04-27T20:20:28.953461Z"
    },
    "scrolled": true
   },
   "outputs": [],
   "source": [
    "test = sp.search(q='2 Chainz', type='artist')"
   ]
  },
  {
   "cell_type": "code",
   "execution_count": 5,
   "metadata": {
    "ExecuteTime": {
     "end_time": "2019-04-27T20:20:29.921392Z",
     "start_time": "2019-04-27T20:20:29.506006Z"
    }
   },
   "outputs": [],
   "source": [
    "artists_df = pickle.load(open('data/artists_df_dummied.pkl', 'rb'))\n",
    "artist_list = list(artists_df.columns)"
   ]
  },
  {
   "cell_type": "code",
   "execution_count": 6,
   "metadata": {
    "ExecuteTime": {
     "end_time": "2019-04-27T20:20:30.055398Z",
     "start_time": "2019-04-27T20:20:30.049165Z"
    }
   },
   "outputs": [],
   "source": [
    "'''i should create a function that compares the search name to the result name and return the results that are the highest match\n",
    "and then from there i need to get all the necessary things from the api\n",
    "'''\n",
    "def get_best_results(query, results):\n",
    "    match_ratio = []\n",
    "    for index, result in enumerate(results['artists']['items']):\n",
    "        match_ratio.append((index,\n",
    "                                 fuzz.ratio(query, result['name'])))\n",
    "    best_result_index = sorted(match_ratio, key=lambda x: x[1], reverse=True)[0][0]\n",
    "    features = ['id', 'name', 'popularity', 'genres'] # missing followers\n",
    "    best_result = results['artists']['items'][best_result_index]\n",
    "    best_result_dict = {}\n",
    "    for feature in features:\n",
    "        best_result_dict[feature] = best_result[feature]\n",
    "    best_result_dict['followers'] = best_result['followers']['total']\n",
    "    best_result_dict['query'] = query\n",
    "    return best_result_dict"
   ]
  },
  {
   "cell_type": "code",
   "execution_count": 7,
   "metadata": {
    "ExecuteTime": {
     "end_time": "2019-04-27T20:21:41.755354Z",
     "start_time": "2019-04-27T20:20:30.801767Z"
    }
   },
   "outputs": [],
   "source": [
    "results_list = []\n",
    "for artist in artist_list:\n",
    "    results = sp.search(q=str(artist), type='artist')\n",
    "    results_list.append(get_best_results(artist, results))\n",
    "    "
   ]
  },
  {
   "cell_type": "code",
   "execution_count": 8,
   "metadata": {
    "ExecuteTime": {
     "end_time": "2019-04-27T20:22:00.688327Z",
     "start_time": "2019-04-27T20:22:00.680502Z"
    }
   },
   "outputs": [],
   "source": [
    "import pandas as pd\n",
    "import pickle\n",
    "df = pd.DataFrame(results_list)\n",
    "pickle.dump(df, open('data/artist_query_results.pkl', 'wb'))"
   ]
  },
  {
   "cell_type": "code",
   "execution_count": 9,
   "metadata": {
    "ExecuteTime": {
     "end_time": "2019-04-27T20:22:06.861601Z",
     "start_time": "2019-04-27T20:22:06.852771Z"
    }
   },
   "outputs": [
    {
     "data": {
      "text/plain": [
       "{'id': '17lzZA2AlOHwCwFALHttmp',\n",
       " 'name': '2 Chainz',\n",
       " 'popularity': 86,\n",
       " 'genres': ['atl hip hop',\n",
       "  'hip hop',\n",
       "  'pop',\n",
       "  'pop rap',\n",
       "  'rap',\n",
       "  'southern hip hop',\n",
       "  'trap music'],\n",
       " 'followers': 4420654,\n",
       " 'query': '2 Chainz'}"
      ]
     },
     "execution_count": 9,
     "metadata": {},
     "output_type": "execute_result"
    }
   ],
   "source": [
    "get_best_results('2 Chainz', test) # i should probably figure out how fuzzy matching works because this isnt right"
   ]
  },
  {
   "cell_type": "code",
   "execution_count": 10,
   "metadata": {
    "ExecuteTime": {
     "end_time": "2019-04-27T20:22:07.379672Z",
     "start_time": "2019-04-27T20:22:07.375078Z"
    }
   },
   "outputs": [
    {
     "data": {
      "text/plain": [
       "{'external_urls': {'spotify': 'https://open.spotify.com/artist/17lzZA2AlOHwCwFALHttmp'},\n",
       " 'followers': {'href': None, 'total': 4420654},\n",
       " 'genres': ['atl hip hop',\n",
       "  'hip hop',\n",
       "  'pop',\n",
       "  'pop rap',\n",
       "  'rap',\n",
       "  'southern hip hop',\n",
       "  'trap music'],\n",
       " 'href': 'https://api.spotify.com/v1/artists/17lzZA2AlOHwCwFALHttmp',\n",
       " 'id': '17lzZA2AlOHwCwFALHttmp',\n",
       " 'images': [{'height': 640,\n",
       "   'url': 'https://i.scdn.co/image/8a0f9090548262a85cceef38650642d3037fd1e0',\n",
       "   'width': 640},\n",
       "  {'height': 320,\n",
       "   'url': 'https://i.scdn.co/image/bb890de37c6783253a5c1789ccc7be5e2897c51d',\n",
       "   'width': 320},\n",
       "  {'height': 160,\n",
       "   'url': 'https://i.scdn.co/image/6d96184a942c83524860133a8d87d35a324c7364',\n",
       "   'width': 160}],\n",
       " 'name': '2 Chainz',\n",
       " 'popularity': 86,\n",
       " 'type': 'artist',\n",
       " 'uri': 'spotify:artist:17lzZA2AlOHwCwFALHttmp'}"
      ]
     },
     "execution_count": 10,
     "metadata": {},
     "output_type": "execute_result"
    }
   ],
   "source": [
    "test['artists']['items'][0]"
   ]
  },
  {
   "cell_type": "code",
   "execution_count": 11,
   "metadata": {
    "ExecuteTime": {
     "end_time": "2019-04-27T20:22:08.028056Z",
     "start_time": "2019-04-27T20:22:08.022546Z"
    }
   },
   "outputs": [
    {
     "data": {
      "text/plain": [
       "[{'external_urls': {'spotify': 'https://open.spotify.com/artist/17lzZA2AlOHwCwFALHttmp'},\n",
       "  'followers': {'href': None, 'total': 4420654},\n",
       "  'genres': ['atl hip hop',\n",
       "   'hip hop',\n",
       "   'pop',\n",
       "   'pop rap',\n",
       "   'rap',\n",
       "   'southern hip hop',\n",
       "   'trap music'],\n",
       "  'href': 'https://api.spotify.com/v1/artists/17lzZA2AlOHwCwFALHttmp',\n",
       "  'id': '17lzZA2AlOHwCwFALHttmp',\n",
       "  'images': [{'height': 640,\n",
       "    'url': 'https://i.scdn.co/image/8a0f9090548262a85cceef38650642d3037fd1e0',\n",
       "    'width': 640},\n",
       "   {'height': 320,\n",
       "    'url': 'https://i.scdn.co/image/bb890de37c6783253a5c1789ccc7be5e2897c51d',\n",
       "    'width': 320},\n",
       "   {'height': 160,\n",
       "    'url': 'https://i.scdn.co/image/6d96184a942c83524860133a8d87d35a324c7364',\n",
       "    'width': 160}],\n",
       "  'name': '2 Chainz',\n",
       "  'popularity': 86,\n",
       "  'type': 'artist',\n",
       "  'uri': 'spotify:artist:17lzZA2AlOHwCwFALHttmp'},\n",
       " {'external_urls': {'spotify': 'https://open.spotify.com/artist/6kNfTPAMTJL2HvPaEKaxKL'},\n",
       "  'followers': {'href': None, 'total': 52},\n",
       "  'genres': [],\n",
       "  'href': 'https://api.spotify.com/v1/artists/6kNfTPAMTJL2HvPaEKaxKL',\n",
       "  'id': '6kNfTPAMTJL2HvPaEKaxKL',\n",
       "  'images': [],\n",
       "  'name': '2 Chainz ft. Kreayshawn',\n",
       "  'popularity': 0,\n",
       "  'type': 'artist',\n",
       "  'uri': 'spotify:artist:6kNfTPAMTJL2HvPaEKaxKL'},\n",
       " {'external_urls': {'spotify': 'https://open.spotify.com/artist/7k2cSYTcBFxw5aeMih6oT5'},\n",
       "  'followers': {'href': None, 'total': 126},\n",
       "  'genres': [],\n",
       "  'href': 'https://api.spotify.com/v1/artists/7k2cSYTcBFxw5aeMih6oT5',\n",
       "  'id': '7k2cSYTcBFxw5aeMih6oT5',\n",
       "  'images': [],\n",
       "  'name': 'Young Fame Ft 2 Chainz',\n",
       "  'popularity': 0,\n",
       "  'type': 'artist',\n",
       "  'uri': 'spotify:artist:7k2cSYTcBFxw5aeMih6oT5'},\n",
       " {'external_urls': {'spotify': 'https://open.spotify.com/artist/04dlz6CZCHGQ9CZg2CZnqz'},\n",
       "  'followers': {'href': None, 'total': 63},\n",
       "  'genres': [],\n",
       "  'href': 'https://api.spotify.com/v1/artists/04dlz6CZCHGQ9CZg2CZnqz',\n",
       "  'id': '04dlz6CZCHGQ9CZg2CZnqz',\n",
       "  'images': [{'height': 640,\n",
       "    'url': 'https://i.scdn.co/image/06da43dcfbb11eb063e1b1439dedf47f838ae467',\n",
       "    'width': 640},\n",
       "   {'height': 300,\n",
       "    'url': 'https://i.scdn.co/image/11135eba34c14c08a2325c280b5de712899a39dd',\n",
       "    'width': 300},\n",
       "   {'height': 64,\n",
       "    'url': 'https://i.scdn.co/image/69f4bd2c02824c33e83d03ee7faaf83fc4104e1e',\n",
       "    'width': 64}],\n",
       "  'name': '2 Chainz Tribute Team',\n",
       "  'popularity': 0,\n",
       "  'type': 'artist',\n",
       "  'uri': 'spotify:artist:04dlz6CZCHGQ9CZg2CZnqz'}]"
      ]
     },
     "execution_count": 11,
     "metadata": {},
     "output_type": "execute_result"
    }
   ],
   "source": [
    "test['artists']['items']"
   ]
  },
  {
   "cell_type": "code",
   "execution_count": null,
   "metadata": {},
   "outputs": [],
   "source": []
  },
  {
   "cell_type": "code",
   "execution_count": null,
   "metadata": {},
   "outputs": [],
   "source": []
  }
 ],
 "metadata": {
  "kernelspec": {
   "display_name": "Python 3",
   "language": "python",
   "name": "python3"
  },
  "language_info": {
   "codemirror_mode": {
    "name": "ipython",
    "version": 3
   },
   "file_extension": ".py",
   "mimetype": "text/x-python",
   "name": "python",
   "nbconvert_exporter": "python",
   "pygments_lexer": "ipython3",
   "version": "3.7.3"
  }
 },
 "nbformat": 4,
 "nbformat_minor": 2
}
