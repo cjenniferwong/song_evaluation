{
 "cells": [
  {
   "cell_type": "code",
   "execution_count": 4,
   "metadata": {
    "ExecuteTime": {
     "end_time": "2019-04-27T20:20:04.145566Z",
     "start_time": "2019-04-27T20:20:04.140432Z"
    }
   },
   "outputs": [],
   "source": [
    "import spotipy\n",
    "import spotipy.util as util\n",
    "import json\n",
    "import pickle\n",
    "from fuzzywuzzy import fuzz\n",
    "\n",
    "from Spotify_function import Spotify\n"
   ]
  },
  {
   "cell_type": "code",
   "execution_count": 5,
   "metadata": {
    "ExecuteTime": {
     "end_time": "2019-04-27T20:20:04.596392Z",
     "start_time": "2019-04-27T20:20:04.588511Z"
    }
   },
   "outputs": [
    {
     "ename": "FileNotFoundError",
     "evalue": "[Errno 2] No such file or directory: 'credentials.json'",
     "output_type": "error",
     "traceback": [
      "\u001b[0;31m---------------------------------------------------------------------------\u001b[0m",
      "\u001b[0;31mFileNotFoundError\u001b[0m                         Traceback (most recent call last)",
      "\u001b[0;32m<ipython-input-5-ce4ce0cac684>\u001b[0m in \u001b[0;36m<module>\u001b[0;34m\u001b[0m\n\u001b[0;32m----> 1\u001b[0;31m \u001b[0msp\u001b[0m \u001b[0;34m=\u001b[0m \u001b[0mSpotify\u001b[0m\u001b[0;34m(\u001b[0m\u001b[0;34m)\u001b[0m\u001b[0;34m\u001b[0m\u001b[0;34m\u001b[0m\u001b[0m\n\u001b[0m",
      "\u001b[0;32m~/GitHub/song_evaluation/ETL/Spotify_function.py\u001b[0m in \u001b[0;36mSpotify\u001b[0;34m(json_file)\u001b[0m\n\u001b[1;32m      4\u001b[0m \u001b[0;34m\u001b[0m\u001b[0m\n\u001b[1;32m      5\u001b[0m \u001b[0;32mdef\u001b[0m \u001b[0mSpotify\u001b[0m\u001b[0;34m(\u001b[0m\u001b[0mjson_file\u001b[0m \u001b[0;34m=\u001b[0m \u001b[0;34m'credentials.json'\u001b[0m\u001b[0;34m)\u001b[0m\u001b[0;34m:\u001b[0m\u001b[0;34m\u001b[0m\u001b[0;34m\u001b[0m\u001b[0m\n\u001b[0;32m----> 6\u001b[0;31m     \u001b[0;32mwith\u001b[0m \u001b[0mopen\u001b[0m\u001b[0;34m(\u001b[0m\u001b[0mjson_file\u001b[0m\u001b[0;34m)\u001b[0m \u001b[0;32mas\u001b[0m \u001b[0mfilename\u001b[0m\u001b[0;34m:\u001b[0m\u001b[0;34m\u001b[0m\u001b[0;34m\u001b[0m\u001b[0m\n\u001b[0m\u001b[1;32m      7\u001b[0m         \u001b[0mcredentials\u001b[0m \u001b[0;34m=\u001b[0m \u001b[0mjson\u001b[0m\u001b[0;34m.\u001b[0m\u001b[0mload\u001b[0m\u001b[0;34m(\u001b[0m\u001b[0mfilename\u001b[0m\u001b[0;34m)\u001b[0m\u001b[0;34m\u001b[0m\u001b[0;34m\u001b[0m\u001b[0m\n\u001b[1;32m      8\u001b[0m         \u001b[0mfilename\u001b[0m\u001b[0;34m.\u001b[0m\u001b[0mclose\u001b[0m\u001b[0;34m(\u001b[0m\u001b[0;34m)\u001b[0m\u001b[0;34m\u001b[0m\u001b[0;34m\u001b[0m\u001b[0m\n",
      "\u001b[0;31mFileNotFoundError\u001b[0m: [Errno 2] No such file or directory: 'credentials.json'"
     ]
    }
   ],
   "source": [
    "sp = Spotify()"
   ]
  },
  {
   "cell_type": "code",
   "execution_count": 54,
   "metadata": {
    "ExecuteTime": {
     "end_time": "2019-04-26T05:25:24.684174Z",
     "start_time": "2019-04-26T05:25:24.410324Z"
    },
    "scrolled": true
   },
   "outputs": [],
   "source": [
    "test = sp.search(q='2 Chainz', type='artist')"
   ]
  },
  {
   "cell_type": "code",
   "execution_count": 18,
   "metadata": {
    "ExecuteTime": {
     "end_time": "2019-04-26T05:00:00.503409Z",
     "start_time": "2019-04-26T05:00:00.498474Z"
    }
   },
   "outputs": [],
   "source": [
    "artists_df = pickle.load(open('data/artists_df_dummied.pkl', 'rb'))\n",
    "artist_list = list(artists_df.columns)"
   ]
  },
  {
   "cell_type": "code",
   "execution_count": 103,
   "metadata": {
    "ExecuteTime": {
     "end_time": "2019-04-26T05:44:42.936268Z",
     "start_time": "2019-04-26T05:44:42.930772Z"
    }
   },
   "outputs": [],
   "source": [
    "'''i should create a function that compares the search name to the result name and return the results that are the highest match\n",
    "and then from there i need to get all the necessary things from the api\n",
    "'''\n",
    "def get_best_results(query, results):\n",
    "    match_ratio = []\n",
    "    for index, result in enumerate(results['artists']['items']):\n",
    "        match_ratio.append((index,\n",
    "                                 fuzz.ratio(query, result['name'])))\n",
    "    best_result_index = sorted(match_ratio, key=lambda x: x[1], reverse=True)[0][0]\n",
    "    features = ['id', 'name', 'popularity', 'genres'] # missing followers\n",
    "    best_result = results['artists']['items'][best_result_index]\n",
    "    best_result_dict = {}\n",
    "    for feature in features:\n",
    "        best_result_dict[feature] = best_result[feature]\n",
    "    best_result_dict['followers'] = best_result['followers']['total']\n",
    "    best_result_dict['query'] = query\n",
    "    return best_result_dict"
   ]
  },
  {
   "cell_type": "code",
   "execution_count": 108,
   "metadata": {
    "ExecuteTime": {
     "end_time": "2019-04-26T05:47:54.216143Z",
     "start_time": "2019-04-26T05:46:48.089477Z"
    }
   },
   "outputs": [],
   "source": [
    "results_list = []\n",
    "for artist in artist_list:\n",
    "    results = sp.search(q=str(artist), type='artist')\n",
    "    results_list.append(get_best_results(artist, results))\n",
    "    "
   ]
  },
  {
   "cell_type": "code",
   "execution_count": 109,
   "metadata": {
    "ExecuteTime": {
     "end_time": "2019-04-26T05:47:54.222955Z",
     "start_time": "2019-04-26T05:47:54.218096Z"
    }
   },
   "outputs": [
    {
     "ename": "SyntaxError",
     "evalue": "unexpected EOF while parsing (<ipython-input-109-de85e7e21511>, line 4)",
     "output_type": "error",
     "traceback": [
      "\u001b[0;36m  File \u001b[0;32m\"<ipython-input-109-de85e7e21511>\"\u001b[0;36m, line \u001b[0;32m4\u001b[0m\n\u001b[0;31m    pickle.dump(df, open('data/artist_query_results.pkl', 'wb')\u001b[0m\n\u001b[0m                                                               ^\u001b[0m\n\u001b[0;31mSyntaxError\u001b[0m\u001b[0;31m:\u001b[0m unexpected EOF while parsing\n"
     ]
    }
   ],
   "source": [
    "import pandas as pd\n",
    "import pickle\n",
    "df = pd.DataFrame(results_list)\n",
    "pickle.dump(df, open('data/artist_query_results.pkl', 'wb'))"
   ]
  },
  {
   "cell_type": "code",
   "execution_count": 101,
   "metadata": {
    "ExecuteTime": {
     "end_time": "2019-04-26T05:42:36.594007Z",
     "start_time": "2019-04-26T05:42:36.589797Z"
    }
   },
   "outputs": [
    {
     "data": {
      "text/plain": [
       "{'id': '17lzZA2AlOHwCwFALHttmp',\n",
       " 'name': '2 Chainz',\n",
       " 'popularity': 86,\n",
       " 'genres': ['atl hip hop',\n",
       "  'hip hop',\n",
       "  'pop',\n",
       "  'pop rap',\n",
       "  'rap',\n",
       "  'southern hip hop',\n",
       "  'trap music'],\n",
       " 'followers': 4415933}"
      ]
     },
     "execution_count": 101,
     "metadata": {},
     "output_type": "execute_result"
    }
   ],
   "source": [
    "get_best_results('2 Chainz', test) # i should probably figure out how fuzzy matching works because this isnt right"
   ]
  },
  {
   "cell_type": "code",
   "execution_count": 102,
   "metadata": {
    "ExecuteTime": {
     "end_time": "2019-04-26T05:42:38.264706Z",
     "start_time": "2019-04-26T05:42:38.260459Z"
    }
   },
   "outputs": [
    {
     "data": {
      "text/plain": [
       "{'external_urls': {'spotify': 'https://open.spotify.com/artist/17lzZA2AlOHwCwFALHttmp'},\n",
       " 'followers': {'href': None, 'total': 4415933},\n",
       " 'genres': ['atl hip hop',\n",
       "  'hip hop',\n",
       "  'pop',\n",
       "  'pop rap',\n",
       "  'rap',\n",
       "  'southern hip hop',\n",
       "  'trap music'],\n",
       " 'href': 'https://api.spotify.com/v1/artists/17lzZA2AlOHwCwFALHttmp',\n",
       " 'id': '17lzZA2AlOHwCwFALHttmp',\n",
       " 'images': [{'height': 640,\n",
       "   'url': 'https://i.scdn.co/image/8a0f9090548262a85cceef38650642d3037fd1e0',\n",
       "   'width': 640},\n",
       "  {'height': 320,\n",
       "   'url': 'https://i.scdn.co/image/bb890de37c6783253a5c1789ccc7be5e2897c51d',\n",
       "   'width': 320},\n",
       "  {'height': 160,\n",
       "   'url': 'https://i.scdn.co/image/6d96184a942c83524860133a8d87d35a324c7364',\n",
       "   'width': 160}],\n",
       " 'name': '2 Chainz',\n",
       " 'popularity': 86,\n",
       " 'type': 'artist',\n",
       " 'uri': 'spotify:artist:17lzZA2AlOHwCwFALHttmp'}"
      ]
     },
     "execution_count": 102,
     "metadata": {},
     "output_type": "execute_result"
    }
   ],
   "source": [
    "test['artists']['items'][0]"
   ]
  },
  {
   "cell_type": "code",
   "execution_count": 59,
   "metadata": {
    "ExecuteTime": {
     "end_time": "2019-04-26T05:26:05.457830Z",
     "start_time": "2019-04-26T05:26:05.437009Z"
    }
   },
   "outputs": [
    {
     "data": {
      "text/plain": [
       "[{'external_urls': {'spotify': 'https://open.spotify.com/artist/17lzZA2AlOHwCwFALHttmp'},\n",
       "  'followers': {'href': None, 'total': 4415933},\n",
       "  'genres': ['atl hip hop',\n",
       "   'hip hop',\n",
       "   'pop',\n",
       "   'pop rap',\n",
       "   'rap',\n",
       "   'southern hip hop',\n",
       "   'trap music'],\n",
       "  'href': 'https://api.spotify.com/v1/artists/17lzZA2AlOHwCwFALHttmp',\n",
       "  'id': '17lzZA2AlOHwCwFALHttmp',\n",
       "  'images': [{'height': 640,\n",
       "    'url': 'https://i.scdn.co/image/8a0f9090548262a85cceef38650642d3037fd1e0',\n",
       "    'width': 640},\n",
       "   {'height': 320,\n",
       "    'url': 'https://i.scdn.co/image/bb890de37c6783253a5c1789ccc7be5e2897c51d',\n",
       "    'width': 320},\n",
       "   {'height': 160,\n",
       "    'url': 'https://i.scdn.co/image/6d96184a942c83524860133a8d87d35a324c7364',\n",
       "    'width': 160}],\n",
       "  'name': '2 Chainz',\n",
       "  'popularity': 86,\n",
       "  'type': 'artist',\n",
       "  'uri': 'spotify:artist:17lzZA2AlOHwCwFALHttmp'},\n",
       " {'external_urls': {'spotify': 'https://open.spotify.com/artist/6kNfTPAMTJL2HvPaEKaxKL'},\n",
       "  'followers': {'href': None, 'total': 52},\n",
       "  'genres': [],\n",
       "  'href': 'https://api.spotify.com/v1/artists/6kNfTPAMTJL2HvPaEKaxKL',\n",
       "  'id': '6kNfTPAMTJL2HvPaEKaxKL',\n",
       "  'images': [],\n",
       "  'name': '2 Chainz ft. Kreayshawn',\n",
       "  'popularity': 0,\n",
       "  'type': 'artist',\n",
       "  'uri': 'spotify:artist:6kNfTPAMTJL2HvPaEKaxKL'},\n",
       " {'external_urls': {'spotify': 'https://open.spotify.com/artist/7k2cSYTcBFxw5aeMih6oT5'},\n",
       "  'followers': {'href': None, 'total': 126},\n",
       "  'genres': [],\n",
       "  'href': 'https://api.spotify.com/v1/artists/7k2cSYTcBFxw5aeMih6oT5',\n",
       "  'id': '7k2cSYTcBFxw5aeMih6oT5',\n",
       "  'images': [],\n",
       "  'name': 'Young Fame Ft 2 Chainz',\n",
       "  'popularity': 0,\n",
       "  'type': 'artist',\n",
       "  'uri': 'spotify:artist:7k2cSYTcBFxw5aeMih6oT5'},\n",
       " {'external_urls': {'spotify': 'https://open.spotify.com/artist/04dlz6CZCHGQ9CZg2CZnqz'},\n",
       "  'followers': {'href': None, 'total': 63},\n",
       "  'genres': [],\n",
       "  'href': 'https://api.spotify.com/v1/artists/04dlz6CZCHGQ9CZg2CZnqz',\n",
       "  'id': '04dlz6CZCHGQ9CZg2CZnqz',\n",
       "  'images': [{'height': 640,\n",
       "    'url': 'https://i.scdn.co/image/06da43dcfbb11eb063e1b1439dedf47f838ae467',\n",
       "    'width': 640},\n",
       "   {'height': 300,\n",
       "    'url': 'https://i.scdn.co/image/11135eba34c14c08a2325c280b5de712899a39dd',\n",
       "    'width': 300},\n",
       "   {'height': 64,\n",
       "    'url': 'https://i.scdn.co/image/69f4bd2c02824c33e83d03ee7faaf83fc4104e1e',\n",
       "    'width': 64}],\n",
       "  'name': '2 Chainz Tribute Team',\n",
       "  'popularity': 0,\n",
       "  'type': 'artist',\n",
       "  'uri': 'spotify:artist:04dlz6CZCHGQ9CZg2CZnqz'}]"
      ]
     },
     "execution_count": 59,
     "metadata": {},
     "output_type": "execute_result"
    }
   ],
   "source": [
    "test['artists']['items']"
   ]
  },
  {
   "cell_type": "code",
   "execution_count": null,
   "metadata": {},
   "outputs": [],
   "source": []
  }
 ],
 "metadata": {
  "kernelspec": {
   "display_name": "Python 3",
   "language": "python",
   "name": "python3"
  },
  "language_info": {
   "codemirror_mode": {
    "name": "ipython",
    "version": 3
   },
   "file_extension": ".py",
   "mimetype": "text/x-python",
   "name": "python",
   "nbconvert_exporter": "python",
   "pygments_lexer": "ipython3",
   "version": "3.7.3"
  }
 },
 "nbformat": 4,
 "nbformat_minor": 2
}
