{
 "cells": [
  {
   "cell_type": "markdown",
   "metadata": {},
   "source": [
    "## Getting data from Spotify API to get features for prediction"
   ]
  },
  {
   "cell_type": "code",
   "execution_count": null,
   "metadata": {
    "ExecuteTime": {
     "end_time": "2019-04-27T17:36:11.981419Z",
     "start_time": "2019-04-27T17:36:11.975961Z"
    }
   },
   "outputs": [],
   "source": [
    "import pandas as pd\n",
    "import numpy as np\n",
    "import matplotlib.pyplot as plt\n",
    "%matplotlib inline\n",
    "\n",
    "import spotipy\n",
    "import spotipy.util as util\n",
    "import json\n",
    "\n",
    "# from functions import *\n",
    "import pickle\n",
    "import json\n",
    "from datetime import datetime"
   ]
  },
  {
   "cell_type": "code",
   "execution_count": null,
   "metadata": {
    "ExecuteTime": {
     "end_time": "2019-04-27T17:36:21.679673Z",
     "start_time": "2019-04-27T17:36:21.676545Z"
    },
    "scrolled": true
   },
   "outputs": [],
   "source": [
    "# reading in credentials necessary to use the API\n",
    "# remember to save credentials in double quotes or else it gets mad at you\n",
    "with open('../credentials.json') as filename:\n",
    "    credentials = json.load(filename)\n",
    "    filename.close()"
   ]
  },
  {
   "cell_type": "code",
   "execution_count": null,
   "metadata": {
    "ExecuteTime": {
     "end_time": "2019-04-27T17:36:23.605717Z",
     "start_time": "2019-04-27T17:36:23.228428Z"
    }
   },
   "outputs": [],
   "source": [
    "token = util.oauth2.SpotifyClientCredentials(client_id=credentials['client_id'],\n",
    "                                             client_secret=credentials['client_secret'])\n",
    "## creates an access token for you to do what you need to do\n",
    "cache_token = token.get_access_token()\n",
    "# probably need to check how much access it allows on default and if you need more access to do more interesting things\n"
   ]
  },
  {
   "cell_type": "code",
   "execution_count": null,
   "metadata": {
    "ExecuteTime": {
     "end_time": "2019-04-27T17:36:24.446801Z",
     "start_time": "2019-04-27T17:36:24.444185Z"
    }
   },
   "outputs": [],
   "source": [
    "# need to create an object\n",
    "sp = spotipy.Spotify(cache_token)"
   ]
  },
  {
   "cell_type": "markdown",
   "metadata": {},
   "source": [
    "### Loading in data and search queries to use the API"
   ]
  },
  {
   "cell_type": "code",
   "execution_count": null,
   "metadata": {
    "ExecuteTime": {
     "end_time": "2019-04-27T04:46:43.280599Z",
     "start_time": "2019-04-27T04:46:43.245146Z"
    }
   },
   "outputs": [],
   "source": [
    "data = pd.read_csv('data/billboards.csv')\n",
    "data.rename(columns={\n",
    "    'Artist': 'artist',\n",
    "    'Song':'song'\n",
    "}, inplace=True)\n",
    "data['search_queries'] = (data.artist +' '+ data.song).str.lower()"
   ]
  },
  {
   "cell_type": "code",
   "execution_count": null,
   "metadata": {
    "ExecuteTime": {
     "end_time": "2019-04-27T04:46:43.544777Z",
     "start_time": "2019-04-27T04:46:43.540835Z"
    }
   },
   "outputs": [],
   "source": [
    "def get_features(df):\n",
    "    results_list = []\n",
    "    for queries in df.search_queries.values:\n",
    "        test = sp.search(q=queries, type = 'track', limit=1)\n",
    "        results = test['tracks']['items']\n",
    "        cleaned = clean_search_results(results) # returns a dictionary\n",
    "        cleaned['search_query'] = queries\n",
    "        results_list.append(cleaned)\n",
    "    yield list(results_list)"
   ]
  },
  {
   "cell_type": "code",
   "execution_count": null,
   "metadata": {
    "ExecuteTime": {
     "end_time": "2019-04-22T04:31:08.873301Z",
     "start_time": "2019-04-22T04:28:45.556575Z"
    }
   },
   "outputs": [],
   "source": [
    "with open('output.pkl', 'wb') as filename:\n",
    "    results_list=[]\n",
    "    results_list.extend([x for x in get_features(data)]) # testing on the head only\n",
    "    pickle.dump(results_list[0], filename)\n",
    "    filename.close()"
   ]
  },
  {
   "cell_type": "code",
   "execution_count": null,
   "metadata": {
    "ExecuteTime": {
     "end_time": "2019-04-22T04:36:54.501101Z",
     "start_time": "2019-04-22T04:36:54.496706Z"
    },
    "scrolled": true
   },
   "outputs": [],
   "source": [
    "len(results_list[0])"
   ]
  },
  {
   "cell_type": "code",
   "execution_count": null,
   "metadata": {
    "ExecuteTime": {
     "end_time": "2019-04-27T17:41:16.909036Z",
     "start_time": "2019-04-27T17:41:16.899624Z"
    }
   },
   "outputs": [],
   "source": [
    "test = pickle.load(open('../data/output.pkl', 'rb'))\n",
    "test_df = pd.DataFrame(test)\n",
    "pickle.dump(test_df, open('../data/spotify_api_search_results.pkl', 'wb'))"
   ]
  },
  {
   "cell_type": "code",
   "execution_count": null,
   "metadata": {
    "ExecuteTime": {
     "end_time": "2019-04-27T17:41:21.584934Z",
     "start_time": "2019-04-27T17:41:21.580374Z"
    }
   },
   "outputs": [],
   "source": [
    "output_data = pickle.load(open('../data/spotify_api_search_results.pkl', 'rb')) # NTS: i need to look back and review what popularity is"
   ]
  },
  {
   "cell_type": "code",
   "execution_count": null,
   "metadata": {},
   "outputs": [],
   "source": []
  },
  {
   "cell_type": "code",
   "execution_count": null,
   "metadata": {},
   "outputs": [],
   "source": []
  },
  {
   "cell_type": "code",
   "execution_count": null,
   "metadata": {},
   "outputs": [],
   "source": []
  },
  {
   "cell_type": "code",
   "execution_count": null,
   "metadata": {},
   "outputs": [],
   "source": []
  },
  {
   "cell_type": "code",
   "execution_count": null,
   "metadata": {
    "ExecuteTime": {
     "end_time": "2019-04-27T04:47:32.263113Z",
     "start_time": "2019-04-27T04:47:32.256697Z"
    }
   },
   "outputs": [],
   "source": [
    "from collections import Counter\n",
    "\n",
    "len(Counter(output_data['id'].values)), len(output_data['id'].values)"
   ]
  },
  {
   "cell_type": "code",
   "execution_count": null,
   "metadata": {
    "ExecuteTime": {
     "end_time": "2019-04-27T04:52:48.241920Z",
     "start_time": "2019-04-27T04:52:48.238301Z"
    }
   },
   "outputs": [],
   "source": [
    "def get_audio_features(id_value):\n",
    "    try:\n",
    "        results = sp.audio_features(id_value)[0]\n",
    "        results['id'] = id_value\n",
    "    except Exception as e:\n",
    "        results = {}\n",
    "        results['id'] = 'missing'\n",
    "    return results"
   ]
  },
  {
   "cell_type": "code",
   "execution_count": null,
   "metadata": {
    "ExecuteTime": {
     "end_time": "2019-04-27T04:55:10.620745Z",
     "start_time": "2019-04-27T04:53:25.285141Z"
    }
   },
   "outputs": [],
   "source": [
    "audio_features = output_data['id'].apply(get_audio_features)\n",
    "pickle.dump(audio_features, open('data/audio_features.pkl', 'wb'))"
   ]
  },
  {
   "cell_type": "code",
   "execution_count": null,
   "metadata": {
    "ExecuteTime": {
     "end_time": "2019-04-25T03:45:29.974990Z",
     "start_time": "2019-04-25T03:45:29.837886Z"
    }
   },
   "outputs": [],
   "source": [
    "sp.track('6i0V12jOa3mr6uu4WYhUBr').keys()"
   ]
  },
  {
   "cell_type": "markdown",
   "metadata": {},
   "source": [
    "NTS: it seems like the track method returns results that I already have stores so i'm not going to bother with that right now.... might be something to look into later when i come back to the project?"
   ]
  },
  {
   "cell_type": "code",
   "execution_count": null,
   "metadata": {
    "ExecuteTime": {
     "end_time": "2019-04-25T03:49:26.610611Z",
     "start_time": "2019-04-25T03:49:25.597361Z"
    }
   },
   "outputs": [],
   "source": [
    "sp.audio_analysis('6i0V12jOa3mr6uu4WYhUBr')['track'].keys()"
   ]
  },
  {
   "cell_type": "code",
   "execution_count": null,
   "metadata": {
    "ExecuteTime": {
     "end_time": "2019-04-25T04:00:34.281756Z",
     "start_time": "2019-04-25T04:00:34.276625Z"
    }
   },
   "outputs": [],
   "source": [
    "def get_audio_analysis(song_id):\n",
    "    \"\"\"\n",
    "    takes the song id and passes it through the spotify api to get the song analysis values\n",
    "    and if there is no song_id then it passes and returns an empty string\n",
    "    \"\"\"\n",
    "    relevant_columns = ['num_samples', 'duration', 'sample_md5', 'offset_seconds',\n",
    "                             'window_seconds', 'analysis_sample_rate', 'analysis_channels',\n",
    "                             'end_of_fade_in', 'start_of_fade_out', 'loudness', 'tempo',\n",
    "                             'tempo_confidence', 'time_signature', 'time_signature_confidence',\n",
    "                             'key', 'key_confidence', 'mode', 'mode_confidence']\n",
    "    try:\n",
    "        song_analysis = sp.audio_analysis(song_id)['track']\n",
    "        result = {key:song_analysis[key] for key in song_analysis if key in relevant_columns}\n",
    "    except Exception as e:\n",
    "        print(e)\n",
    "        result = {key:'' for key in relevant_columns}\n",
    "    result['id'] = song_id\n",
    "    return result\n",
    "        "
   ]
  },
  {
   "cell_type": "code",
   "execution_count": null,
   "metadata": {},
   "outputs": [],
   "source": [
    "## i think i also remember being able to get features on the artist tooo. i should explore whatt other ttings are avaiable in the api"
   ]
  },
  {
   "cell_type": "code",
   "execution_count": null,
   "metadata": {
    "ExecuteTime": {
     "end_time": "2019-04-25T04:18:13.121495Z",
     "start_time": "2019-04-25T04:01:59.247552Z"
    },
    "scrolled": true
   },
   "outputs": [],
   "source": [
    "analysis_df = pd.DataFrame.from_dict(output_data['id'].apply(get_audio_analysis))\n",
    "analysis_df.head()"
   ]
  },
  {
   "cell_type": "code",
   "execution_count": null,
   "metadata": {},
   "outputs": [],
   "source": []
  },
  {
   "cell_type": "code",
   "execution_count": null,
   "metadata": {
    "ExecuteTime": {
     "end_time": "2019-04-25T04:19:43.643757Z",
     "start_time": "2019-04-25T04:19:43.634952Z"
    }
   },
   "outputs": [],
   "source": [
    "from datetime import datetime\n",
    "\n",
    "query_date = str(datetime.today().month).zfill(2) + '_' + str(datetime.today().day).zfill(2)\n",
    "print(query_date)\n",
    "pickle.dump(analysis_df, open(f'analysis_query_{query_date}.pkl', 'wb'))"
   ]
  },
  {
   "cell_type": "markdown",
   "metadata": {},
   "source": [
    "### NTS: I want to get the release date of the songs too "
   ]
  }
 ],
 "metadata": {
  "kernelspec": {
   "display_name": "Python 3",
   "language": "python",
   "name": "python3"
  },
  "language_info": {
   "codemirror_mode": {
    "name": "ipython",
    "version": 3
   },
   "file_extension": ".py",
   "mimetype": "text/x-python",
   "name": "python",
   "nbconvert_exporter": "python",
   "pygments_lexer": "ipython3",
   "version": "3.7.3"
  }
 },
 "nbformat": 4,
 "nbformat_minor": 2
}
