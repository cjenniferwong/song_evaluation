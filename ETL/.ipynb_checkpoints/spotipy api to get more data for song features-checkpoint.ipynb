{
 "cells": [
  {
   "cell_type": "markdown",
   "metadata": {},
   "source": [
    "## Getting data from Spotify API to get features for prediction\n",
    "1. started with the songs that I scraped from Billboards and stored in `billboards.csv`"
   ]
  },
  {
   "cell_type": "code",
   "execution_count": 1,
   "metadata": {
    "ExecuteTime": {
     "end_time": "2019-04-27T19:44:34.729774Z",
     "start_time": "2019-04-27T19:44:34.723980Z"
    }
   },
   "outputs": [],
   "source": [
    "import pandas as pd\n",
    "import numpy as np\n",
    "import matplotlib.pyplot as plt\n",
    "%matplotlib inline\n",
    "\n",
    "import spotipy\n",
    "import spotipy.util as util\n",
    "import json\n",
    "\n",
    "import pickle\n",
    "import json\n",
    "from datetime import datetime\n",
    "from collections import Counter\n",
    "from fuzzywuzzy import fuzz\n",
    "\n",
    "# custome functions used to clean the data queried\n",
    "import cleaning_functions"
   ]
  },
  {
   "cell_type": "markdown",
   "metadata": {},
   "source": [
    "Using the spotipy package to create an object that makes it easier to navigate the API instead of using requests.\n",
    "\n",
    "NTS: I should do something with the requests just so I have some idea of how to do it."
   ]
  },
  {
   "cell_type": "code",
   "execution_count": 2,
   "metadata": {
    "ExecuteTime": {
     "end_time": "2019-04-27T19:44:10.243360Z",
     "start_time": "2019-04-27T19:44:10.240323Z"
    },
    "scrolled": true
   },
   "outputs": [],
   "source": [
    "# reading in credentials necessary to use the API\n",
    "# remember to save credentials in double quotes or else it gets mad at you\n",
    "with open('../credentials.json') as filename:\n",
    "    credentials = json.load(filename)\n",
    "    filename.close()\n",
    "    \n",
    "token = util.oauth2.SpotifyClientCredentials(client_id=credentials['client_id'],\n",
    "                                             client_secret=credentials['client_secret'])\n",
    "## creates an access token for you to do what you need to do\n",
    "cache_token = token.get_access_token()\n",
    "sp = spotipy.Spotify(cache_token)"
   ]
  },
  {
   "cell_type": "markdown",
   "metadata": {},
   "source": [
    "### Loading in data and search queries to use the API"
   ]
  },
  {
   "cell_type": "code",
   "execution_count": 4,
   "metadata": {
    "ExecuteTime": {
     "end_time": "2019-04-27T04:46:43.280599Z",
     "start_time": "2019-04-27T04:46:43.245146Z"
    }
   },
   "outputs": [],
   "source": [
    "data = pd.read_csv('../data/billboards.csv')\n",
    "data.rename(columns={\n",
    "    'Artist': 'artist',\n",
    "    'Song':'song'\n",
    "}, inplace=True)\n",
    "\n",
    "data['search_queries'] = (data.artist +' '+ data.song).str.lower()\n",
    "data.head()"
   ]
  },
  {
   "cell_type": "markdown",
   "metadata": {
    "ExecuteTime": {
     "end_time": "2019-04-22T04:31:08.873301Z",
     "start_time": "2019-04-22T04:28:45.556575Z"
    }
   },
   "source": [
    "```python\n",
    "with open('../data/spotify_api_search_results.pkl', 'wb') as filename:\n",
    "    results_list=[]\n",
    "    results_list.extend([x for x in get_features(data)]) # testing on the head only\n",
    "    pickle.dump(results_list[0], filename)\n",
    "    filename.close()\n",
    "```"
   ]
  },
  {
   "cell_type": "markdown",
   "metadata": {
    "ExecuteTime": {
     "end_time": "2019-04-27T17:41:16.909036Z",
     "start_time": "2019-04-27T17:41:16.899624Z"
    }
   },
   "source": [
    "```python\n",
    "pickle.dump(test_df, open('../data/spotify_api_search_results.pkl', 'wb'))\n",
    "```"
   ]
  },
  {
   "cell_type": "markdown",
   "metadata": {},
   "source": [
    "2. Using the search query from concatening the artist and song name, the results are stored in `spotify_api_search_results.pkl`"
   ]
  },
  {
   "cell_type": "code",
   "execution_count": 13,
   "metadata": {
    "ExecuteTime": {
     "end_time": "2019-04-27T17:41:21.584934Z",
     "start_time": "2019-04-27T17:41:21.580374Z"
    }
   },
   "outputs": [
    {
     "data": {
      "text/html": [
       "<div>\n",
       "<style scoped>\n",
       "    .dataframe tbody tr th:only-of-type {\n",
       "        vertical-align: middle;\n",
       "    }\n",
       "\n",
       "    .dataframe tbody tr th {\n",
       "        vertical-align: top;\n",
       "    }\n",
       "\n",
       "    .dataframe thead th {\n",
       "        text-align: right;\n",
       "    }\n",
       "</style>\n",
       "<table border=\"1\" class=\"dataframe\">\n",
       "  <thead>\n",
       "    <tr style=\"text-align: right;\">\n",
       "      <th></th>\n",
       "      <th>duration_ms</th>\n",
       "      <th>explicit</th>\n",
       "      <th>artists</th>\n",
       "      <th>name</th>\n",
       "      <th>release_date</th>\n",
       "      <th>search_query</th>\n",
       "      <th>uri</th>\n",
       "    </tr>\n",
       "  </thead>\n",
       "  <tbody>\n",
       "    <tr>\n",
       "      <th>0</th>\n",
       "      <td>255560.0</td>\n",
       "      <td>True</td>\n",
       "      <td>2 Chainz, Travis Scott</td>\n",
       "      <td>4 AM</td>\n",
       "      <td>2017-06-16</td>\n",
       "      <td>2 chainz 4 am</td>\n",
       "      <td>spotify:track:1nX9KhK3Fff27SnrIor2Yb</td>\n",
       "    </tr>\n",
       "    <tr>\n",
       "      <th>1</th>\n",
       "      <td>210200.0</td>\n",
       "      <td>True</td>\n",
       "      <td>2 Chainz, Ty Dolla $ign, Trey Songz, Jhene Aiko</td>\n",
       "      <td>It's A Vibe</td>\n",
       "      <td>2017-06-16</td>\n",
       "      <td>2 chainz it's a vibe</td>\n",
       "      <td>spotify:track:6H0AwSQ20mo62jGlPGB8S6</td>\n",
       "    </tr>\n",
       "    <tr>\n",
       "      <th>2</th>\n",
       "      <td>234666.0</td>\n",
       "      <td>True</td>\n",
       "      <td>2 Chainz, YG, Offset</td>\n",
       "      <td>PROUD</td>\n",
       "      <td>2018-02-08</td>\n",
       "      <td>2 chainz proud</td>\n",
       "      <td>spotify:track:365wwIjijQdlRJEjUWTidq</td>\n",
       "    </tr>\n",
       "    <tr>\n",
       "      <th>4</th>\n",
       "      <td>225893.0</td>\n",
       "      <td>True</td>\n",
       "      <td>2 Chainz, Drake, Quavo</td>\n",
       "      <td>Bigger Than You (feat. Drake &amp; Quavo)</td>\n",
       "      <td>2018-06-15</td>\n",
       "      <td>2 chainz, drake bigger &gt; you</td>\n",
       "      <td>spotify:track:5S1IUPueD0xE0vj4zU3nSf</td>\n",
       "    </tr>\n",
       "    <tr>\n",
       "      <th>5</th>\n",
       "      <td>220306.0</td>\n",
       "      <td>True</td>\n",
       "      <td>21 Savage</td>\n",
       "      <td>Bank Account</td>\n",
       "      <td>2017-09-23</td>\n",
       "      <td>21 savage bank account</td>\n",
       "      <td>spotify:track:2fQrGHiQOvpL9UgPvtYy6G</td>\n",
       "    </tr>\n",
       "  </tbody>\n",
       "</table>\n",
       "</div>"
      ],
      "text/plain": [
       "   duration_ms explicit                                          artists  \\\n",
       "0     255560.0     True                           2 Chainz, Travis Scott   \n",
       "1     210200.0     True  2 Chainz, Ty Dolla $ign, Trey Songz, Jhene Aiko   \n",
       "2     234666.0     True                             2 Chainz, YG, Offset   \n",
       "4     225893.0     True                           2 Chainz, Drake, Quavo   \n",
       "5     220306.0     True                                        21 Savage   \n",
       "\n",
       "                                    name release_date  \\\n",
       "0                                   4 AM   2017-06-16   \n",
       "1                            It's A Vibe   2017-06-16   \n",
       "2                                  PROUD   2018-02-08   \n",
       "4  Bigger Than You (feat. Drake & Quavo)   2018-06-15   \n",
       "5                           Bank Account   2017-09-23   \n",
       "\n",
       "                   search_query                                   uri  \n",
       "0                 2 chainz 4 am  spotify:track:1nX9KhK3Fff27SnrIor2Yb  \n",
       "1          2 chainz it's a vibe  spotify:track:6H0AwSQ20mo62jGlPGB8S6  \n",
       "2                2 chainz proud  spotify:track:365wwIjijQdlRJEjUWTidq  \n",
       "4  2 chainz, drake bigger > you  spotify:track:5S1IUPueD0xE0vj4zU3nSf  \n",
       "5        21 savage bank account  spotify:track:2fQrGHiQOvpL9UgPvtYy6G  "
      ]
     },
     "execution_count": 13,
     "metadata": {},
     "output_type": "execute_result"
    }
   ],
   "source": [
    "output_data = pickle.load(open('../data/spotify_api_search_results.pkl', 'rb')).dropna()\n",
    "output_data.rename(columns={'key':'artists'}, inplace=True, errors='ignore') # this is to fix a mistake that i made in ETL\n",
    "output_data.head()"
   ]
  },
  {
   "cell_type": "code",
   "execution_count": 15,
   "metadata": {
    "scrolled": true
   },
   "outputs": [
    {
     "data": {
      "text/html": [
       "<div>\n",
       "<style scoped>\n",
       "    .dataframe tbody tr th:only-of-type {\n",
       "        vertical-align: middle;\n",
       "    }\n",
       "\n",
       "    .dataframe tbody tr th {\n",
       "        vertical-align: top;\n",
       "    }\n",
       "\n",
       "    .dataframe thead th {\n",
       "        text-align: right;\n",
       "    }\n",
       "</style>\n",
       "<table border=\"1\" class=\"dataframe\">\n",
       "  <thead>\n",
       "    <tr style=\"text-align: right;\">\n",
       "      <th></th>\n",
       "      <th>duration_ms</th>\n",
       "      <th>explicit</th>\n",
       "      <th>artists</th>\n",
       "      <th>name</th>\n",
       "      <th>release_date</th>\n",
       "      <th>search_query</th>\n",
       "      <th>id</th>\n",
       "    </tr>\n",
       "  </thead>\n",
       "  <tbody>\n",
       "    <tr>\n",
       "      <th>0</th>\n",
       "      <td>255560.0</td>\n",
       "      <td>True</td>\n",
       "      <td>2 Chainz, Travis Scott</td>\n",
       "      <td>4 AM</td>\n",
       "      <td>2017-06-16</td>\n",
       "      <td>2 chainz 4 am</td>\n",
       "      <td>1nX9KhK3Fff27SnrIor2Yb</td>\n",
       "    </tr>\n",
       "    <tr>\n",
       "      <th>1</th>\n",
       "      <td>210200.0</td>\n",
       "      <td>True</td>\n",
       "      <td>2 Chainz, Ty Dolla $ign, Trey Songz, Jhene Aiko</td>\n",
       "      <td>It's A Vibe</td>\n",
       "      <td>2017-06-16</td>\n",
       "      <td>2 chainz it's a vibe</td>\n",
       "      <td>6H0AwSQ20mo62jGlPGB8S6</td>\n",
       "    </tr>\n",
       "    <tr>\n",
       "      <th>2</th>\n",
       "      <td>234666.0</td>\n",
       "      <td>True</td>\n",
       "      <td>2 Chainz, YG, Offset</td>\n",
       "      <td>PROUD</td>\n",
       "      <td>2018-02-08</td>\n",
       "      <td>2 chainz proud</td>\n",
       "      <td>365wwIjijQdlRJEjUWTidq</td>\n",
       "    </tr>\n",
       "    <tr>\n",
       "      <th>4</th>\n",
       "      <td>225893.0</td>\n",
       "      <td>True</td>\n",
       "      <td>2 Chainz, Drake, Quavo</td>\n",
       "      <td>Bigger Than You (feat. Drake &amp; Quavo)</td>\n",
       "      <td>2018-06-15</td>\n",
       "      <td>2 chainz, drake bigger &gt; you</td>\n",
       "      <td>5S1IUPueD0xE0vj4zU3nSf</td>\n",
       "    </tr>\n",
       "    <tr>\n",
       "      <th>5</th>\n",
       "      <td>220306.0</td>\n",
       "      <td>True</td>\n",
       "      <td>21 Savage</td>\n",
       "      <td>Bank Account</td>\n",
       "      <td>2017-09-23</td>\n",
       "      <td>21 savage bank account</td>\n",
       "      <td>2fQrGHiQOvpL9UgPvtYy6G</td>\n",
       "    </tr>\n",
       "  </tbody>\n",
       "</table>\n",
       "</div>"
      ],
      "text/plain": [
       "   duration_ms explicit                                          artists  \\\n",
       "0     255560.0     True                           2 Chainz, Travis Scott   \n",
       "1     210200.0     True  2 Chainz, Ty Dolla $ign, Trey Songz, Jhene Aiko   \n",
       "2     234666.0     True                             2 Chainz, YG, Offset   \n",
       "4     225893.0     True                           2 Chainz, Drake, Quavo   \n",
       "5     220306.0     True                                        21 Savage   \n",
       "\n",
       "                                    name release_date  \\\n",
       "0                                   4 AM   2017-06-16   \n",
       "1                            It's A Vibe   2017-06-16   \n",
       "2                                  PROUD   2018-02-08   \n",
       "4  Bigger Than You (feat. Drake & Quavo)   2018-06-15   \n",
       "5                           Bank Account   2017-09-23   \n",
       "\n",
       "                   search_query                      id  \n",
       "0                 2 chainz 4 am  1nX9KhK3Fff27SnrIor2Yb  \n",
       "1          2 chainz it's a vibe  6H0AwSQ20mo62jGlPGB8S6  \n",
       "2                2 chainz proud  365wwIjijQdlRJEjUWTidq  \n",
       "4  2 chainz, drake bigger > you  5S1IUPueD0xE0vj4zU3nSf  \n",
       "5        21 savage bank account  2fQrGHiQOvpL9UgPvtYy6G  "
      ]
     },
     "execution_count": 15,
     "metadata": {},
     "output_type": "execute_result"
    }
   ],
   "source": [
    "uri = [uri.split('track:')[1] for uri in output_data.uri.values]\n",
    "\n",
    "output_data['id'] = uri\n",
    "output_data.drop(['uri'],axis=1, inplace=True)\n",
    "output_data.head()"
   ]
  },
  {
   "cell_type": "markdown",
   "metadata": {},
   "source": [
    "### Combining the songs that I found manually\n",
    "\n",
    "There were some songs that weren't found with the programmatic search query, so I went back and created a modified query hoping that it would return (a) song. These songs and their results were stored in `manually_found_songs.pkl`"
   ]
  },
  {
   "cell_type": "markdown",
   "metadata": {},
   "source": [
    "```python\n",
    "\n",
    "file_path = '../data/spotify_api_search_results.pkl'\n",
    "\n",
    "with open(file_path, 'rb') as file:\n",
    "    output_data = pickle.load(file)\n",
    "    missing_data = output_data[output_data.name.isna()]\n",
    "    file.close()\n",
    "    \n",
    "missing_data = output_data[output_data.name.isna()]\n",
    "\n",
    "missing_modified = pd.read_csv('../data/missing_modified_results.csv')\n",
    "# i should be able to just concat across since its the same length \n",
    "\n",
    "missing_data = pd.concat([missing_data.search_query.reset_index(),\n",
    "missing_modified.reset_index()], axis=1).drop('index', axis=1).dropna()\n",
    "\n",
    "pickle.dump(missing_data, open('../data/manually_found_songs.pkl', 'wb'))\n",
    "\n",
    "```"
   ]
  },
  {
   "cell_type": "code",
   "execution_count": 16,
   "metadata": {
    "ExecuteTime": {
     "end_time": "2019-04-27T19:45:37.750776Z",
     "start_time": "2019-04-27T19:45:37.728609Z"
    }
   },
   "outputs": [
    {
     "data": {
      "text/html": [
       "<div>\n",
       "<style scoped>\n",
       "    .dataframe tbody tr th:only-of-type {\n",
       "        vertical-align: middle;\n",
       "    }\n",
       "\n",
       "    .dataframe tbody tr th {\n",
       "        vertical-align: top;\n",
       "    }\n",
       "\n",
       "    .dataframe thead th {\n",
       "        text-align: right;\n",
       "    }\n",
       "</style>\n",
       "<table border=\"1\" class=\"dataframe\">\n",
       "  <thead>\n",
       "    <tr style=\"text-align: right;\">\n",
       "      <th></th>\n",
       "      <th>search_query</th>\n",
       "      <th>artists</th>\n",
       "      <th>duration_ms</th>\n",
       "      <th>explicit</th>\n",
       "      <th>id</th>\n",
       "      <th>modified_query</th>\n",
       "      <th>name</th>\n",
       "      <th>popularity</th>\n",
       "    </tr>\n",
       "  </thead>\n",
       "  <tbody>\n",
       "    <tr>\n",
       "      <th>0</th>\n",
       "      <td>2 chainz x gucci mane x quavo good drank</td>\n",
       "      <td>2 Chainz, Gucci Mane, Quavo</td>\n",
       "      <td>222706.0</td>\n",
       "      <td>True</td>\n",
       "      <td>39pS70eeDvyCAF3t8NAlVV</td>\n",
       "      <td>quavo good drank</td>\n",
       "      <td>Good Drank</td>\n",
       "      <td>65.0</td>\n",
       "    </tr>\n",
       "    <tr>\n",
       "      <th>1</th>\n",
       "      <td>21 savage my choppa hate n****s</td>\n",
       "      <td>21 Savage, Metro Boomin</td>\n",
       "      <td>148640.0</td>\n",
       "      <td>True</td>\n",
       "      <td>2D2w9943rsnJOGCrI4aMQp</td>\n",
       "      <td>21 savage my choppa</td>\n",
       "      <td>My Choppa Hate Niggas</td>\n",
       "      <td>67.0</td>\n",
       "    </tr>\n",
       "    <tr>\n",
       "      <th>2</th>\n",
       "      <td>becky g + natti natasha sin pijama</td>\n",
       "      <td>Marillo</td>\n",
       "      <td>191555.0</td>\n",
       "      <td>False</td>\n",
       "      <td>6ItVmJiq8rDwBKq026zSa3</td>\n",
       "      <td>becky g pijama</td>\n",
       "      <td>Como Becky G Sin Pijama</td>\n",
       "      <td>0.0</td>\n",
       "    </tr>\n",
       "    <tr>\n",
       "      <th>9</th>\n",
       "      <td>jacquees x dej loaf at the club</td>\n",
       "      <td>Jacquees, DeJ Loaf</td>\n",
       "      <td>173053.0</td>\n",
       "      <td>False</td>\n",
       "      <td>0NqZ65jPelNB13gzsvH2Ma</td>\n",
       "      <td>dej loaf at the club</td>\n",
       "      <td>At The Club</td>\n",
       "      <td>67.0</td>\n",
       "    </tr>\n",
       "    <tr>\n",
       "      <th>10</th>\n",
       "      <td>kygo x selena gomez it ain't me</td>\n",
       "      <td>Kygo, Selena Gomez</td>\n",
       "      <td>216586.0</td>\n",
       "      <td>False</td>\n",
       "      <td>677RjvAT2lpYjo1Whczjzx</td>\n",
       "      <td>kygo it aint me</td>\n",
       "      <td>It Ain't Me</td>\n",
       "      <td>50.0</td>\n",
       "    </tr>\n",
       "  </tbody>\n",
       "</table>\n",
       "</div>"
      ],
      "text/plain": [
       "                                search_query                      artists  \\\n",
       "0   2 chainz x gucci mane x quavo good drank  2 Chainz, Gucci Mane, Quavo   \n",
       "1            21 savage my choppa hate n****s      21 Savage, Metro Boomin   \n",
       "2         becky g + natti natasha sin pijama                      Marillo   \n",
       "9            jacquees x dej loaf at the club           Jacquees, DeJ Loaf   \n",
       "10           kygo x selena gomez it ain't me           Kygo, Selena Gomez   \n",
       "\n",
       "    duration_ms explicit                      id        modified_query  \\\n",
       "0      222706.0     True  39pS70eeDvyCAF3t8NAlVV      quavo good drank   \n",
       "1      148640.0     True  2D2w9943rsnJOGCrI4aMQp   21 savage my choppa   \n",
       "2      191555.0    False  6ItVmJiq8rDwBKq026zSa3        becky g pijama   \n",
       "9      173053.0    False  0NqZ65jPelNB13gzsvH2Ma  dej loaf at the club   \n",
       "10     216586.0    False  677RjvAT2lpYjo1Whczjzx       kygo it aint me   \n",
       "\n",
       "                       name  popularity  \n",
       "0                Good Drank        65.0  \n",
       "1     My Choppa Hate Niggas        67.0  \n",
       "2   Como Becky G Sin Pijama         0.0  \n",
       "9               At The Club        67.0  \n",
       "10              It Ain't Me        50.0  "
      ]
     },
     "execution_count": 16,
     "metadata": {},
     "output_type": "execute_result"
    }
   ],
   "source": [
    "missing_data = pickle.load(open('../data/manually_found_songs.pkl', 'rb'))\n",
    "missing_data.head()"
   ]
  },
  {
   "cell_type": "code",
   "execution_count": 17,
   "metadata": {
    "ExecuteTime": {
     "end_time": "2019-04-27T19:45:49.777506Z",
     "start_time": "2019-04-27T19:45:49.769310Z"
    }
   },
   "outputs": [
    {
     "name": "stdout",
     "output_type": "stream",
     "text": [
      "<class 'pandas.core.frame.DataFrame'>\n",
      "Int64Index: 809 entries, 0 to 827\n",
      "Data columns (total 7 columns):\n",
      "duration_ms     809 non-null float64\n",
      "explicit        809 non-null object\n",
      "artists         809 non-null object\n",
      "name            809 non-null object\n",
      "release_date    809 non-null object\n",
      "search_query    809 non-null object\n",
      "id              809 non-null object\n",
      "dtypes: float64(1), object(6)\n",
      "memory usage: 50.6+ KB\n"
     ]
    }
   ],
   "source": [
    "output_data.info()"
   ]
  },
  {
   "cell_type": "code",
   "execution_count": 18,
   "metadata": {},
   "outputs": [
    {
     "name": "stdout",
     "output_type": "stream",
     "text": [
      "<class 'pandas.core.frame.DataFrame'>\n",
      "Int64Index: 13 entries, 0 to 18\n",
      "Data columns (total 8 columns):\n",
      "search_query      13 non-null object\n",
      "artists           13 non-null object\n",
      "duration_ms       13 non-null float64\n",
      "explicit          13 non-null object\n",
      "id                13 non-null object\n",
      "modified_query    13 non-null object\n",
      "name              13 non-null object\n",
      "popularity        13 non-null float64\n",
      "dtypes: float64(2), object(6)\n",
      "memory usage: 936.0+ bytes\n"
     ]
    }
   ],
   "source": [
    "missing_data.info()"
   ]
  },
  {
   "cell_type": "markdown",
   "metadata": {},
   "source": [
    "3. Need to drop the missing songs from the first pass of the API, and concat the manually found songs to that dataframe. Note that JAY-Z's songs are not on Spotify, which doesn't surprise me as he has his own competitive music streaming site TIDAL."
   ]
  },
  {
   "cell_type": "code",
   "execution_count": 20,
   "metadata": {},
   "outputs": [
    {
     "name": "stderr",
     "output_type": "stream",
     "text": [
      "/anaconda3/lib/python3.7/site-packages/ipykernel_launcher.py:2: FutureWarning: Sorting because non-concatenation axis is not aligned. A future version\n",
      "of pandas will change to not sort by default.\n",
      "\n",
      "To accept the future behavior, pass 'sort=False'.\n",
      "\n",
      "To retain the current behavior and silence the warning, pass 'sort=True'.\n",
      "\n",
      "  \n"
     ]
    }
   ],
   "source": [
    "all_songs = pd.concat([output_data.drop('uri', axis=1, errors='ignore'),\n",
    "           missing_data.drop(['modified_query','popularity'], axis=1)], axis=0)"
   ]
  },
  {
   "cell_type": "code",
   "execution_count": 21,
   "metadata": {},
   "outputs": [
    {
     "name": "stdout",
     "output_type": "stream",
     "text": [
      "<class 'pandas.core.frame.DataFrame'>\n",
      "Int64Index: 822 entries, 0 to 18\n",
      "Data columns (total 7 columns):\n",
      "artists         822 non-null object\n",
      "duration_ms     822 non-null float64\n",
      "explicit        822 non-null object\n",
      "id              822 non-null object\n",
      "name            822 non-null object\n",
      "release_date    809 non-null object\n",
      "search_query    822 non-null object\n",
      "dtypes: float64(1), object(6)\n",
      "memory usage: 51.4+ KB\n"
     ]
    }
   ],
   "source": [
    "all_songs.info()"
   ]
  },
  {
   "cell_type": "code",
   "execution_count": 22,
   "metadata": {},
   "outputs": [],
   "source": [
    "all_songs.to_csv('../data/all_data_0504.csv', index=False)"
   ]
  },
  {
   "cell_type": "markdown",
   "metadata": {},
   "source": [
    "4. Now that I have the song's URI from the search results, Spotify has an API endpoint that let's you get the audio features. The results of this process is stored in `audio_features.pkl`"
   ]
  },
  {
   "cell_type": "code",
   "execution_count": null,
   "metadata": {
    "ExecuteTime": {
     "end_time": "2019-04-27T20:11:45.763432Z",
     "start_time": "2019-04-27T20:11:45.542644Z"
    }
   },
   "outputs": [],
   "source": [
    "audio_features = all_songs['id'].apply(get_audio_features)\n",
    "\n",
    "# need to flatten it \n",
    "audio_list = []\n",
    "audio_list.extend([value for value in audio_features.values])\n",
    "audio_features = pd.DataFrame(audio_list)\n",
    "\n",
    "pickle.dump(audio_features, open('../data/audio_features.pkl', 'wb'))"
   ]
  },
  {
   "cell_type": "markdown",
   "metadata": {},
   "source": [
    "NTS: it seems like the track method returns results that I already have stores so i'm not going to bother with that right now.... might be something to look into later when i come back to the project?"
   ]
  },
  {
   "cell_type": "markdown",
   "metadata": {},
   "source": [
    "5. There is also an audio_analysis endpoint on the Spotify API. The result of this query is stored in `analysis_query.pkl`"
   ]
  },
  {
   "cell_type": "code",
   "execution_count": null,
   "metadata": {
    "ExecuteTime": {
     "end_time": "2019-04-27T20:00:48.669278Z",
     "start_time": "2019-04-27T19:48:19.272679Z"
    },
    "scrolled": true
   },
   "outputs": [],
   "source": [
    "analysis_df = pd.DataFrame.from_dict(output_data['id'].apply(get_audio_analysis))\n",
    "\n",
    "flatten_list = []\n",
    "flatten_values = flatten_list.extend([values[0] for values in analysis_df.values])\n",
    "analysis_df = pd.DataFrame(flatten_list)"
   ]
  },
  {
   "cell_type": "code",
   "execution_count": null,
   "metadata": {
    "ExecuteTime": {
     "end_time": "2019-04-27T20:05:47.355774Z",
     "start_time": "2019-04-27T20:05:47.350288Z"
    }
   },
   "outputs": [],
   "source": [
    "query_date = str(datetime.today().month).zfill(2) + '_' + str(datetime.today().day).zfill(2)\n",
    "print(query_date)\n",
    "pickle.dump(analysis_df, open(f'../data/analysis_query_{query_date}.pkl', 'wb'))"
   ]
  }
 ],
 "metadata": {
  "kernelspec": {
   "display_name": "Python 3",
   "language": "python",
   "name": "python3"
  },
  "language_info": {
   "codemirror_mode": {
    "name": "ipython",
    "version": 3
   },
   "file_extension": ".py",
   "mimetype": "text/x-python",
   "name": "python",
   "nbconvert_exporter": "python",
   "pygments_lexer": "ipython3",
   "version": "3.7.3"
  }
 },
 "nbformat": 4,
 "nbformat_minor": 2
}
