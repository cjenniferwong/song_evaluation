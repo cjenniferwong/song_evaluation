{
 "cells": [
  {
   "cell_type": "markdown",
   "metadata": {},
   "source": [
    "## Combining all the data that I've gotten from the Spotify API"
   ]
  },
  {
   "cell_type": "code",
   "execution_count": 1,
   "metadata": {
    "ExecuteTime": {
     "end_time": "2019-04-27T20:09:32.517110Z",
     "start_time": "2019-04-27T20:09:32.039787Z"
    }
   },
   "outputs": [],
   "source": [
    "import pandas as pd\n",
    "import numpy as np\n",
    "\n",
    "import json\n",
    "import pickle\n",
    "from glob import glob"
   ]
  },
  {
   "cell_type": "code",
   "execution_count": 2,
   "metadata": {
    "ExecuteTime": {
     "end_time": "2019-04-27T20:09:32.527416Z",
     "start_time": "2019-04-27T20:09:32.518844Z"
    }
   },
   "outputs": [
    {
     "data": {
      "text/plain": [
       "['../data/analysis_query_04_27.pkl',\n",
       " '../data/search_results.pkl',\n",
       " '../data/audio_features.pkl',\n",
       " '../data/analysis_query_04_24.pkl',\n",
       " '../data/all_data.csv',\n",
       " '../data/missing_data_songs.csv',\n",
       " '../data/missing_modified_results.csv',\n",
       " '../data/artist_query_results.pkl',\n",
       " '../data/output.pkl',\n",
       " '../data/genres_encoded.pkl',\n",
       " '../data/billboards.csv',\n",
       " '../data/artists_df_dummied.pkl',\n",
       " '../data/spotify_api_search_results.pkl']"
      ]
     },
     "execution_count": 2,
     "metadata": {},
     "output_type": "execute_result"
    }
   ],
   "source": [
    "data_paths = glob('../data/*')\n",
    "data_paths"
   ]
  },
  {
   "cell_type": "code",
   "execution_count": 10,
   "metadata": {
    "ExecuteTime": {
     "end_time": "2019-04-27T20:10:38.236295Z",
     "start_time": "2019-04-27T20:10:38.222342Z"
    }
   },
   "outputs": [
    {
     "data": {
      "text/html": [
       "<div>\n",
       "<style scoped>\n",
       "    .dataframe tbody tr th:only-of-type {\n",
       "        vertical-align: middle;\n",
       "    }\n",
       "\n",
       "    .dataframe tbody tr th {\n",
       "        vertical-align: top;\n",
       "    }\n",
       "\n",
       "    .dataframe thead th {\n",
       "        text-align: right;\n",
       "    }\n",
       "</style>\n",
       "<table border=\"1\" class=\"dataframe\">\n",
       "  <thead>\n",
       "    <tr style=\"text-align: right;\">\n",
       "      <th></th>\n",
       "      <th>artists</th>\n",
       "      <th>duration_ms</th>\n",
       "      <th>explicit</th>\n",
       "      <th>id</th>\n",
       "      <th>name</th>\n",
       "      <th>popularity</th>\n",
       "      <th>search_query</th>\n",
       "    </tr>\n",
       "  </thead>\n",
       "  <tbody>\n",
       "    <tr>\n",
       "      <th>0</th>\n",
       "      <td>2 Chainz, Travis Scott</td>\n",
       "      <td>255560</td>\n",
       "      <td>True</td>\n",
       "      <td>1nX9KhK3Fff27SnrIor2Yb</td>\n",
       "      <td>4 AM</td>\n",
       "      <td>72</td>\n",
       "      <td>2 chainz 4 am</td>\n",
       "    </tr>\n",
       "    <tr>\n",
       "      <th>1</th>\n",
       "      <td>2 Chainz, Ty Dolla $ign, Trey Songz, Jhene Aiko</td>\n",
       "      <td>210200</td>\n",
       "      <td>True</td>\n",
       "      <td>6H0AwSQ20mo62jGlPGB8S6</td>\n",
       "      <td>It's A Vibe</td>\n",
       "      <td>76</td>\n",
       "      <td>2 chainz it's a vibe</td>\n",
       "    </tr>\n",
       "    <tr>\n",
       "      <th>2</th>\n",
       "      <td>2 Chainz, YG, Offset</td>\n",
       "      <td>234666</td>\n",
       "      <td>True</td>\n",
       "      <td>365wwIjijQdlRJEjUWTidq</td>\n",
       "      <td>PROUD</td>\n",
       "      <td>61</td>\n",
       "      <td>2 chainz proud</td>\n",
       "    </tr>\n",
       "    <tr>\n",
       "      <th>3</th>\n",
       "      <td>2 Chainz, Drake, Quavo</td>\n",
       "      <td>225893</td>\n",
       "      <td>True</td>\n",
       "      <td>5S1IUPueD0xE0vj4zU3nSf</td>\n",
       "      <td>Bigger Than You (feat. Drake &amp; Quavo)</td>\n",
       "      <td>75</td>\n",
       "      <td>2 chainz, drake bigger &gt; you</td>\n",
       "    </tr>\n",
       "    <tr>\n",
       "      <th>4</th>\n",
       "      <td>21 Savage</td>\n",
       "      <td>220306</td>\n",
       "      <td>True</td>\n",
       "      <td>2fQrGHiQOvpL9UgPvtYy6G</td>\n",
       "      <td>Bank Account</td>\n",
       "      <td>83</td>\n",
       "      <td>21 savage bank account</td>\n",
       "    </tr>\n",
       "  </tbody>\n",
       "</table>\n",
       "</div>"
      ],
      "text/plain": [
       "                                           artists duration_ms explicit  \\\n",
       "0                           2 Chainz, Travis Scott      255560     True   \n",
       "1  2 Chainz, Ty Dolla $ign, Trey Songz, Jhene Aiko      210200     True   \n",
       "2                             2 Chainz, YG, Offset      234666     True   \n",
       "3                           2 Chainz, Drake, Quavo      225893     True   \n",
       "4                                        21 Savage      220306     True   \n",
       "\n",
       "                       id                                   name popularity  \\\n",
       "0  1nX9KhK3Fff27SnrIor2Yb                                   4 AM         72   \n",
       "1  6H0AwSQ20mo62jGlPGB8S6                            It's A Vibe         76   \n",
       "2  365wwIjijQdlRJEjUWTidq                                  PROUD         61   \n",
       "3  5S1IUPueD0xE0vj4zU3nSf  Bigger Than You (feat. Drake & Quavo)         75   \n",
       "4  2fQrGHiQOvpL9UgPvtYy6G                           Bank Account         83   \n",
       "\n",
       "                   search_query  \n",
       "0                 2 chainz 4 am  \n",
       "1          2 chainz it's a vibe  \n",
       "2                2 chainz proud  \n",
       "3  2 chainz, drake bigger > you  \n",
       "4        21 savage bank account  "
      ]
     },
     "execution_count": 10,
     "metadata": {},
     "output_type": "execute_result"
    }
   ],
   "source": [
    "search_results = '../data/search_results.pkl'\n",
    "search_results = pickle.load(open(search_results, 'rb'))\n",
    "search_results = pd.DataFrame(search_results)\n",
    "search_results.drop(['modified_query'],axis=1, inplace=True, errors='ignore')\n",
    "search_results.head()"
   ]
  },
  {
   "cell_type": "code",
   "execution_count": 11,
   "metadata": {
    "ExecuteTime": {
     "end_time": "2019-04-27T20:10:39.690549Z",
     "start_time": "2019-04-27T20:10:39.683924Z"
    }
   },
   "outputs": [
    {
     "name": "stdout",
     "output_type": "stream",
     "text": [
      "<class 'pandas.core.frame.DataFrame'>\n",
      "RangeIndex: 822 entries, 0 to 821\n",
      "Data columns (total 7 columns):\n",
      "artists         822 non-null object\n",
      "duration_ms     822 non-null object\n",
      "explicit        822 non-null object\n",
      "id              822 non-null object\n",
      "name            822 non-null object\n",
      "popularity      822 non-null object\n",
      "search_query    822 non-null object\n",
      "dtypes: object(7)\n",
      "memory usage: 45.0+ KB\n"
     ]
    }
   ],
   "source": [
    "search_results.info()"
   ]
  },
  {
   "cell_type": "code",
   "execution_count": 12,
   "metadata": {
    "ExecuteTime": {
     "end_time": "2019-04-27T20:12:14.837113Z",
     "start_time": "2019-04-27T20:12:14.818988Z"
    }
   },
   "outputs": [
    {
     "data": {
      "text/html": [
       "<div>\n",
       "<style scoped>\n",
       "    .dataframe tbody tr th:only-of-type {\n",
       "        vertical-align: middle;\n",
       "    }\n",
       "\n",
       "    .dataframe tbody tr th {\n",
       "        vertical-align: top;\n",
       "    }\n",
       "\n",
       "    .dataframe thead th {\n",
       "        text-align: right;\n",
       "    }\n",
       "</style>\n",
       "<table border=\"1\" class=\"dataframe\">\n",
       "  <thead>\n",
       "    <tr style=\"text-align: right;\">\n",
       "      <th></th>\n",
       "      <th>acousticness</th>\n",
       "      <th>analysis_url</th>\n",
       "      <th>danceability</th>\n",
       "      <th>duration_ms</th>\n",
       "      <th>energy</th>\n",
       "      <th>id</th>\n",
       "      <th>instrumentalness</th>\n",
       "      <th>key</th>\n",
       "      <th>liveness</th>\n",
       "      <th>loudness</th>\n",
       "      <th>mode</th>\n",
       "      <th>speechiness</th>\n",
       "      <th>tempo</th>\n",
       "      <th>time_signature</th>\n",
       "      <th>track_href</th>\n",
       "      <th>type</th>\n",
       "      <th>uri</th>\n",
       "      <th>valence</th>\n",
       "    </tr>\n",
       "  </thead>\n",
       "  <tbody>\n",
       "    <tr>\n",
       "      <th>0</th>\n",
       "      <td>0.1180</td>\n",
       "      <td>https://api.spotify.com/v1/audio-analysis/1nX9...</td>\n",
       "      <td>0.796</td>\n",
       "      <td>255560</td>\n",
       "      <td>0.500</td>\n",
       "      <td>1nX9KhK3Fff27SnrIor2Yb</td>\n",
       "      <td>0.000000</td>\n",
       "      <td>1</td>\n",
       "      <td>0.1550</td>\n",
       "      <td>-7.210</td>\n",
       "      <td>1</td>\n",
       "      <td>0.425</td>\n",
       "      <td>75.012</td>\n",
       "      <td>4</td>\n",
       "      <td>https://api.spotify.com/v1/tracks/1nX9KhK3Fff2...</td>\n",
       "      <td>audio_features</td>\n",
       "      <td>spotify:track:1nX9KhK3Fff27SnrIor2Yb</td>\n",
       "      <td>0.227</td>\n",
       "    </tr>\n",
       "    <tr>\n",
       "      <th>1</th>\n",
       "      <td>0.0317</td>\n",
       "      <td>https://api.spotify.com/v1/audio-analysis/6H0A...</td>\n",
       "      <td>0.822</td>\n",
       "      <td>210200</td>\n",
       "      <td>0.505</td>\n",
       "      <td>6H0AwSQ20mo62jGlPGB8S6</td>\n",
       "      <td>0.000911</td>\n",
       "      <td>7</td>\n",
       "      <td>0.1140</td>\n",
       "      <td>-7.384</td>\n",
       "      <td>1</td>\n",
       "      <td>0.147</td>\n",
       "      <td>73.003</td>\n",
       "      <td>4</td>\n",
       "      <td>https://api.spotify.com/v1/tracks/6H0AwSQ20mo6...</td>\n",
       "      <td>audio_features</td>\n",
       "      <td>spotify:track:6H0AwSQ20mo62jGlPGB8S6</td>\n",
       "      <td>0.523</td>\n",
       "    </tr>\n",
       "    <tr>\n",
       "      <th>2</th>\n",
       "      <td>0.7380</td>\n",
       "      <td>https://api.spotify.com/v1/audio-analysis/365w...</td>\n",
       "      <td>0.781</td>\n",
       "      <td>234667</td>\n",
       "      <td>0.810</td>\n",
       "      <td>365wwIjijQdlRJEjUWTidq</td>\n",
       "      <td>0.000000</td>\n",
       "      <td>10</td>\n",
       "      <td>0.1440</td>\n",
       "      <td>-4.301</td>\n",
       "      <td>0</td>\n",
       "      <td>0.356</td>\n",
       "      <td>173.949</td>\n",
       "      <td>4</td>\n",
       "      <td>https://api.spotify.com/v1/tracks/365wwIjijQdl...</td>\n",
       "      <td>audio_features</td>\n",
       "      <td>spotify:track:365wwIjijQdlRJEjUWTidq</td>\n",
       "      <td>0.908</td>\n",
       "    </tr>\n",
       "    <tr>\n",
       "      <th>3</th>\n",
       "      <td>0.2470</td>\n",
       "      <td>https://api.spotify.com/v1/audio-analysis/5S1I...</td>\n",
       "      <td>0.888</td>\n",
       "      <td>225893</td>\n",
       "      <td>0.515</td>\n",
       "      <td>5S1IUPueD0xE0vj4zU3nSf</td>\n",
       "      <td>0.000000</td>\n",
       "      <td>1</td>\n",
       "      <td>0.4460</td>\n",
       "      <td>-6.246</td>\n",
       "      <td>1</td>\n",
       "      <td>0.271</td>\n",
       "      <td>141.009</td>\n",
       "      <td>4</td>\n",
       "      <td>https://api.spotify.com/v1/tracks/5S1IUPueD0xE...</td>\n",
       "      <td>audio_features</td>\n",
       "      <td>spotify:track:5S1IUPueD0xE0vj4zU3nSf</td>\n",
       "      <td>0.264</td>\n",
       "    </tr>\n",
       "    <tr>\n",
       "      <th>4</th>\n",
       "      <td>0.0151</td>\n",
       "      <td>https://api.spotify.com/v1/audio-analysis/2fQr...</td>\n",
       "      <td>0.884</td>\n",
       "      <td>220307</td>\n",
       "      <td>0.346</td>\n",
       "      <td>2fQrGHiQOvpL9UgPvtYy6G</td>\n",
       "      <td>0.000007</td>\n",
       "      <td>8</td>\n",
       "      <td>0.0871</td>\n",
       "      <td>-8.228</td>\n",
       "      <td>0</td>\n",
       "      <td>0.351</td>\n",
       "      <td>75.016</td>\n",
       "      <td>4</td>\n",
       "      <td>https://api.spotify.com/v1/tracks/2fQrGHiQOvpL...</td>\n",
       "      <td>audio_features</td>\n",
       "      <td>spotify:track:2fQrGHiQOvpL9UgPvtYy6G</td>\n",
       "      <td>0.376</td>\n",
       "    </tr>\n",
       "  </tbody>\n",
       "</table>\n",
       "</div>"
      ],
      "text/plain": [
       "   acousticness                                       analysis_url  \\\n",
       "0        0.1180  https://api.spotify.com/v1/audio-analysis/1nX9...   \n",
       "1        0.0317  https://api.spotify.com/v1/audio-analysis/6H0A...   \n",
       "2        0.7380  https://api.spotify.com/v1/audio-analysis/365w...   \n",
       "3        0.2470  https://api.spotify.com/v1/audio-analysis/5S1I...   \n",
       "4        0.0151  https://api.spotify.com/v1/audio-analysis/2fQr...   \n",
       "\n",
       "   danceability  duration_ms  energy                      id  \\\n",
       "0         0.796       255560   0.500  1nX9KhK3Fff27SnrIor2Yb   \n",
       "1         0.822       210200   0.505  6H0AwSQ20mo62jGlPGB8S6   \n",
       "2         0.781       234667   0.810  365wwIjijQdlRJEjUWTidq   \n",
       "3         0.888       225893   0.515  5S1IUPueD0xE0vj4zU3nSf   \n",
       "4         0.884       220307   0.346  2fQrGHiQOvpL9UgPvtYy6G   \n",
       "\n",
       "   instrumentalness  key  liveness  loudness  mode  speechiness    tempo  \\\n",
       "0          0.000000    1    0.1550    -7.210     1        0.425   75.012   \n",
       "1          0.000911    7    0.1140    -7.384     1        0.147   73.003   \n",
       "2          0.000000   10    0.1440    -4.301     0        0.356  173.949   \n",
       "3          0.000000    1    0.4460    -6.246     1        0.271  141.009   \n",
       "4          0.000007    8    0.0871    -8.228     0        0.351   75.016   \n",
       "\n",
       "   time_signature                                         track_href  \\\n",
       "0               4  https://api.spotify.com/v1/tracks/1nX9KhK3Fff2...   \n",
       "1               4  https://api.spotify.com/v1/tracks/6H0AwSQ20mo6...   \n",
       "2               4  https://api.spotify.com/v1/tracks/365wwIjijQdl...   \n",
       "3               4  https://api.spotify.com/v1/tracks/5S1IUPueD0xE...   \n",
       "4               4  https://api.spotify.com/v1/tracks/2fQrGHiQOvpL...   \n",
       "\n",
       "             type                                   uri  valence  \n",
       "0  audio_features  spotify:track:1nX9KhK3Fff27SnrIor2Yb    0.227  \n",
       "1  audio_features  spotify:track:6H0AwSQ20mo62jGlPGB8S6    0.523  \n",
       "2  audio_features  spotify:track:365wwIjijQdlRJEjUWTidq    0.908  \n",
       "3  audio_features  spotify:track:5S1IUPueD0xE0vj4zU3nSf    0.264  \n",
       "4  audio_features  spotify:track:2fQrGHiQOvpL9UgPvtYy6G    0.376  "
      ]
     },
     "execution_count": 12,
     "metadata": {},
     "output_type": "execute_result"
    }
   ],
   "source": [
    "audio_features = '../data/audio_features.pkl'\n",
    "audio_features = pickle.load(open(audio_features, 'rb'))\n",
    "audio_features = pd.DataFrame(audio_features)\n",
    "audio_features.head()"
   ]
  },
  {
   "cell_type": "code",
   "execution_count": 13,
   "metadata": {
    "ExecuteTime": {
     "end_time": "2019-04-27T20:12:16.219306Z",
     "start_time": "2019-04-27T20:12:16.210293Z"
    }
   },
   "outputs": [
    {
     "name": "stdout",
     "output_type": "stream",
     "text": [
      "<class 'pandas.core.frame.DataFrame'>\n",
      "RangeIndex: 822 entries, 0 to 821\n",
      "Data columns (total 18 columns):\n",
      "acousticness        822 non-null float64\n",
      "analysis_url        822 non-null object\n",
      "danceability        822 non-null float64\n",
      "duration_ms         822 non-null int64\n",
      "energy              822 non-null float64\n",
      "id                  822 non-null object\n",
      "instrumentalness    822 non-null float64\n",
      "key                 822 non-null int64\n",
      "liveness            822 non-null float64\n",
      "loudness            822 non-null float64\n",
      "mode                822 non-null int64\n",
      "speechiness         822 non-null float64\n",
      "tempo               822 non-null float64\n",
      "time_signature      822 non-null int64\n",
      "track_href          822 non-null object\n",
      "type                822 non-null object\n",
      "uri                 822 non-null object\n",
      "valence             822 non-null float64\n",
      "dtypes: float64(9), int64(4), object(5)\n",
      "memory usage: 115.7+ KB\n"
     ]
    }
   ],
   "source": [
    "audio_features.info()"
   ]
  },
  {
   "cell_type": "code",
   "execution_count": 14,
   "metadata": {
    "ExecuteTime": {
     "end_time": "2019-04-27T20:12:21.777301Z",
     "start_time": "2019-04-27T20:12:21.770779Z"
    }
   },
   "outputs": [],
   "source": [
    "search_audio_features = pd.merge(search_results, audio_features, left_index=True, right_index=True, how='left')"
   ]
  },
  {
   "cell_type": "code",
   "execution_count": 15,
   "metadata": {
    "ExecuteTime": {
     "end_time": "2019-04-27T20:12:24.711885Z",
     "start_time": "2019-04-27T20:12:24.707307Z"
    }
   },
   "outputs": [
    {
     "data": {
      "text/plain": [
       "0"
      ]
     },
     "execution_count": 15,
     "metadata": {},
     "output_type": "execute_result"
    }
   ],
   "source": [
    "# how many songs was i not able to successfully find through the search function\n",
    "sum(search_audio_features['acousticness'].isna()) # thats not too bad"
   ]
  },
  {
   "cell_type": "code",
   "execution_count": null,
   "metadata": {},
   "outputs": [],
   "source": []
  },
  {
   "cell_type": "code",
   "execution_count": 21,
   "metadata": {
    "ExecuteTime": {
     "end_time": "2019-04-27T20:13:00.200115Z",
     "start_time": "2019-04-27T20:13:00.195571Z"
    }
   },
   "outputs": [],
   "source": [
    "analysis = '../data/analysis_query_04_27.pkl'\n",
    "analysis = pickle.load(open(analysis, 'rb'))"
   ]
  },
  {
   "cell_type": "code",
   "execution_count": 22,
   "metadata": {
    "ExecuteTime": {
     "end_time": "2019-04-27T20:13:00.461261Z",
     "start_time": "2019-04-27T20:13:00.443824Z"
    }
   },
   "outputs": [
    {
     "data": {
      "text/html": [
       "<div>\n",
       "<style scoped>\n",
       "    .dataframe tbody tr th:only-of-type {\n",
       "        vertical-align: middle;\n",
       "    }\n",
       "\n",
       "    .dataframe tbody tr th {\n",
       "        vertical-align: top;\n",
       "    }\n",
       "\n",
       "    .dataframe thead th {\n",
       "        text-align: right;\n",
       "    }\n",
       "</style>\n",
       "<table border=\"1\" class=\"dataframe\">\n",
       "  <thead>\n",
       "    <tr style=\"text-align: right;\">\n",
       "      <th></th>\n",
       "      <th>analysis_channels</th>\n",
       "      <th>analysis_sample_rate</th>\n",
       "      <th>duration</th>\n",
       "      <th>end_of_fade_in</th>\n",
       "      <th>id</th>\n",
       "      <th>key</th>\n",
       "      <th>key_confidence</th>\n",
       "      <th>loudness</th>\n",
       "      <th>mode</th>\n",
       "      <th>mode_confidence</th>\n",
       "      <th>num_samples</th>\n",
       "      <th>offset_seconds</th>\n",
       "      <th>sample_md5</th>\n",
       "      <th>start_of_fade_out</th>\n",
       "      <th>tempo</th>\n",
       "      <th>tempo_confidence</th>\n",
       "      <th>time_signature</th>\n",
       "      <th>time_signature_confidence</th>\n",
       "      <th>window_seconds</th>\n",
       "    </tr>\n",
       "  </thead>\n",
       "  <tbody>\n",
       "    <tr>\n",
       "      <th>0</th>\n",
       "      <td>1</td>\n",
       "      <td>22050</td>\n",
       "      <td>255.56000</td>\n",
       "      <td>0.00000</td>\n",
       "      <td>1nX9KhK3Fff27SnrIor2Yb</td>\n",
       "      <td>1</td>\n",
       "      <td>0.271</td>\n",
       "      <td>-7.210</td>\n",
       "      <td>1</td>\n",
       "      <td>0.516</td>\n",
       "      <td>5635098</td>\n",
       "      <td>0</td>\n",
       "      <td></td>\n",
       "      <td>252.70857</td>\n",
       "      <td>75.012</td>\n",
       "      <td>0.580</td>\n",
       "      <td>4</td>\n",
       "      <td>1.000</td>\n",
       "      <td>0</td>\n",
       "    </tr>\n",
       "    <tr>\n",
       "      <th>1</th>\n",
       "      <td>1</td>\n",
       "      <td>22050</td>\n",
       "      <td>210.20000</td>\n",
       "      <td>0.00000</td>\n",
       "      <td>6H0AwSQ20mo62jGlPGB8S6</td>\n",
       "      <td>7</td>\n",
       "      <td>0.281</td>\n",
       "      <td>-7.384</td>\n",
       "      <td>1</td>\n",
       "      <td>0.436</td>\n",
       "      <td>4634910</td>\n",
       "      <td>0</td>\n",
       "      <td></td>\n",
       "      <td>198.87891</td>\n",
       "      <td>73.003</td>\n",
       "      <td>0.297</td>\n",
       "      <td>4</td>\n",
       "      <td>1.000</td>\n",
       "      <td>0</td>\n",
       "    </tr>\n",
       "    <tr>\n",
       "      <th>2</th>\n",
       "      <td>1</td>\n",
       "      <td>22050</td>\n",
       "      <td>234.66667</td>\n",
       "      <td>0.08689</td>\n",
       "      <td>365wwIjijQdlRJEjUWTidq</td>\n",
       "      <td>10</td>\n",
       "      <td>0.353</td>\n",
       "      <td>-4.301</td>\n",
       "      <td>0</td>\n",
       "      <td>0.499</td>\n",
       "      <td>5174400</td>\n",
       "      <td>0</td>\n",
       "      <td></td>\n",
       "      <td>230.01687</td>\n",
       "      <td>173.949</td>\n",
       "      <td>0.578</td>\n",
       "      <td>4</td>\n",
       "      <td>1.000</td>\n",
       "      <td>0</td>\n",
       "    </tr>\n",
       "    <tr>\n",
       "      <th>3</th>\n",
       "      <td>1</td>\n",
       "      <td>22050</td>\n",
       "      <td>225.89333</td>\n",
       "      <td>2.51356</td>\n",
       "      <td>5S1IUPueD0xE0vj4zU3nSf</td>\n",
       "      <td>1</td>\n",
       "      <td>0.802</td>\n",
       "      <td>-6.246</td>\n",
       "      <td>1</td>\n",
       "      <td>0.700</td>\n",
       "      <td>4980948</td>\n",
       "      <td>0</td>\n",
       "      <td></td>\n",
       "      <td>221.88408</td>\n",
       "      <td>141.009</td>\n",
       "      <td>0.753</td>\n",
       "      <td>4</td>\n",
       "      <td>0.971</td>\n",
       "      <td>0</td>\n",
       "    </tr>\n",
       "    <tr>\n",
       "      <th>4</th>\n",
       "      <td>1</td>\n",
       "      <td>22050</td>\n",
       "      <td>220.30667</td>\n",
       "      <td>0.18658</td>\n",
       "      <td>2fQrGHiQOvpL9UgPvtYy6G</td>\n",
       "      <td>8</td>\n",
       "      <td>0.393</td>\n",
       "      <td>-8.228</td>\n",
       "      <td>0</td>\n",
       "      <td>0.570</td>\n",
       "      <td>4857762</td>\n",
       "      <td>0</td>\n",
       "      <td></td>\n",
       "      <td>216.70603</td>\n",
       "      <td>75.016</td>\n",
       "      <td>0.841</td>\n",
       "      <td>4</td>\n",
       "      <td>1.000</td>\n",
       "      <td>0</td>\n",
       "    </tr>\n",
       "  </tbody>\n",
       "</table>\n",
       "</div>"
      ],
      "text/plain": [
       "   analysis_channels  analysis_sample_rate   duration  end_of_fade_in  \\\n",
       "0                  1                 22050  255.56000         0.00000   \n",
       "1                  1                 22050  210.20000         0.00000   \n",
       "2                  1                 22050  234.66667         0.08689   \n",
       "3                  1                 22050  225.89333         2.51356   \n",
       "4                  1                 22050  220.30667         0.18658   \n",
       "\n",
       "                       id  key  key_confidence  loudness  mode  \\\n",
       "0  1nX9KhK3Fff27SnrIor2Yb    1           0.271    -7.210     1   \n",
       "1  6H0AwSQ20mo62jGlPGB8S6    7           0.281    -7.384     1   \n",
       "2  365wwIjijQdlRJEjUWTidq   10           0.353    -4.301     0   \n",
       "3  5S1IUPueD0xE0vj4zU3nSf    1           0.802    -6.246     1   \n",
       "4  2fQrGHiQOvpL9UgPvtYy6G    8           0.393    -8.228     0   \n",
       "\n",
       "   mode_confidence  num_samples  offset_seconds sample_md5  start_of_fade_out  \\\n",
       "0            0.516      5635098               0                     252.70857   \n",
       "1            0.436      4634910               0                     198.87891   \n",
       "2            0.499      5174400               0                     230.01687   \n",
       "3            0.700      4980948               0                     221.88408   \n",
       "4            0.570      4857762               0                     216.70603   \n",
       "\n",
       "     tempo  tempo_confidence  time_signature  time_signature_confidence  \\\n",
       "0   75.012             0.580               4                      1.000   \n",
       "1   73.003             0.297               4                      1.000   \n",
       "2  173.949             0.578               4                      1.000   \n",
       "3  141.009             0.753               4                      0.971   \n",
       "4   75.016             0.841               4                      1.000   \n",
       "\n",
       "   window_seconds  \n",
       "0               0  \n",
       "1               0  \n",
       "2               0  \n",
       "3               0  \n",
       "4               0  "
      ]
     },
     "execution_count": 22,
     "metadata": {},
     "output_type": "execute_result"
    }
   ],
   "source": [
    "# analysis = pd.DataFrame(analysis_list)\n",
    "analysis.head()"
   ]
  },
  {
   "cell_type": "code",
   "execution_count": 23,
   "metadata": {
    "ExecuteTime": {
     "end_time": "2019-04-27T20:13:01.949951Z",
     "start_time": "2019-04-27T20:13:01.940652Z"
    }
   },
   "outputs": [
    {
     "name": "stdout",
     "output_type": "stream",
     "text": [
      "<class 'pandas.core.frame.DataFrame'>\n",
      "RangeIndex: 822 entries, 0 to 821\n",
      "Data columns (total 19 columns):\n",
      "analysis_channels            822 non-null int64\n",
      "analysis_sample_rate         822 non-null int64\n",
      "duration                     822 non-null float64\n",
      "end_of_fade_in               822 non-null float64\n",
      "id                           822 non-null object\n",
      "key                          822 non-null int64\n",
      "key_confidence               822 non-null float64\n",
      "loudness                     822 non-null float64\n",
      "mode                         822 non-null int64\n",
      "mode_confidence              822 non-null float64\n",
      "num_samples                  822 non-null int64\n",
      "offset_seconds               822 non-null int64\n",
      "sample_md5                   822 non-null object\n",
      "start_of_fade_out            822 non-null float64\n",
      "tempo                        822 non-null float64\n",
      "tempo_confidence             822 non-null float64\n",
      "time_signature               822 non-null int64\n",
      "time_signature_confidence    822 non-null float64\n",
      "window_seconds               822 non-null int64\n",
      "dtypes: float64(9), int64(8), object(2)\n",
      "memory usage: 122.1+ KB\n"
     ]
    }
   ],
   "source": [
    "analysis.info()"
   ]
  },
  {
   "cell_type": "code",
   "execution_count": 24,
   "metadata": {
    "ExecuteTime": {
     "end_time": "2019-04-27T20:13:04.146038Z",
     "start_time": "2019-04-27T20:13:04.130158Z"
    },
    "scrolled": true
   },
   "outputs": [
    {
     "name": "stdout",
     "output_type": "stream",
     "text": [
      "<class 'pandas.core.frame.DataFrame'>\n",
      "RangeIndex: 822 entries, 0 to 821\n",
      "Data columns (total 44 columns):\n",
      "artists                      822 non-null object\n",
      "duration_ms_x                822 non-null object\n",
      "explicit                     822 non-null object\n",
      "id_x                         822 non-null object\n",
      "name                         822 non-null object\n",
      "popularity                   822 non-null object\n",
      "search_query                 822 non-null object\n",
      "acousticness                 822 non-null float64\n",
      "analysis_url                 822 non-null object\n",
      "danceability                 822 non-null float64\n",
      "duration_ms_y                822 non-null int64\n",
      "energy                       822 non-null float64\n",
      "id_y                         822 non-null object\n",
      "instrumentalness             822 non-null float64\n",
      "key_x                        822 non-null int64\n",
      "liveness                     822 non-null float64\n",
      "loudness_x                   822 non-null float64\n",
      "mode_x                       822 non-null int64\n",
      "speechiness                  822 non-null float64\n",
      "tempo_x                      822 non-null float64\n",
      "time_signature_x             822 non-null int64\n",
      "track_href                   822 non-null object\n",
      "type                         822 non-null object\n",
      "uri                          822 non-null object\n",
      "valence                      822 non-null float64\n",
      "analysis_channels            822 non-null int64\n",
      "analysis_sample_rate         822 non-null int64\n",
      "duration                     822 non-null float64\n",
      "end_of_fade_in               822 non-null float64\n",
      "id                           822 non-null object\n",
      "key_y                        822 non-null int64\n",
      "key_confidence               822 non-null float64\n",
      "loudness_y                   822 non-null float64\n",
      "mode_y                       822 non-null int64\n",
      "mode_confidence              822 non-null float64\n",
      "num_samples                  822 non-null int64\n",
      "offset_seconds               822 non-null int64\n",
      "sample_md5                   822 non-null object\n",
      "start_of_fade_out            822 non-null float64\n",
      "tempo_y                      822 non-null float64\n",
      "tempo_confidence             822 non-null float64\n",
      "time_signature_y             822 non-null int64\n",
      "time_signature_confidence    822 non-null float64\n",
      "window_seconds               822 non-null int64\n",
      "dtypes: float64(18), int64(12), object(14)\n",
      "memory usage: 282.6+ KB\n"
     ]
    }
   ],
   "source": [
    "all_data = pd.merge(search_audio_features, analysis, left_index=True, right_index=True, how='left')\n",
    "all_data.info()"
   ]
  },
  {
   "cell_type": "code",
   "execution_count": 25,
   "metadata": {
    "ExecuteTime": {
     "end_time": "2019-04-27T20:13:06.448081Z",
     "start_time": "2019-04-27T20:13:06.409924Z"
    }
   },
   "outputs": [],
   "source": [
    "all_data.to_csv('../data/all_data.csv', index=False)"
   ]
  },
  {
   "cell_type": "markdown",
   "metadata": {
    "ExecuteTime": {
     "end_time": "2019-04-25T04:25:35.288118Z",
     "start_time": "2019-04-25T04:25:35.260596Z"
    }
   },
   "source": [
    "NTS: I should also check the quality of the results from the search queries to make sure that im getting what im expecting to get"
   ]
  },
  {
   "cell_type": "code",
   "execution_count": null,
   "metadata": {},
   "outputs": [],
   "source": []
  },
  {
   "cell_type": "markdown",
   "metadata": {},
   "source": [
    "Probably important to check the overlap of the ids that result from the search query to the audio features that were return from from id"
   ]
  },
  {
   "cell_type": "code",
   "execution_count": null,
   "metadata": {
    "ExecuteTime": {
     "end_time": "2019-04-27T15:54:10.182223Z",
     "start_time": "2019-04-27T15:54:10.171745Z"
    }
   },
   "outputs": [],
   "source": [
    "search_results.head()"
   ]
  },
  {
   "cell_type": "code",
   "execution_count": null,
   "metadata": {
    "ExecuteTime": {
     "end_time": "2019-04-27T15:54:11.771384Z",
     "start_time": "2019-04-27T15:54:11.763996Z"
    }
   },
   "outputs": [],
   "source": [
    "search_results.info()"
   ]
  },
  {
   "cell_type": "code",
   "execution_count": null,
   "metadata": {
    "ExecuteTime": {
     "end_time": "2019-04-27T15:54:12.235204Z",
     "start_time": "2019-04-27T15:54:12.219822Z"
    }
   },
   "outputs": [],
   "source": [
    "audio_features.head()"
   ]
  },
  {
   "cell_type": "code",
   "execution_count": null,
   "metadata": {
    "ExecuteTime": {
     "end_time": "2019-04-26T02:02:20.101645Z",
     "start_time": "2019-04-26T02:02:20.098192Z"
    }
   },
   "outputs": [],
   "source": [
    "search_set = set(search_results['id'].values.astype(str)) \n",
    "audio_features_set = set(audio_features['id'].values.astype(str))"
   ]
  },
  {
   "cell_type": "code",
   "execution_count": null,
   "metadata": {
    "ExecuteTime": {
     "end_time": "2019-04-26T02:04:12.604400Z",
     "start_time": "2019-04-26T02:04:12.599914Z"
    }
   },
   "outputs": [],
   "source": [
    "main_list = search_set.difference(audio_features_set)\n",
    "search_set.symmetric_difference(audio_features_set)"
   ]
  },
  {
   "cell_type": "code",
   "execution_count": null,
   "metadata": {
    "ExecuteTime": {
     "end_time": "2019-04-26T02:04:41.641818Z",
     "start_time": "2019-04-26T02:04:41.637789Z"
    }
   },
   "outputs": [],
   "source": [
    "len(search_set)"
   ]
  },
  {
   "cell_type": "code",
   "execution_count": null,
   "metadata": {
    "ExecuteTime": {
     "end_time": "2019-04-26T02:01:23.247386Z",
     "start_time": "2019-04-26T02:01:23.242538Z"
    }
   },
   "outputs": [],
   "source": [
    "'000xQL6tZNLJzIrtIgxqSl' in set(audio_features['id'].values.astype(str))"
   ]
  },
  {
   "cell_type": "code",
   "execution_count": null,
   "metadata": {},
   "outputs": [],
   "source": []
  }
 ],
 "metadata": {
  "kernelspec": {
   "display_name": "Python 3",
   "language": "python",
   "name": "python3"
  },
  "language_info": {
   "codemirror_mode": {
    "name": "ipython",
    "version": 3
   },
   "file_extension": ".py",
   "mimetype": "text/x-python",
   "name": "python",
   "nbconvert_exporter": "python",
   "pygments_lexer": "ipython3",
   "version": "3.7.3"
  }
 },
 "nbformat": 4,
 "nbformat_minor": 2
}
