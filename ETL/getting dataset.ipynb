{
 "cells": [
  {
   "cell_type": "markdown",
   "metadata": {},
   "source": [
    "## Combining all the data that I've gotten from the Spotify API"
   ]
  },
  {
   "cell_type": "code",
   "execution_count": 1,
   "metadata": {
    "ExecuteTime": {
     "end_time": "2019-04-27T15:55:07.863767Z",
     "start_time": "2019-04-27T15:55:07.420737Z"
    }
   },
   "outputs": [],
   "source": [
    "import pandas as pd\n",
    "import numpy as np\n",
    "\n",
    "import json\n",
    "import pickle\n",
    "from glob import glob"
   ]
  },
  {
   "cell_type": "code",
   "execution_count": 2,
   "metadata": {
    "ExecuteTime": {
     "end_time": "2019-04-27T15:55:07.875835Z",
     "start_time": "2019-04-27T15:55:07.865504Z"
    }
   },
   "outputs": [
    {
     "data": {
      "text/plain": [
       "['../data/audio_features.pkl',\n",
       " '../data/analysis_query_04_24.pkl',\n",
       " '../data/all_data.csv',\n",
       " '../data/artist_query_results.pkl',\n",
       " '../data/output.pkl',\n",
       " '../data/genres_encoded.pkl',\n",
       " '../data/billboards.csv',\n",
       " '../data/artists_df_dummied.pkl',\n",
       " '../data/spotify_api_search_results.pkl']"
      ]
     },
     "execution_count": 2,
     "metadata": {},
     "output_type": "execute_result"
    }
   ],
   "source": [
    "data_paths = glob('../data/*')\n",
    "data_paths"
   ]
  },
  {
   "cell_type": "code",
   "execution_count": 3,
   "metadata": {
    "ExecuteTime": {
     "end_time": "2019-04-27T15:55:07.900417Z",
     "start_time": "2019-04-27T15:55:07.877652Z"
    }
   },
   "outputs": [
    {
     "data": {
      "text/html": [
       "<div>\n",
       "<style scoped>\n",
       "    .dataframe tbody tr th:only-of-type {\n",
       "        vertical-align: middle;\n",
       "    }\n",
       "\n",
       "    .dataframe tbody tr th {\n",
       "        vertical-align: top;\n",
       "    }\n",
       "\n",
       "    .dataframe thead th {\n",
       "        text-align: right;\n",
       "    }\n",
       "</style>\n",
       "<table border=\"1\" class=\"dataframe\">\n",
       "  <thead>\n",
       "    <tr style=\"text-align: right;\">\n",
       "      <th></th>\n",
       "      <th>artists</th>\n",
       "      <th>duration_ms</th>\n",
       "      <th>explicit</th>\n",
       "      <th>id</th>\n",
       "      <th>name</th>\n",
       "      <th>popularity</th>\n",
       "      <th>search_query</th>\n",
       "    </tr>\n",
       "  </thead>\n",
       "  <tbody>\n",
       "    <tr>\n",
       "      <th>0</th>\n",
       "      <td>2 Chainz, Travis Scott</td>\n",
       "      <td>255560</td>\n",
       "      <td>True</td>\n",
       "      <td>1nX9KhK3Fff27SnrIor2Yb</td>\n",
       "      <td>4 AM</td>\n",
       "      <td>72</td>\n",
       "      <td>2 chainz 4 am</td>\n",
       "    </tr>\n",
       "    <tr>\n",
       "      <th>1</th>\n",
       "      <td>2 Chainz, Ty Dolla $ign, Trey Songz, Jhene Aiko</td>\n",
       "      <td>210200</td>\n",
       "      <td>True</td>\n",
       "      <td>6H0AwSQ20mo62jGlPGB8S6</td>\n",
       "      <td>It's A Vibe</td>\n",
       "      <td>76</td>\n",
       "      <td>2 chainz it's a vibe</td>\n",
       "    </tr>\n",
       "    <tr>\n",
       "      <th>2</th>\n",
       "      <td>2 Chainz, YG, Offset</td>\n",
       "      <td>234666</td>\n",
       "      <td>True</td>\n",
       "      <td>365wwIjijQdlRJEjUWTidq</td>\n",
       "      <td>PROUD</td>\n",
       "      <td>61</td>\n",
       "      <td>2 chainz proud</td>\n",
       "    </tr>\n",
       "    <tr>\n",
       "      <th>3</th>\n",
       "      <td></td>\n",
       "      <td></td>\n",
       "      <td></td>\n",
       "      <td></td>\n",
       "      <td></td>\n",
       "      <td></td>\n",
       "      <td>2 chainz x gucci mane x quavo good drank</td>\n",
       "    </tr>\n",
       "    <tr>\n",
       "      <th>4</th>\n",
       "      <td>2 Chainz, Drake, Quavo</td>\n",
       "      <td>225893</td>\n",
       "      <td>True</td>\n",
       "      <td>5S1IUPueD0xE0vj4zU3nSf</td>\n",
       "      <td>Bigger Than You (feat. Drake &amp; Quavo)</td>\n",
       "      <td>75</td>\n",
       "      <td>2 chainz, drake bigger &gt; you</td>\n",
       "    </tr>\n",
       "  </tbody>\n",
       "</table>\n",
       "</div>"
      ],
      "text/plain": [
       "                                           artists duration_ms explicit  \\\n",
       "0                           2 Chainz, Travis Scott      255560     True   \n",
       "1  2 Chainz, Ty Dolla $ign, Trey Songz, Jhene Aiko      210200     True   \n",
       "2                             2 Chainz, YG, Offset      234666     True   \n",
       "3                                                                         \n",
       "4                           2 Chainz, Drake, Quavo      225893     True   \n",
       "\n",
       "                       id                                   name popularity  \\\n",
       "0  1nX9KhK3Fff27SnrIor2Yb                                   4 AM         72   \n",
       "1  6H0AwSQ20mo62jGlPGB8S6                            It's A Vibe         76   \n",
       "2  365wwIjijQdlRJEjUWTidq                                  PROUD         61   \n",
       "3                                                                             \n",
       "4  5S1IUPueD0xE0vj4zU3nSf  Bigger Than You (feat. Drake & Quavo)         75   \n",
       "\n",
       "                               search_query  \n",
       "0                             2 chainz 4 am  \n",
       "1                      2 chainz it's a vibe  \n",
       "2                            2 chainz proud  \n",
       "3  2 chainz x gucci mane x quavo good drank  \n",
       "4              2 chainz, drake bigger > you  "
      ]
     },
     "execution_count": 3,
     "metadata": {},
     "output_type": "execute_result"
    }
   ],
   "source": [
    "search_results = '../data/output.pkl'\n",
    "search_results = pickle.load(open(search_results, 'rb'))\n",
    "search_results = pd.DataFrame(search_results)\n",
    "search_results.head()"
   ]
  },
  {
   "cell_type": "code",
   "execution_count": 4,
   "metadata": {
    "ExecuteTime": {
     "end_time": "2019-04-27T15:55:07.998398Z",
     "start_time": "2019-04-27T15:55:07.990187Z"
    }
   },
   "outputs": [
    {
     "name": "stdout",
     "output_type": "stream",
     "text": [
      "<class 'pandas.core.frame.DataFrame'>\n",
      "RangeIndex: 828 entries, 0 to 827\n",
      "Data columns (total 7 columns):\n",
      "artists         828 non-null object\n",
      "duration_ms     828 non-null object\n",
      "explicit        828 non-null object\n",
      "id              828 non-null object\n",
      "name            828 non-null object\n",
      "popularity      828 non-null object\n",
      "search_query    828 non-null object\n",
      "dtypes: object(7)\n",
      "memory usage: 45.4+ KB\n"
     ]
    }
   ],
   "source": [
    "search_results.info()"
   ]
  },
  {
   "cell_type": "code",
   "execution_count": 5,
   "metadata": {
    "ExecuteTime": {
     "end_time": "2019-04-27T15:55:09.120524Z",
     "start_time": "2019-04-27T15:55:09.100925Z"
    }
   },
   "outputs": [
    {
     "data": {
      "text/html": [
       "<div>\n",
       "<style scoped>\n",
       "    .dataframe tbody tr th:only-of-type {\n",
       "        vertical-align: middle;\n",
       "    }\n",
       "\n",
       "    .dataframe tbody tr th {\n",
       "        vertical-align: top;\n",
       "    }\n",
       "\n",
       "    .dataframe thead th {\n",
       "        text-align: right;\n",
       "    }\n",
       "</style>\n",
       "<table border=\"1\" class=\"dataframe\">\n",
       "  <thead>\n",
       "    <tr style=\"text-align: right;\">\n",
       "      <th></th>\n",
       "      <th>acousticness</th>\n",
       "      <th>danceability</th>\n",
       "      <th>duration_ms</th>\n",
       "      <th>energy</th>\n",
       "      <th>id</th>\n",
       "      <th>instrumentalness</th>\n",
       "      <th>key</th>\n",
       "      <th>liveness</th>\n",
       "      <th>loudness</th>\n",
       "      <th>mode</th>\n",
       "      <th>speechiness</th>\n",
       "      <th>tempo</th>\n",
       "      <th>time_signature</th>\n",
       "      <th>uri</th>\n",
       "      <th>valence</th>\n",
       "    </tr>\n",
       "  </thead>\n",
       "  <tbody>\n",
       "    <tr>\n",
       "      <th>0</th>\n",
       "      <td>0.1180</td>\n",
       "      <td>0.796</td>\n",
       "      <td>255560.0</td>\n",
       "      <td>0.500</td>\n",
       "      <td>1nX9KhK3Fff27SnrIor2Yb</td>\n",
       "      <td>0.000000</td>\n",
       "      <td>1.0</td>\n",
       "      <td>0.155</td>\n",
       "      <td>-7.210</td>\n",
       "      <td>1.0</td>\n",
       "      <td>0.425</td>\n",
       "      <td>75.012</td>\n",
       "      <td>4.0</td>\n",
       "      <td>spotify:track:1nX9KhK3Fff27SnrIor2Yb</td>\n",
       "      <td>0.227</td>\n",
       "    </tr>\n",
       "    <tr>\n",
       "      <th>1</th>\n",
       "      <td>0.0317</td>\n",
       "      <td>0.822</td>\n",
       "      <td>210200.0</td>\n",
       "      <td>0.505</td>\n",
       "      <td>6H0AwSQ20mo62jGlPGB8S6</td>\n",
       "      <td>0.000911</td>\n",
       "      <td>7.0</td>\n",
       "      <td>0.114</td>\n",
       "      <td>-7.384</td>\n",
       "      <td>1.0</td>\n",
       "      <td>0.147</td>\n",
       "      <td>73.003</td>\n",
       "      <td>4.0</td>\n",
       "      <td>spotify:track:6H0AwSQ20mo62jGlPGB8S6</td>\n",
       "      <td>0.523</td>\n",
       "    </tr>\n",
       "    <tr>\n",
       "      <th>2</th>\n",
       "      <td>0.7380</td>\n",
       "      <td>0.781</td>\n",
       "      <td>234667.0</td>\n",
       "      <td>0.810</td>\n",
       "      <td>365wwIjijQdlRJEjUWTidq</td>\n",
       "      <td>0.000000</td>\n",
       "      <td>10.0</td>\n",
       "      <td>0.144</td>\n",
       "      <td>-4.301</td>\n",
       "      <td>0.0</td>\n",
       "      <td>0.356</td>\n",
       "      <td>173.949</td>\n",
       "      <td>4.0</td>\n",
       "      <td>spotify:track:365wwIjijQdlRJEjUWTidq</td>\n",
       "      <td>0.908</td>\n",
       "    </tr>\n",
       "    <tr>\n",
       "      <th>3</th>\n",
       "      <td>NaN</td>\n",
       "      <td>NaN</td>\n",
       "      <td>NaN</td>\n",
       "      <td>NaN</td>\n",
       "      <td>missing</td>\n",
       "      <td>NaN</td>\n",
       "      <td>NaN</td>\n",
       "      <td>NaN</td>\n",
       "      <td>NaN</td>\n",
       "      <td>NaN</td>\n",
       "      <td>NaN</td>\n",
       "      <td>NaN</td>\n",
       "      <td>NaN</td>\n",
       "      <td>NaN</td>\n",
       "      <td>NaN</td>\n",
       "    </tr>\n",
       "    <tr>\n",
       "      <th>4</th>\n",
       "      <td>0.2470</td>\n",
       "      <td>0.888</td>\n",
       "      <td>225893.0</td>\n",
       "      <td>0.515</td>\n",
       "      <td>5S1IUPueD0xE0vj4zU3nSf</td>\n",
       "      <td>0.000000</td>\n",
       "      <td>1.0</td>\n",
       "      <td>0.446</td>\n",
       "      <td>-6.246</td>\n",
       "      <td>1.0</td>\n",
       "      <td>0.271</td>\n",
       "      <td>141.009</td>\n",
       "      <td>4.0</td>\n",
       "      <td>spotify:track:5S1IUPueD0xE0vj4zU3nSf</td>\n",
       "      <td>0.264</td>\n",
       "    </tr>\n",
       "  </tbody>\n",
       "</table>\n",
       "</div>"
      ],
      "text/plain": [
       "   acousticness  danceability  duration_ms  energy                      id  \\\n",
       "0        0.1180         0.796     255560.0   0.500  1nX9KhK3Fff27SnrIor2Yb   \n",
       "1        0.0317         0.822     210200.0   0.505  6H0AwSQ20mo62jGlPGB8S6   \n",
       "2        0.7380         0.781     234667.0   0.810  365wwIjijQdlRJEjUWTidq   \n",
       "3           NaN           NaN          NaN     NaN                 missing   \n",
       "4        0.2470         0.888     225893.0   0.515  5S1IUPueD0xE0vj4zU3nSf   \n",
       "\n",
       "   instrumentalness   key  liveness  loudness  mode  speechiness    tempo  \\\n",
       "0          0.000000   1.0     0.155    -7.210   1.0        0.425   75.012   \n",
       "1          0.000911   7.0     0.114    -7.384   1.0        0.147   73.003   \n",
       "2          0.000000  10.0     0.144    -4.301   0.0        0.356  173.949   \n",
       "3               NaN   NaN       NaN       NaN   NaN          NaN      NaN   \n",
       "4          0.000000   1.0     0.446    -6.246   1.0        0.271  141.009   \n",
       "\n",
       "   time_signature                                   uri  valence  \n",
       "0             4.0  spotify:track:1nX9KhK3Fff27SnrIor2Yb    0.227  \n",
       "1             4.0  spotify:track:6H0AwSQ20mo62jGlPGB8S6    0.523  \n",
       "2             4.0  spotify:track:365wwIjijQdlRJEjUWTidq    0.908  \n",
       "3             NaN                                   NaN      NaN  \n",
       "4             4.0  spotify:track:5S1IUPueD0xE0vj4zU3nSf    0.264  "
      ]
     },
     "execution_count": 5,
     "metadata": {},
     "output_type": "execute_result"
    }
   ],
   "source": [
    "audio_features = '../data/audio_features.pkl'\n",
    "audio_features = pickle.load(open(audio_features, 'rb'))\n",
    "audio_features = pd.DataFrame(audio_features)\n",
    "audio_features.head()"
   ]
  },
  {
   "cell_type": "code",
   "execution_count": 6,
   "metadata": {
    "ExecuteTime": {
     "end_time": "2019-04-27T15:55:09.251749Z",
     "start_time": "2019-04-27T15:55:09.243346Z"
    }
   },
   "outputs": [
    {
     "name": "stdout",
     "output_type": "stream",
     "text": [
      "<class 'pandas.core.frame.DataFrame'>\n",
      "RangeIndex: 828 entries, 0 to 827\n",
      "Data columns (total 15 columns):\n",
      "acousticness        809 non-null float64\n",
      "danceability        809 non-null float64\n",
      "duration_ms         809 non-null float64\n",
      "energy              809 non-null float64\n",
      "id                  828 non-null object\n",
      "instrumentalness    809 non-null float64\n",
      "key                 809 non-null float64\n",
      "liveness            809 non-null float64\n",
      "loudness            809 non-null float64\n",
      "mode                809 non-null float64\n",
      "speechiness         809 non-null float64\n",
      "tempo               809 non-null float64\n",
      "time_signature      809 non-null float64\n",
      "uri                 809 non-null object\n",
      "valence             809 non-null float64\n",
      "dtypes: float64(13), object(2)\n",
      "memory usage: 97.1+ KB\n"
     ]
    }
   ],
   "source": [
    "audio_features.info()"
   ]
  },
  {
   "cell_type": "code",
   "execution_count": 7,
   "metadata": {
    "ExecuteTime": {
     "end_time": "2019-04-27T15:55:10.776632Z",
     "start_time": "2019-04-27T15:55:10.771212Z"
    }
   },
   "outputs": [],
   "source": [
    "search_audio_features = pd.merge(search_results, audio_features, left_index=True, right_index=True, how='left')"
   ]
  },
  {
   "cell_type": "code",
   "execution_count": 8,
   "metadata": {
    "ExecuteTime": {
     "end_time": "2019-04-27T15:55:11.728431Z",
     "start_time": "2019-04-27T15:55:11.723843Z"
    }
   },
   "outputs": [
    {
     "data": {
      "text/plain": [
       "19"
      ]
     },
     "execution_count": 8,
     "metadata": {},
     "output_type": "execute_result"
    }
   ],
   "source": [
    "# how many songs was i not able to successfully find through the search function\n",
    "sum(search_audio_features['acousticness'].isna()) # thats not too bad"
   ]
  },
  {
   "cell_type": "code",
   "execution_count": null,
   "metadata": {},
   "outputs": [],
   "source": []
  },
  {
   "cell_type": "code",
   "execution_count": 9,
   "metadata": {
    "ExecuteTime": {
     "end_time": "2019-04-27T15:55:12.998857Z",
     "start_time": "2019-04-27T15:55:12.982677Z"
    }
   },
   "outputs": [],
   "source": [
    "analysis = '../data/analysis_query_04_24.pkl'\n",
    "analysis = pickle.load(open(analysis, 'rb'))\n",
    "\n",
    "analysis_list = []\n",
    "analysis_list.extend([analysis.values[i][0] for i in range(0, len(analysis))])"
   ]
  },
  {
   "cell_type": "code",
   "execution_count": 10,
   "metadata": {
    "ExecuteTime": {
     "end_time": "2019-04-27T15:55:13.961950Z",
     "start_time": "2019-04-27T15:55:13.938690Z"
    }
   },
   "outputs": [
    {
     "data": {
      "text/html": [
       "<div>\n",
       "<style scoped>\n",
       "    .dataframe tbody tr th:only-of-type {\n",
       "        vertical-align: middle;\n",
       "    }\n",
       "\n",
       "    .dataframe tbody tr th {\n",
       "        vertical-align: top;\n",
       "    }\n",
       "\n",
       "    .dataframe thead th {\n",
       "        text-align: right;\n",
       "    }\n",
       "</style>\n",
       "<table border=\"1\" class=\"dataframe\">\n",
       "  <thead>\n",
       "    <tr style=\"text-align: right;\">\n",
       "      <th></th>\n",
       "      <th>analysis_channels</th>\n",
       "      <th>analysis_sample_rate</th>\n",
       "      <th>duration</th>\n",
       "      <th>end_of_fade_in</th>\n",
       "      <th>id</th>\n",
       "      <th>key</th>\n",
       "      <th>key_confidence</th>\n",
       "      <th>loudness</th>\n",
       "      <th>mode</th>\n",
       "      <th>mode_confidence</th>\n",
       "      <th>num_samples</th>\n",
       "      <th>offset_seconds</th>\n",
       "      <th>sample_md5</th>\n",
       "      <th>start_of_fade_out</th>\n",
       "      <th>tempo</th>\n",
       "      <th>tempo_confidence</th>\n",
       "      <th>time_signature</th>\n",
       "      <th>time_signature_confidence</th>\n",
       "      <th>window_seconds</th>\n",
       "    </tr>\n",
       "  </thead>\n",
       "  <tbody>\n",
       "    <tr>\n",
       "      <th>0</th>\n",
       "      <td>1</td>\n",
       "      <td>22050</td>\n",
       "      <td>255.56</td>\n",
       "      <td>0</td>\n",
       "      <td>1nX9KhK3Fff27SnrIor2Yb</td>\n",
       "      <td>1</td>\n",
       "      <td>0.271</td>\n",
       "      <td>-7.21</td>\n",
       "      <td>1</td>\n",
       "      <td>0.516</td>\n",
       "      <td>5635098</td>\n",
       "      <td>0</td>\n",
       "      <td></td>\n",
       "      <td>252.709</td>\n",
       "      <td>75.012</td>\n",
       "      <td>0.58</td>\n",
       "      <td>4</td>\n",
       "      <td>1</td>\n",
       "      <td>0</td>\n",
       "    </tr>\n",
       "    <tr>\n",
       "      <th>1</th>\n",
       "      <td>1</td>\n",
       "      <td>22050</td>\n",
       "      <td>210.2</td>\n",
       "      <td>0</td>\n",
       "      <td>6H0AwSQ20mo62jGlPGB8S6</td>\n",
       "      <td>7</td>\n",
       "      <td>0.281</td>\n",
       "      <td>-7.384</td>\n",
       "      <td>1</td>\n",
       "      <td>0.436</td>\n",
       "      <td>4634910</td>\n",
       "      <td>0</td>\n",
       "      <td></td>\n",
       "      <td>198.879</td>\n",
       "      <td>73.003</td>\n",
       "      <td>0.297</td>\n",
       "      <td>4</td>\n",
       "      <td>1</td>\n",
       "      <td>0</td>\n",
       "    </tr>\n",
       "    <tr>\n",
       "      <th>2</th>\n",
       "      <td>1</td>\n",
       "      <td>22050</td>\n",
       "      <td>234.667</td>\n",
       "      <td>0.08689</td>\n",
       "      <td>365wwIjijQdlRJEjUWTidq</td>\n",
       "      <td>10</td>\n",
       "      <td>0.353</td>\n",
       "      <td>-4.301</td>\n",
       "      <td>0</td>\n",
       "      <td>0.499</td>\n",
       "      <td>5174400</td>\n",
       "      <td>0</td>\n",
       "      <td></td>\n",
       "      <td>230.017</td>\n",
       "      <td>173.949</td>\n",
       "      <td>0.578</td>\n",
       "      <td>4</td>\n",
       "      <td>1</td>\n",
       "      <td>0</td>\n",
       "    </tr>\n",
       "    <tr>\n",
       "      <th>3</th>\n",
       "      <td></td>\n",
       "      <td></td>\n",
       "      <td></td>\n",
       "      <td></td>\n",
       "      <td></td>\n",
       "      <td></td>\n",
       "      <td></td>\n",
       "      <td></td>\n",
       "      <td></td>\n",
       "      <td></td>\n",
       "      <td></td>\n",
       "      <td></td>\n",
       "      <td></td>\n",
       "      <td></td>\n",
       "      <td></td>\n",
       "      <td></td>\n",
       "      <td></td>\n",
       "      <td></td>\n",
       "      <td></td>\n",
       "    </tr>\n",
       "    <tr>\n",
       "      <th>4</th>\n",
       "      <td>1</td>\n",
       "      <td>22050</td>\n",
       "      <td>225.893</td>\n",
       "      <td>2.51356</td>\n",
       "      <td>5S1IUPueD0xE0vj4zU3nSf</td>\n",
       "      <td>1</td>\n",
       "      <td>0.802</td>\n",
       "      <td>-6.246</td>\n",
       "      <td>1</td>\n",
       "      <td>0.7</td>\n",
       "      <td>4980948</td>\n",
       "      <td>0</td>\n",
       "      <td></td>\n",
       "      <td>221.884</td>\n",
       "      <td>141.009</td>\n",
       "      <td>0.753</td>\n",
       "      <td>4</td>\n",
       "      <td>0.971</td>\n",
       "      <td>0</td>\n",
       "    </tr>\n",
       "  </tbody>\n",
       "</table>\n",
       "</div>"
      ],
      "text/plain": [
       "  analysis_channels analysis_sample_rate duration end_of_fade_in  \\\n",
       "0                 1                22050   255.56              0   \n",
       "1                 1                22050    210.2              0   \n",
       "2                 1                22050  234.667        0.08689   \n",
       "3                                                                  \n",
       "4                 1                22050  225.893        2.51356   \n",
       "\n",
       "                       id key key_confidence loudness mode mode_confidence  \\\n",
       "0  1nX9KhK3Fff27SnrIor2Yb   1          0.271    -7.21    1           0.516   \n",
       "1  6H0AwSQ20mo62jGlPGB8S6   7          0.281   -7.384    1           0.436   \n",
       "2  365wwIjijQdlRJEjUWTidq  10          0.353   -4.301    0           0.499   \n",
       "3                                                                            \n",
       "4  5S1IUPueD0xE0vj4zU3nSf   1          0.802   -6.246    1             0.7   \n",
       "\n",
       "  num_samples offset_seconds sample_md5 start_of_fade_out    tempo  \\\n",
       "0     5635098              0                      252.709   75.012   \n",
       "1     4634910              0                      198.879   73.003   \n",
       "2     5174400              0                      230.017  173.949   \n",
       "3                                                                    \n",
       "4     4980948              0                      221.884  141.009   \n",
       "\n",
       "  tempo_confidence time_signature time_signature_confidence window_seconds  \n",
       "0             0.58              4                         1              0  \n",
       "1            0.297              4                         1              0  \n",
       "2            0.578              4                         1              0  \n",
       "3                                                                           \n",
       "4            0.753              4                     0.971              0  "
      ]
     },
     "execution_count": 10,
     "metadata": {},
     "output_type": "execute_result"
    }
   ],
   "source": [
    "analysis = pd.DataFrame(analysis_list)\n",
    "analysis.head()"
   ]
  },
  {
   "cell_type": "code",
   "execution_count": 11,
   "metadata": {
    "ExecuteTime": {
     "end_time": "2019-04-27T15:55:14.058552Z",
     "start_time": "2019-04-27T15:55:14.050095Z"
    }
   },
   "outputs": [
    {
     "name": "stdout",
     "output_type": "stream",
     "text": [
      "<class 'pandas.core.frame.DataFrame'>\n",
      "RangeIndex: 828 entries, 0 to 827\n",
      "Data columns (total 19 columns):\n",
      "analysis_channels            828 non-null object\n",
      "analysis_sample_rate         828 non-null object\n",
      "duration                     828 non-null object\n",
      "end_of_fade_in               828 non-null object\n",
      "id                           828 non-null object\n",
      "key                          828 non-null object\n",
      "key_confidence               828 non-null object\n",
      "loudness                     828 non-null object\n",
      "mode                         828 non-null object\n",
      "mode_confidence              828 non-null object\n",
      "num_samples                  828 non-null object\n",
      "offset_seconds               828 non-null object\n",
      "sample_md5                   828 non-null object\n",
      "start_of_fade_out            828 non-null object\n",
      "tempo                        828 non-null object\n",
      "tempo_confidence             828 non-null object\n",
      "time_signature               828 non-null object\n",
      "time_signature_confidence    828 non-null object\n",
      "window_seconds               828 non-null object\n",
      "dtypes: object(19)\n",
      "memory usage: 123.0+ KB\n"
     ]
    }
   ],
   "source": [
    "analysis.info()"
   ]
  },
  {
   "cell_type": "code",
   "execution_count": 12,
   "metadata": {
    "ExecuteTime": {
     "end_time": "2019-04-27T15:55:14.208096Z",
     "start_time": "2019-04-27T15:55:14.193437Z"
    },
    "scrolled": true
   },
   "outputs": [
    {
     "name": "stdout",
     "output_type": "stream",
     "text": [
      "<class 'pandas.core.frame.DataFrame'>\n",
      "RangeIndex: 828 entries, 0 to 827\n",
      "Data columns (total 41 columns):\n",
      "artists                      828 non-null object\n",
      "duration_ms_x                828 non-null object\n",
      "explicit                     828 non-null object\n",
      "id_x                         828 non-null object\n",
      "name                         828 non-null object\n",
      "popularity                   828 non-null object\n",
      "search_query                 828 non-null object\n",
      "acousticness                 809 non-null float64\n",
      "danceability                 809 non-null float64\n",
      "duration_ms_y                809 non-null float64\n",
      "energy                       809 non-null float64\n",
      "id_y                         828 non-null object\n",
      "instrumentalness             809 non-null float64\n",
      "key_x                        809 non-null float64\n",
      "liveness                     809 non-null float64\n",
      "loudness_x                   809 non-null float64\n",
      "mode_x                       809 non-null float64\n",
      "speechiness                  809 non-null float64\n",
      "tempo_x                      809 non-null float64\n",
      "time_signature_x             809 non-null float64\n",
      "uri                          809 non-null object\n",
      "valence                      809 non-null float64\n",
      "analysis_channels            828 non-null object\n",
      "analysis_sample_rate         828 non-null object\n",
      "duration                     828 non-null object\n",
      "end_of_fade_in               828 non-null object\n",
      "id                           828 non-null object\n",
      "key_y                        828 non-null object\n",
      "key_confidence               828 non-null object\n",
      "loudness_y                   828 non-null object\n",
      "mode_y                       828 non-null object\n",
      "mode_confidence              828 non-null object\n",
      "num_samples                  828 non-null object\n",
      "offset_seconds               828 non-null object\n",
      "sample_md5                   828 non-null object\n",
      "start_of_fade_out            828 non-null object\n",
      "tempo_y                      828 non-null object\n",
      "tempo_confidence             828 non-null object\n",
      "time_signature_y             828 non-null object\n",
      "time_signature_confidence    828 non-null object\n",
      "window_seconds               828 non-null object\n",
      "dtypes: float64(13), object(28)\n",
      "memory usage: 265.3+ KB\n"
     ]
    }
   ],
   "source": [
    "all_data = pd.merge(search_audio_features, analysis, left_index=True, right_index=True, how='left')\n",
    "all_data.info()"
   ]
  },
  {
   "cell_type": "code",
   "execution_count": 13,
   "metadata": {
    "ExecuteTime": {
     "end_time": "2019-04-27T15:55:15.647173Z",
     "start_time": "2019-04-27T15:55:15.617927Z"
    }
   },
   "outputs": [],
   "source": [
    "all_data.to_csv('../data/all_data.csv', index=False)"
   ]
  },
  {
   "cell_type": "markdown",
   "metadata": {
    "ExecuteTime": {
     "end_time": "2019-04-25T04:25:35.288118Z",
     "start_time": "2019-04-25T04:25:35.260596Z"
    }
   },
   "source": [
    "NTS: I should also check the quality of the results from the search queries to make sure that im getting what im expecting to get"
   ]
  },
  {
   "cell_type": "code",
   "execution_count": null,
   "metadata": {},
   "outputs": [],
   "source": []
  },
  {
   "cell_type": "markdown",
   "metadata": {},
   "source": [
    "Probably important to check the overlap of the ids that result from the search query to the audio features that were return from from id"
   ]
  },
  {
   "cell_type": "code",
   "execution_count": null,
   "metadata": {
    "ExecuteTime": {
     "end_time": "2019-04-27T15:54:10.182223Z",
     "start_time": "2019-04-27T15:54:10.171745Z"
    }
   },
   "outputs": [],
   "source": [
    "search_results.head()"
   ]
  },
  {
   "cell_type": "code",
   "execution_count": null,
   "metadata": {
    "ExecuteTime": {
     "end_time": "2019-04-27T15:54:11.771384Z",
     "start_time": "2019-04-27T15:54:11.763996Z"
    }
   },
   "outputs": [],
   "source": [
    "search_results.info()"
   ]
  },
  {
   "cell_type": "code",
   "execution_count": null,
   "metadata": {
    "ExecuteTime": {
     "end_time": "2019-04-27T15:54:12.235204Z",
     "start_time": "2019-04-27T15:54:12.219822Z"
    }
   },
   "outputs": [],
   "source": [
    "audio_features.head()"
   ]
  },
  {
   "cell_type": "code",
   "execution_count": null,
   "metadata": {
    "ExecuteTime": {
     "end_time": "2019-04-26T02:02:20.101645Z",
     "start_time": "2019-04-26T02:02:20.098192Z"
    }
   },
   "outputs": [],
   "source": [
    "search_set = set(search_results['id'].values.astype(str)) \n",
    "audio_features_set = set(audio_features['id'].values.astype(str))"
   ]
  },
  {
   "cell_type": "code",
   "execution_count": null,
   "metadata": {
    "ExecuteTime": {
     "end_time": "2019-04-26T02:04:12.604400Z",
     "start_time": "2019-04-26T02:04:12.599914Z"
    }
   },
   "outputs": [],
   "source": [
    "main_list = search_set.difference(audio_features_set)\n",
    "search_set.symmetric_difference(audio_features_set)"
   ]
  },
  {
   "cell_type": "code",
   "execution_count": null,
   "metadata": {
    "ExecuteTime": {
     "end_time": "2019-04-26T02:04:41.641818Z",
     "start_time": "2019-04-26T02:04:41.637789Z"
    }
   },
   "outputs": [],
   "source": [
    "len(search_set)"
   ]
  },
  {
   "cell_type": "code",
   "execution_count": null,
   "metadata": {
    "ExecuteTime": {
     "end_time": "2019-04-26T02:01:23.247386Z",
     "start_time": "2019-04-26T02:01:23.242538Z"
    }
   },
   "outputs": [],
   "source": [
    "'000xQL6tZNLJzIrtIgxqSl' in set(audio_features['id'].values.astype(str))"
   ]
  },
  {
   "cell_type": "code",
   "execution_count": null,
   "metadata": {},
   "outputs": [],
   "source": []
  }
 ],
 "metadata": {
  "kernelspec": {
   "display_name": "Python 3",
   "language": "python",
   "name": "python3"
  },
  "language_info": {
   "codemirror_mode": {
    "name": "ipython",
    "version": 3
   },
   "file_extension": ".py",
   "mimetype": "text/x-python",
   "name": "python",
   "nbconvert_exporter": "python",
   "pygments_lexer": "ipython3",
   "version": "3.7.3"
  }
 },
 "nbformat": 4,
 "nbformat_minor": 2
}
