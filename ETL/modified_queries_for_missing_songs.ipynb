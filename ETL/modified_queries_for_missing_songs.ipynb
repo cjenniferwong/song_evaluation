{
 "cells": [
  {
   "cell_type": "markdown",
   "metadata": {},
   "source": [
    "## Missing songs --> modified query to get search results"
   ]
  },
  {
   "cell_type": "code",
   "execution_count": 1,
   "metadata": {},
   "outputs": [],
   "source": [
    "import pandas as pd\n",
    "\n",
    "import pickle"
   ]
  },
  {
   "cell_type": "code",
   "execution_count": 4,
   "metadata": {},
   "outputs": [
    {
     "data": {
      "text/html": [
       "<div>\n",
       "<style scoped>\n",
       "    .dataframe tbody tr th:only-of-type {\n",
       "        vertical-align: middle;\n",
       "    }\n",
       "\n",
       "    .dataframe tbody tr th {\n",
       "        vertical-align: top;\n",
       "    }\n",
       "\n",
       "    .dataframe thead th {\n",
       "        text-align: right;\n",
       "    }\n",
       "</style>\n",
       "<table border=\"1\" class=\"dataframe\">\n",
       "  <thead>\n",
       "    <tr style=\"text-align: right;\">\n",
       "      <th></th>\n",
       "      <th>duration_ms</th>\n",
       "      <th>explicit</th>\n",
       "      <th>key</th>\n",
       "      <th>name</th>\n",
       "      <th>release_date</th>\n",
       "      <th>search_query</th>\n",
       "      <th>uri</th>\n",
       "    </tr>\n",
       "  </thead>\n",
       "  <tbody>\n",
       "    <tr>\n",
       "      <th>0</th>\n",
       "      <td>255560.0</td>\n",
       "      <td>True</td>\n",
       "      <td>2 Chainz, Travis Scott</td>\n",
       "      <td>4 AM</td>\n",
       "      <td>2017-06-16</td>\n",
       "      <td>2 chainz 4 am</td>\n",
       "      <td>spotify:track:1nX9KhK3Fff27SnrIor2Yb</td>\n",
       "    </tr>\n",
       "    <tr>\n",
       "      <th>1</th>\n",
       "      <td>210200.0</td>\n",
       "      <td>True</td>\n",
       "      <td>2 Chainz, Ty Dolla $ign, Trey Songz, Jhene Aiko</td>\n",
       "      <td>It's A Vibe</td>\n",
       "      <td>2017-06-16</td>\n",
       "      <td>2 chainz it's a vibe</td>\n",
       "      <td>spotify:track:6H0AwSQ20mo62jGlPGB8S6</td>\n",
       "    </tr>\n",
       "    <tr>\n",
       "      <th>2</th>\n",
       "      <td>234666.0</td>\n",
       "      <td>True</td>\n",
       "      <td>2 Chainz, YG, Offset</td>\n",
       "      <td>PROUD</td>\n",
       "      <td>2018-02-08</td>\n",
       "      <td>2 chainz proud</td>\n",
       "      <td>spotify:track:365wwIjijQdlRJEjUWTidq</td>\n",
       "    </tr>\n",
       "    <tr>\n",
       "      <th>3</th>\n",
       "      <td>NaN</td>\n",
       "      <td>NaN</td>\n",
       "      <td>NaN</td>\n",
       "      <td>NaN</td>\n",
       "      <td>NaN</td>\n",
       "      <td>2 chainz x gucci mane x quavo good drank</td>\n",
       "      <td>NaN</td>\n",
       "    </tr>\n",
       "    <tr>\n",
       "      <th>4</th>\n",
       "      <td>225893.0</td>\n",
       "      <td>True</td>\n",
       "      <td>2 Chainz, Drake, Quavo</td>\n",
       "      <td>Bigger Than You (feat. Drake &amp; Quavo)</td>\n",
       "      <td>2018-06-15</td>\n",
       "      <td>2 chainz, drake bigger &gt; you</td>\n",
       "      <td>spotify:track:5S1IUPueD0xE0vj4zU3nSf</td>\n",
       "    </tr>\n",
       "  </tbody>\n",
       "</table>\n",
       "</div>"
      ],
      "text/plain": [
       "   duration_ms explicit                                              key  \\\n",
       "0     255560.0     True                           2 Chainz, Travis Scott   \n",
       "1     210200.0     True  2 Chainz, Ty Dolla $ign, Trey Songz, Jhene Aiko   \n",
       "2     234666.0     True                             2 Chainz, YG, Offset   \n",
       "3          NaN      NaN                                              NaN   \n",
       "4     225893.0     True                           2 Chainz, Drake, Quavo   \n",
       "\n",
       "                                    name release_date  \\\n",
       "0                                   4 AM   2017-06-16   \n",
       "1                            It's A Vibe   2017-06-16   \n",
       "2                                  PROUD   2018-02-08   \n",
       "3                                    NaN          NaN   \n",
       "4  Bigger Than You (feat. Drake & Quavo)   2018-06-15   \n",
       "\n",
       "                               search_query  \\\n",
       "0                             2 chainz 4 am   \n",
       "1                      2 chainz it's a vibe   \n",
       "2                            2 chainz proud   \n",
       "3  2 chainz x gucci mane x quavo good drank   \n",
       "4              2 chainz, drake bigger > you   \n",
       "\n",
       "                                    uri  \n",
       "0  spotify:track:1nX9KhK3Fff27SnrIor2Yb  \n",
       "1  spotify:track:6H0AwSQ20mo62jGlPGB8S6  \n",
       "2  spotify:track:365wwIjijQdlRJEjUWTidq  \n",
       "3                                   NaN  \n",
       "4  spotify:track:5S1IUPueD0xE0vj4zU3nSf  "
      ]
     },
     "execution_count": 4,
     "metadata": {},
     "output_type": "execute_result"
    }
   ],
   "source": [
    "file_path = '../data/spotify_api_search_results.pkl'\n",
    "\n",
    "with open(file_path, 'rb') as file:\n",
    "    output_data = pickle.load(file)\n",
    "    missing_data = output_data[output_data.name.isna()]\n",
    "    file.close()\n",
    "    \n",
    "missing_data = output_data[output_data.name.isna()]\n",
    "\n",
    "missing_modified = pd.read_csv('../data/missing_modified_results.csv')\n",
    "\n",
    "# i should be able to just concat across since its the same length \n",
    "missing_data = pd.concat([missing_data.search_query.reset_index(),\n",
    "missing_modified.reset_index()], axis=1).drop('index', axis=1).dropna()"
   ]
  },
  {
   "cell_type": "code",
   "execution_count": 26,
   "metadata": {},
   "outputs": [],
   "source": [
    "pickle.dump(missing_data, open('../data/manually_found_songs.pkl', 'wb'))"
   ]
  }
 ],
 "metadata": {
  "kernelspec": {
   "display_name": "Python 3",
   "language": "python",
   "name": "python3"
  },
  "language_info": {
   "codemirror_mode": {
    "name": "ipython",
    "version": 3
   },
   "file_extension": ".py",
   "mimetype": "text/x-python",
   "name": "python",
   "nbconvert_exporter": "python",
   "pygments_lexer": "ipython3",
   "version": "3.7.3"
  }
 },
 "nbformat": 4,
 "nbformat_minor": 2
}
