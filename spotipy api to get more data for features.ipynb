{
 "cells": [
  {
   "cell_type": "markdown",
   "metadata": {},
   "source": [
    "## Getting data from Spotify API to get features for prediction"
   ]
  },
  {
   "cell_type": "code",
   "execution_count": 17,
   "metadata": {
    "ExecuteTime": {
     "end_time": "2019-04-21T22:36:08.021672Z",
     "start_time": "2019-04-21T22:36:08.015927Z"
    }
   },
   "outputs": [],
   "source": [
    "import pandas as pd\n",
    "import numpy as np\n",
    "import matplotlib.pyplot as plt\n",
    "%matplotlib inline\n",
    "\n",
    "import spotipy\n",
    "import spotipy.util as util\n",
    "import json\n",
    "\n",
    "from functions import *\n",
    "import pickle"
   ]
  },
  {
   "cell_type": "code",
   "execution_count": 2,
   "metadata": {
    "ExecuteTime": {
     "end_time": "2019-04-21T22:28:07.959532Z",
     "start_time": "2019-04-21T22:28:07.956956Z"
    },
    "scrolled": true
   },
   "outputs": [],
   "source": [
    "# reading in credentials necessary to use the API\n",
    "# remember to save credentials in double quotes or else it gets mad at you\n",
    "with open('credentials.json') as filename:\n",
    "    credentials = json.load(filename)\n",
    "    filename.close()"
   ]
  },
  {
   "cell_type": "code",
   "execution_count": 3,
   "metadata": {
    "ExecuteTime": {
     "end_time": "2019-04-21T22:28:08.737834Z",
     "start_time": "2019-04-21T22:28:08.100350Z"
    }
   },
   "outputs": [],
   "source": [
    "token = util.oauth2.SpotifyClientCredentials(client_id=credentials['client_id'],\n",
    "                                             client_secret=credentials['client_secret'])\n",
    "## creates an access token for you to do what you need to do\n",
    "cache_token = token.get_access_token()\n",
    "# probably need to check how much access it allows on default and if you need more access to do more interesting things\n"
   ]
  },
  {
   "cell_type": "code",
   "execution_count": 4,
   "metadata": {
    "ExecuteTime": {
     "end_time": "2019-04-21T22:28:10.036910Z",
     "start_time": "2019-04-21T22:28:10.034467Z"
    }
   },
   "outputs": [],
   "source": [
    "# need to create an object\n",
    "sp = spotipy.Spotify(cache_token)"
   ]
  },
  {
   "cell_type": "markdown",
   "metadata": {},
   "source": [
    "### Loading in data and search queries to use the API"
   ]
  },
  {
   "cell_type": "code",
   "execution_count": 5,
   "metadata": {
    "ExecuteTime": {
     "end_time": "2019-04-21T22:28:12.386132Z",
     "start_time": "2019-04-21T22:28:12.365305Z"
    }
   },
   "outputs": [],
   "source": [
    "data = pd.read_csv('data/billboards.csv')\n",
    "data.rename(columns={\n",
    "    'Artist': 'artist',\n",
    "    'Song':'song'\n",
    "}, inplace=True)\n",
    "data['search_queries'] = (data.artist +' '+ data.song).str.lower()"
   ]
  },
  {
   "cell_type": "code",
   "execution_count": 59,
   "metadata": {
    "ExecuteTime": {
     "end_time": "2019-04-21T23:07:47.338041Z",
     "start_time": "2019-04-21T23:07:47.333792Z"
    }
   },
   "outputs": [],
   "source": [
    "def get_features(df):\n",
    "    results_list = []\n",
    "    for queries in df.search_queries.values:\n",
    "        test = sp.search(q=queries, type = 'track', limit=1)\n",
    "        results = test['tracks']['items']\n",
    "        cleaned = clean_search_results(results) # returns a dictionary\n",
    "        cleaned['search_query'] = queries\n",
    "        results_list.append(cleaned)\n",
    "    yield list(results_list)"
   ]
  },
  {
   "cell_type": "code",
   "execution_count": 60,
   "metadata": {
    "ExecuteTime": {
     "end_time": "2019-04-21T23:08:00.342324Z",
     "start_time": "2019-04-21T23:07:50.878786Z"
    }
   },
   "outputs": [],
   "source": [
    "with open('output.pkl', 'wb') as filename:\n",
    "    results_list=[]\n",
    "    results_list.extend([x for x in get_features(data.head())]) # testing on the head only\n",
    "    pickle.dump(results_list[0], filename)\n",
    "    filename.close()"
   ]
  },
  {
   "cell_type": "code",
   "execution_count": 61,
   "metadata": {
    "ExecuteTime": {
     "end_time": "2019-04-21T23:08:03.144962Z",
     "start_time": "2019-04-21T23:08:03.139860Z"
    },
    "scrolled": true
   },
   "outputs": [
    {
     "data": {
      "text/plain": [
       "[[{'id': '1nX9KhK3Fff27SnrIor2Yb',\n",
       "   'name': '4 AM',\n",
       "   'artists': '2 Chainz, Travis Scott',\n",
       "   'popularity': 72,\n",
       "   'explicit': True,\n",
       "   'duration_ms': 255560,\n",
       "   'search_query': '2 chainz 4 am'},\n",
       "  {'id': '6H0AwSQ20mo62jGlPGB8S6',\n",
       "   'name': \"It's A Vibe\",\n",
       "   'artists': '2 Chainz, Ty Dolla $ign, Trey Songz, Jhene Aiko',\n",
       "   'popularity': 76,\n",
       "   'explicit': True,\n",
       "   'duration_ms': 210200,\n",
       "   'search_query': \"2 chainz it's a vibe\"},\n",
       "  {'id': '365wwIjijQdlRJEjUWTidq',\n",
       "   'name': 'PROUD',\n",
       "   'artists': '2 Chainz, YG, Offset',\n",
       "   'popularity': 61,\n",
       "   'explicit': True,\n",
       "   'duration_ms': 234666,\n",
       "   'search_query': '2 chainz proud'},\n",
       "  {'id': '',\n",
       "   'name': '',\n",
       "   'artists': '',\n",
       "   'popularity': '',\n",
       "   'explicit': '',\n",
       "   'duration_ms': '',\n",
       "   'search_query': '2 chainz x gucci mane x quavo good drank'},\n",
       "  {'id': '5S1IUPueD0xE0vj4zU3nSf',\n",
       "   'name': 'Bigger Than You (feat. Drake & Quavo)',\n",
       "   'artists': '2 Chainz, Drake, Quavo',\n",
       "   'popularity': 75,\n",
       "   'explicit': True,\n",
       "   'duration_ms': 225893,\n",
       "   'search_query': '2 chainz, drake bigger > you'}]]"
      ]
     },
     "execution_count": 61,
     "metadata": {},
     "output_type": "execute_result"
    }
   ],
   "source": [
    "results_list"
   ]
  },
  {
   "cell_type": "code",
   "execution_count": 62,
   "metadata": {
    "ExecuteTime": {
     "end_time": "2019-04-21T23:08:07.031462Z",
     "start_time": "2019-04-21T23:08:07.028184Z"
    }
   },
   "outputs": [],
   "source": [
    "test = pickle.load(open('output.pkl', 'rb'))"
   ]
  },
  {
   "cell_type": "code",
   "execution_count": 63,
   "metadata": {
    "ExecuteTime": {
     "end_time": "2019-04-21T23:08:07.388838Z",
     "start_time": "2019-04-21T23:08:07.376484Z"
    }
   },
   "outputs": [
    {
     "data": {
      "text/html": [
       "<div>\n",
       "<style scoped>\n",
       "    .dataframe tbody tr th:only-of-type {\n",
       "        vertical-align: middle;\n",
       "    }\n",
       "\n",
       "    .dataframe tbody tr th {\n",
       "        vertical-align: top;\n",
       "    }\n",
       "\n",
       "    .dataframe thead th {\n",
       "        text-align: right;\n",
       "    }\n",
       "</style>\n",
       "<table border=\"1\" class=\"dataframe\">\n",
       "  <thead>\n",
       "    <tr style=\"text-align: right;\">\n",
       "      <th></th>\n",
       "      <th>artists</th>\n",
       "      <th>duration_ms</th>\n",
       "      <th>explicit</th>\n",
       "      <th>id</th>\n",
       "      <th>name</th>\n",
       "      <th>popularity</th>\n",
       "      <th>search_query</th>\n",
       "    </tr>\n",
       "  </thead>\n",
       "  <tbody>\n",
       "    <tr>\n",
       "      <th>0</th>\n",
       "      <td>2 Chainz, Travis Scott</td>\n",
       "      <td>255560</td>\n",
       "      <td>True</td>\n",
       "      <td>1nX9KhK3Fff27SnrIor2Yb</td>\n",
       "      <td>4 AM</td>\n",
       "      <td>72</td>\n",
       "      <td>2 chainz 4 am</td>\n",
       "    </tr>\n",
       "    <tr>\n",
       "      <th>1</th>\n",
       "      <td>2 Chainz, Ty Dolla $ign, Trey Songz, Jhene Aiko</td>\n",
       "      <td>210200</td>\n",
       "      <td>True</td>\n",
       "      <td>6H0AwSQ20mo62jGlPGB8S6</td>\n",
       "      <td>It's A Vibe</td>\n",
       "      <td>76</td>\n",
       "      <td>2 chainz it's a vibe</td>\n",
       "    </tr>\n",
       "    <tr>\n",
       "      <th>2</th>\n",
       "      <td>2 Chainz, YG, Offset</td>\n",
       "      <td>234666</td>\n",
       "      <td>True</td>\n",
       "      <td>365wwIjijQdlRJEjUWTidq</td>\n",
       "      <td>PROUD</td>\n",
       "      <td>61</td>\n",
       "      <td>2 chainz proud</td>\n",
       "    </tr>\n",
       "    <tr>\n",
       "      <th>3</th>\n",
       "      <td></td>\n",
       "      <td></td>\n",
       "      <td></td>\n",
       "      <td></td>\n",
       "      <td></td>\n",
       "      <td></td>\n",
       "      <td>2 chainz x gucci mane x quavo good drank</td>\n",
       "    </tr>\n",
       "    <tr>\n",
       "      <th>4</th>\n",
       "      <td>2 Chainz, Drake, Quavo</td>\n",
       "      <td>225893</td>\n",
       "      <td>True</td>\n",
       "      <td>5S1IUPueD0xE0vj4zU3nSf</td>\n",
       "      <td>Bigger Than You (feat. Drake &amp; Quavo)</td>\n",
       "      <td>75</td>\n",
       "      <td>2 chainz, drake bigger &gt; you</td>\n",
       "    </tr>\n",
       "  </tbody>\n",
       "</table>\n",
       "</div>"
      ],
      "text/plain": [
       "                                           artists duration_ms explicit  \\\n",
       "0                           2 Chainz, Travis Scott      255560     True   \n",
       "1  2 Chainz, Ty Dolla $ign, Trey Songz, Jhene Aiko      210200     True   \n",
       "2                             2 Chainz, YG, Offset      234666     True   \n",
       "3                                                                         \n",
       "4                           2 Chainz, Drake, Quavo      225893     True   \n",
       "\n",
       "                       id                                   name popularity  \\\n",
       "0  1nX9KhK3Fff27SnrIor2Yb                                   4 AM         72   \n",
       "1  6H0AwSQ20mo62jGlPGB8S6                            It's A Vibe         76   \n",
       "2  365wwIjijQdlRJEjUWTidq                                  PROUD         61   \n",
       "3                                                                             \n",
       "4  5S1IUPueD0xE0vj4zU3nSf  Bigger Than You (feat. Drake & Quavo)         75   \n",
       "\n",
       "                               search_query  \n",
       "0                             2 chainz 4 am  \n",
       "1                      2 chainz it's a vibe  \n",
       "2                            2 chainz proud  \n",
       "3  2 chainz x gucci mane x quavo good drank  \n",
       "4              2 chainz, drake bigger > you  "
      ]
     },
     "execution_count": 63,
     "metadata": {},
     "output_type": "execute_result"
    }
   ],
   "source": [
    "pd.DataFrame(test) # NTS: i need to look back and review what popularity is"
   ]
  },
  {
   "cell_type": "code",
   "execution_count": null,
   "metadata": {},
   "outputs": [],
   "source": []
  }
 ],
 "metadata": {
  "kernelspec": {
   "display_name": "Python 3",
   "language": "python",
   "name": "python3"
  },
  "language_info": {
   "codemirror_mode": {
    "name": "ipython",
    "version": 3
   },
   "file_extension": ".py",
   "mimetype": "text/x-python",
   "name": "python",
   "nbconvert_exporter": "python",
   "pygments_lexer": "ipython3",
   "version": "3.7.3"
  }
 },
 "nbformat": 4,
 "nbformat_minor": 2
}
